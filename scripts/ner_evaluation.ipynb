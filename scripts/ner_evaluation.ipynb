{
 "cells": [
  {
   "cell_type": "markdown",
   "id": "67525bb4-7491-4028-a288-6f8fb3fbf6ee",
   "metadata": {},
   "source": [
    "# Evaluate NER performances"
   ]
  },
  {
   "cell_type": "code",
   "execution_count": 2,
   "id": "e83e4de8-3ec0-422b-80c3-3ba03beddde9",
   "metadata": {},
   "outputs": [],
   "source": [
    "import sys\n",
    "sys.path.insert(1, '../src')\n",
    "\n",
    "# from character_extraction import *\n",
    "from embeddings import *\n",
    "from evaluation_metrics import *"
   ]
  },
  {
   "cell_type": "code",
   "execution_count": 3,
   "id": "3924de7b-0b47-4174-a422-61745801593b",
   "metadata": {},
   "outputs": [
    {
     "name": "stderr",
     "output_type": "stream",
     "text": [
      "Some weights of the model checkpoint at flaubert/flaubert_base_cased were not used when initializing FlaubertModel: ['pred_layer.proj.weight', 'pred_layer.proj.bias']\n",
      "- This IS expected if you are initializing FlaubertModel from the checkpoint of a model trained on another task or with another architecture (e.g. initializing a BertForSequenceClassification model from a BertForPreTraining model).\n",
      "- This IS NOT expected if you are initializing FlaubertModel from the checkpoint of a model that you expect to be exactly identical (initializing a BertForSequenceClassification model from a BertForSequenceClassification model).\n",
      "100%|███████████████████████████████████████████████████████████████████████████████████████████████████████████████████████| 149/149 [04:02<00:00,  1.63s/it]\n"
     ]
    },
    {
     "name": "stdout",
     "output_type": "stream",
     "text": [
      "Word2Vec Embeddings - Skip-gram\n",
      "-------------------------------------------------------------------------------\n",
      "|                            | Same Entity-ness |  Gender  | First Appearance |\n",
      "-------------------------------------------------------------------------------\n",
      "| Silhouette Score           |     -0.02839     |  0.13205 |    -0.02364      |\n",
      "| Calinski Harabasz Score    |      0.75812     |  3.36991 |     1.17475      |\n",
      "| Davies Bouldin Score       |      0.81155     |  2.02885 |     0.59237      |\n",
      "| Rand Score                 |      0.99048     |  0.67619 |     0.99048      |\n",
      "| Adjusted Rand Score        |      0.00000     |  0.26769 |    -0.00478      |\n",
      "| Mutual Info Score          |      2.91249     |  0.07175 |     2.91249      |\n",
      "| Adjusted Mutual Info Score |      0.00000     |  0.09259 |    -0.00478      |\n",
      "-------------------------------------------------------------------------------\n"
     ]
    }
   ],
   "source": [
    "embeddings_dict = french_word_embeddings('flaubert/flaubert_base_cased', '798-8')\n",
    "embeddings = get_entities_embeddings('798-8', embeddings_dict)\n",
    "embeddings_type = 'first_version'\n",
    "\n",
    "print('Word2Vec Embeddings - Skip-gram')\n",
    "print_clustering_metrics(embeddings, embeddings_type)"
   ]
  },
  {
   "cell_type": "markdown",
   "id": "a23d2c76-3992-466c-9259-19616d87ce2b",
   "metadata": {},
   "source": [
    "Silhouette score : very near to 0 = overlapping clusters or points located in their borders\n",
    "calinski harabasz score : the higher the score, the better the clustering performance => very good for the genderness\n",
    "davies bouldin score : minimum and best score 0, best score for the first appearance\n",
    "rand score : values ranges from 0 to 1 (1 best score) => very good same entity-ness and first appearance score\n",
    "adjusted info score : very close to 0 => random clustering is the best ?\n",
    "mutual info score : better socre for same entity-ness and first appearance\n",
    "adjusted mutual info score : very close to 0 so doesn't tell a lot"
   ]
  },
  {
   "cell_type": "markdown",
   "id": "7f3179a7-6ca8-48d9-9c2b-8da6bd830138",
   "metadata": {},
   "source": [
    "Conclusion : might not be the best metric to assess ?"
   ]
  }
 ],
 "metadata": {
  "kernelspec": {
   "display_name": "Python 3 (ipykernel)",
   "language": "python",
   "name": "python3"
  },
  "language_info": {
   "codemirror_mode": {
    "name": "ipython",
    "version": 3
   },
   "file_extension": ".py",
   "mimetype": "text/x-python",
   "name": "python",
   "nbconvert_exporter": "python",
   "pygments_lexer": "ipython3",
   "version": "3.8.12"
  }
 },
 "nbformat": 4,
 "nbformat_minor": 5
}
