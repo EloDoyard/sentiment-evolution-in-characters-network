{
 "cells": [
  {
   "cell_type": "markdown",
   "id": "67525bb4-7491-4028-a288-6f8fb3fbf6ee",
   "metadata": {},
   "source": [
    "# Evaluate NER performances"
   ]
  },
  {
   "cell_type": "code",
   "execution_count": 1,
   "id": "e83e4de8-3ec0-422b-80c3-3ba03beddde9",
   "metadata": {},
   "outputs": [],
   "source": [
    "import sys\n",
    "sys.path.insert(1, '../src')\n",
    "\n",
    "# from character_extraction import *\n",
    "from embeddings import *\n",
    "from evaluation_metrics import *"
   ]
  },
  {
   "cell_type": "code",
   "execution_count": 2,
   "id": "3924de7b-0b47-4174-a422-61745801593b",
   "metadata": {},
   "outputs": [
    {
     "name": "stderr",
     "output_type": "stream",
     "text": [
      "Some weights of the model checkpoint at flaubert/flaubert_base_cased were not used when initializing FlaubertModel: ['pred_layer.proj.bias', 'pred_layer.proj.weight']\n",
      "- This IS expected if you are initializing FlaubertModel from the checkpoint of a model trained on another task or with another architecture (e.g. initializing a BertForSequenceClassification model from a BertForPreTraining model).\n",
      "- This IS NOT expected if you are initializing FlaubertModel from the checkpoint of a model that you expect to be exactly identical (initializing a BertForSequenceClassification model from a BertForSequenceClassification model).\n",
      "100%|███████████████████████████████████████████████████████████| 147/147 [13:13<00:00,  5.40s/it]\n"
     ]
    },
    {
     "name": "stdout",
     "output_type": "stream",
     "text": [
      "Word2Vec Embeddings - Skip-gram\n",
      "-------------------------------------------------------------------------------\n",
      "|                            | Same Entity-ness |  Gender  | First Appearance |\n",
      "-------------------------------------------------------------------------------\n",
      "| Silhouette Score           |     -0.05813     |  0.10487 |    -0.03120      |\n",
      "| Calinski Harabasz Score    |      0.41274     |  1.99229 |     1.06193      |\n",
      "| Davies Bouldin Score       |      0.96285     |  2.66959 |     0.67605      |\n",
      "| Rand Score                 |      0.99048     |  0.61905 |     0.99048      |\n",
      "| Adjusted Rand Score        |      0.00000     |  0.10160 |    -0.00478      |\n",
      "| Mutual Info Score          |      2.91249     |  0.01722 |     2.91249      |\n",
      "| Adjusted Mutual Info Score |      0.00000     | -0.03073 |    -0.00478      |\n",
      "-------------------------------------------------------------------------------\n"
     ]
    }
   ],
   "source": [
    "embeddings_dict = french_word_embeddings('flaubert/flaubert_base_cased', '798-8')\n",
    "embeddings = get_entities_embeddings('798-8', embeddings_dict)\n",
    "embeddings_type = 'first_version'\n",
    "\n",
    "print('Word2Vec Embeddings - Skip-gram')\n",
    "print_clustering_metrics(embeddings, embeddings_type)"
   ]
  }
 ],
 "metadata": {
  "kernelspec": {
   "display_name": "Python 3 (ipykernel)",
   "language": "python",
   "name": "python3"
  },
  "language_info": {
   "codemirror_mode": {
    "name": "ipython",
    "version": 3
   },
   "file_extension": ".py",
   "mimetype": "text/x-python",
   "name": "python",
   "nbconvert_exporter": "python",
   "pygments_lexer": "ipython3",
   "version": "3.8.12"
  }
 },
 "nbformat": 4,
 "nbformat_minor": 5
}
