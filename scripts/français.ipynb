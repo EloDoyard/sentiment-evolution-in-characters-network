{
 "cells": [
  {
   "cell_type": "code",
   "execution_count": 1,
   "id": "de9e4c29-42b3-4759-aa77-530c70614b97",
   "metadata": {},
   "outputs": [
    {
     "name": "stderr",
     "output_type": "stream",
     "text": [
      "100%|██████████| 7929/7929 [25:40<00:00,  5.15it/s]  \n"
     ]
    },
    {
     "data": {
      "text/plain": [
       "full_word\n",
       "julien       1439\n",
       "mathilde      339\n",
       "valenod        85\n",
       "fouqué         70\n",
       "ju             69\n",
       "sorel          64\n",
       "chélan         45\n",
       "altamira       33\n",
       "napoléon       32\n",
       "marquis        32\n",
       "élisa          32\n",
       "norbert        31\n",
       "rênal          28\n",
       "monsieur       24\n",
       "korasoff       20\n",
       "pirard         18\n",
       "évêque         18\n",
       "frilair        15\n",
       "abbé           15\n",
       "bonaparte      14\n",
       "maréchale      13\n",
       "voltaire       13\n",
       "danton         13\n",
       "horace         12\n",
       "maslon         12\n",
       "Name: score, dtype: int64"
      ]
     },
     "execution_count": 1,
     "metadata": {},
     "output_type": "execute_result"
    }
   ],
   "source": [
    "import sys\n",
    "sys.path.insert(1, '../src')\n",
    "\n",
    "from character_extraction import *\n",
    "\n",
    "rouge_noir_id = '798-8'\n",
    "(rouge_noir_text, \n",
    " rouge_noir_ent_tokens, \n",
    " rouge_noir_ent_words) = get_person_entities(rouge_noir_id, grouped_entities=True)\n",
    "\n",
    "# save entities into a dataframe, and to the disk\n",
    "rouge_noir_df = pd.DataFrame(rouge_noir_ent_words)\n",
    "# rouge_noir_df['full_word'] =  rouge_noir_df['full_word'].apply(lambda s: s.lower())\n",
    "rouge_noir_df.to_csv('../data/book_dfs/798-8.csv', index=False) \n",
    "\n",
    "# view top 25 entities\n",
    "(rouge_noir_df\n",
    " .drop_duplicates('total_word_index')\n",
    " .groupby('full_word')\n",
    " .count()\n",
    " .sort_values(by='score', ascending=False)\n",
    ")['score'][:25]"
   ]
  },
  {
   "cell_type": "code",
   "execution_count": null,
   "id": "501e16a8-01c7-4010-bb2f-bbc3d08b2318",
   "metadata": {},
   "outputs": [],
   "source": []
  }
 ],
 "metadata": {
  "kernelspec": {
   "display_name": "Python 3",
   "language": "python",
   "name": "python3"
  },
  "language_info": {
   "codemirror_mode": {
    "name": "ipython",
    "version": 3
   },
   "file_extension": ".py",
   "mimetype": "text/x-python",
   "name": "python",
   "nbconvert_exporter": "python",
   "pygments_lexer": "ipython3",
   "version": "3.8.8"
  }
 },
 "nbformat": 4,
 "nbformat_minor": 5
}
