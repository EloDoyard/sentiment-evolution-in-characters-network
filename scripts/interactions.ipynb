{
 "cells": [
  {
   "cell_type": "markdown",
   "id": "3b831698-28a6-46d8-8486-5d3b4f52bca0",
   "metadata": {
    "tags": []
   },
   "source": [
    "# Interaction between characters"
   ]
  },
  {
   "cell_type": "code",
   "execution_count": 1,
   "id": "9ec5d45d-c213-4078-8e00-6ae868947b7f",
   "metadata": {},
   "outputs": [],
   "source": [
    "import sys\n",
    "sys.path.insert(1, '../src')\n",
    "\n",
    "from book_entities import *\n",
    "from book_entities_embeddings_getters import *"
   ]
  },
  {
   "cell_type": "markdown",
   "id": "44623721-d982-41ab-bf06-61844a6e17b4",
   "metadata": {},
   "source": [
    "## Book entities"
   ]
  },
  {
   "cell_type": "code",
   "execution_count": 2,
   "id": "8b61ba71-b169-4170-8a3e-c7a6b1eef3ef",
   "metadata": {},
   "outputs": [],
   "source": [
    "# cleaned entities\n",
    "textually_close_merged_book_cleaned_entities, lax_merged_book_cleaned_entities = get_book_entities(\n",
    "    f'../data/book_entities/grouped_token_cleaned.csv')"
   ]
  },
  {
   "cell_type": "code",
   "execution_count": 3,
   "id": "7b20e1e5-e07f-4f4b-82d3-a369af333b19",
   "metadata": {},
   "outputs": [
    {
     "name": "stdout",
     "output_type": "stream",
     "text": [
      "0 Comte Altamira\n",
      "1 Amanda\n",
      "2 M Appert\n",
      "3 Bonaparte\n",
      "4 Abbé Castanède\n",
      "5 Caylus\n",
      "6 Abbé Chélan\n",
      "7 Croisenois\n",
      "8 Danton\n",
      "9 Mme Derville\n",
      "10 M Descoulis\n",
      "11 Dieu\n",
      "12 Falcoz\n",
      "13 M Fouqué\n",
      "14 Vicaire Frilair\n",
      "15 Geronimo\n",
      "16 Abbé Julien Sorel\n",
      "17 Mole Mathilde\n",
      "18 Prince Korasoff\n",
      "19 Estime\n",
      "20 Père Marquis\n",
      "21 Vicaire Maslon\n",
      "22 Général Napoléon\n",
      "23 Comte Norbert\n",
      "24 M Pirard\n",
      "25 Pitt\n",
      "26 M Rênal\n",
      "27 Mme Rênal\n",
      "28 Mère Stanislas\n",
      "29 Père Stanislas\n",
      "30 M Tanbeau\n",
      "31 M Valenod\n",
      "32 Élisa\n"
     ]
    }
   ],
   "source": [
    "for idx, i in enumerate(textually_close_merged_book_cleaned_entities) :\n",
    "    print(idx,BookEntity.from_list_entity(i).get_shortname())"
   ]
  },
  {
   "cell_type": "markdown",
   "id": "7f85823d-a6f5-4a78-9d39-fc028e511e4c",
   "metadata": {},
   "source": [
    "## Paragraphs"
   ]
  },
  {
   "cell_type": "code",
   "execution_count": 4,
   "id": "7d443787-416d-4f35-9f40-87b6db4581a1",
   "metadata": {},
   "outputs": [],
   "source": [
    "from bs4 import BeautifulSoup"
   ]
  },
  {
   "cell_type": "code",
   "execution_count": 5,
   "id": "804c164a-be2e-4542-b1b6-e043f05e4544",
   "metadata": {},
   "outputs": [],
   "source": [
    "# Reading the data inside the xml\n",
    "# file to a variable under the name\n",
    "# data\n",
    "with open('../data/book/stendhal_rougenoir_xml.xml', 'r') as f:\n",
    "\tdata = f.read()"
   ]
  },
  {
   "cell_type": "code",
   "execution_count": 6,
   "id": "71dc03d0-d7c2-4061-9f32-6ad9d9d238cb",
   "metadata": {
    "tags": []
   },
   "outputs": [],
   "source": [
    "# Passing the stored data inside\n",
    "# the beautifulsoup parser, storing\n",
    "# the returned object\n",
    "Bs_data = BeautifulSoup(data, \"xml\")"
   ]
  },
  {
   "cell_type": "code",
   "execution_count": 7,
   "id": "95795673-e7b8-4e45-8d34-1d7103339441",
   "metadata": {
    "tags": []
   },
   "outputs": [],
   "source": [
    "paragraphs = []\n",
    "for tag in Bs_data.find_all('p') :\n",
    "    if tag.name == 'p' and not ('rend' in tag.attrs) :\n",
    "        paragraphs.append(tag.get_text())"
   ]
  },
  {
   "cell_type": "markdown",
   "id": "e0b037bf-4d7f-45a8-8ba8-c28abefffcb1",
   "metadata": {},
   "source": [
    "### dialogue et narration"
   ]
  },
  {
   "cell_type": "code",
   "execution_count": 8,
   "id": "971570fa-3421-4665-a6a7-dbca0f01fdda",
   "metadata": {},
   "outputs": [],
   "source": [
    "narration = []\n",
    "temp_dialogue = []\n",
    "for p in paragraphs :\n",
    "    if isinstance(p, str) :\n",
    "        if p[0] == '–' :\n",
    "            temp_dialogue.append(p)\n",
    "        else :\n",
    "            if len(temp_dialogue)>0 :\n",
    "                narration.append(' '.join(temp_dialogue))\n",
    "                temp_dialogue=[]\n",
    "            narration.append(p)\n",
    "        "
   ]
  },
  {
   "cell_type": "markdown",
   "id": "244e5832-320e-4eff-8e9b-775f194cd53e",
   "metadata": {},
   "source": [
    "pour chaque paragraphe chercher si il contient une entité, puis regarder toutes les entités qu'il contient \n",
    "\n"
   ]
  },
  {
   "cell_type": "markdown",
   "id": "26dd7f62-f834-4e1d-8994-73a2fcc249eb",
   "metadata": {},
   "source": [
    "### narration"
   ]
  },
  {
   "cell_type": "code",
   "execution_count": 9,
   "id": "c7dd6c1b-5e5b-4c4c-a74f-7e5b3d566087",
   "metadata": {},
   "outputs": [],
   "source": [
    "def process_paragraph(p) :\n",
    "    \n",
    "    pattern1 = r\"\"\"[,.;@#?!&$\\s:–]+\"\"\"\n",
    "    pattern2 = r\"\"\"[-'’_]\"\"\"\n",
    "\n",
    "    p = re.sub(r'|'.join((pattern1, pattern2)),\n",
    "               \" \",          # and replace it with a single space\n",
    "               p.replace('\\xa0', ' '), flags=re.VERBOSE)\n",
    "    return [i.lower() for i in p.split(' ')[:-1] ]#if i.lower() not in french_stopwords]"
   ]
  },
  {
   "cell_type": "code",
   "execution_count": 10,
   "id": "0b2a680f-3ef3-49f6-beff-969ca2862b5a",
   "metadata": {},
   "outputs": [],
   "source": [
    "def entity_in_paragraph(entity, paragraph):\n",
    "    return [1 for address in entity.all_addresses if all(x.lower() in p for x in address.lower().split(' '))]"
   ]
  },
  {
   "cell_type": "code",
   "execution_count": 11,
   "id": "c8adbd33-ef2c-483a-882a-ea1cf04dd46e",
   "metadata": {},
   "outputs": [],
   "source": [
    "dict_interaction = {}\n",
    "for paragraph in narration :\n",
    "    p = process_paragraph(paragraph)\n",
    "    paragraph_entities = [\n",
    "        i for i in textually_close_merged_book_cleaned_entities if entity_in_paragraph(i, p)]\n",
    "    \n",
    "    if len(paragraph_entities)>=2 :\n",
    "        key = frozenset(paragraph_entities)\n",
    "        value = dict_interaction.get(key,[])\n",
    "        value.append(p)\n",
    "        dict_interaction[key] = value"
   ]
  },
  {
   "cell_type": "code",
   "execution_count": 12,
   "id": "fae95b81-4367-4651-8edf-2231be500f1a",
   "metadata": {},
   "outputs": [
    {
     "data": {
      "text/plain": [
       "199"
      ]
     },
     "execution_count": 12,
     "metadata": {},
     "output_type": "execute_result"
    }
   ],
   "source": [
    "len(dict_interaction)"
   ]
  },
  {
   "cell_type": "markdown",
   "id": "808ee9fc-eb2b-4211-a7cc-d95624a6d482",
   "metadata": {},
   "source": [
    "## DataFrame of Interactions"
   ]
  },
  {
   "cell_type": "code",
   "execution_count": 24,
   "id": "6429d67d-99f9-41f9-b5b9-1b0dc4be986f",
   "metadata": {},
   "outputs": [],
   "source": [
    "entities = []\n",
    "interactions = []\n",
    "for k, v in dict_interaction.items() :\n",
    "    entities.append([BookEntity.from_list_entity(ent).get_shortname() for ent in k])\n",
    "    interactions.append(v)\n",
    "    \n",
    "interactions_df = pd.DataFrame({'entities':entities, 'interactions' : interactions})"
   ]
  },
  {
   "cell_type": "code",
   "execution_count": 25,
   "id": "bb2127b9-0b26-4b1f-b836-b3967f8654c4",
   "metadata": {},
   "outputs": [
    {
     "data": {
      "text/html": [
       "<div>\n",
       "<style scoped>\n",
       "    .dataframe tbody tr th:only-of-type {\n",
       "        vertical-align: middle;\n",
       "    }\n",
       "\n",
       "    .dataframe tbody tr th {\n",
       "        vertical-align: top;\n",
       "    }\n",
       "\n",
       "    .dataframe thead th {\n",
       "        text-align: right;\n",
       "    }\n",
       "</style>\n",
       "<table border=\"1\" class=\"dataframe\">\n",
       "  <thead>\n",
       "    <tr style=\"text-align: right;\">\n",
       "      <th></th>\n",
       "      <th>entities</th>\n",
       "      <th>interactions</th>\n",
       "    </tr>\n",
       "  </thead>\n",
       "  <tbody>\n",
       "    <tr>\n",
       "      <th>0</th>\n",
       "      <td>[M Rênal, Abbé Julien Sorel]</td>\n",
       "      <td>[[ne, vous, attendez, point, à, trouver, en, f...</td>\n",
       "    </tr>\n",
       "    <tr>\n",
       "      <th>1</th>\n",
       "      <td>[M Rênal, Vicaire Maslon]</td>\n",
       "      <td>[[je, ne, trouve, quant, à, moi, qu, une, chos...</td>\n",
       "    </tr>\n",
       "    <tr>\n",
       "      <th>2</th>\n",
       "      <td>[M Rênal, Mme Rênal]</td>\n",
       "      <td>[[c, était, par, un, beau, jour, d, automne, q...</td>\n",
       "    </tr>\n",
       "    <tr>\n",
       "      <th>3</th>\n",
       "      <td>[M Rênal, M Valenod, Abbé Chélan]</td>\n",
       "      <td>[[tels, sont, les, faits, qui, commentés, exag...</td>\n",
       "    </tr>\n",
       "    <tr>\n",
       "      <th>4</th>\n",
       "      <td>[M Rênal, M Valenod]</td>\n",
       "      <td>[[les, reproches, de, m, de, rênal, et, surtou...</td>\n",
       "    </tr>\n",
       "  </tbody>\n",
       "</table>\n",
       "</div>"
      ],
      "text/plain": [
       "                            entities  \\\n",
       "0       [M Rênal, Abbé Julien Sorel]   \n",
       "1          [M Rênal, Vicaire Maslon]   \n",
       "2               [M Rênal, Mme Rênal]   \n",
       "3  [M Rênal, M Valenod, Abbé Chélan]   \n",
       "4               [M Rênal, M Valenod]   \n",
       "\n",
       "                                        interactions  \n",
       "0  [[ne, vous, attendez, point, à, trouver, en, f...  \n",
       "1  [[je, ne, trouve, quant, à, moi, qu, une, chos...  \n",
       "2  [[c, était, par, un, beau, jour, d, automne, q...  \n",
       "3  [[tels, sont, les, faits, qui, commentés, exag...  \n",
       "4  [[les, reproches, de, m, de, rênal, et, surtou...  "
      ]
     },
     "execution_count": 25,
     "metadata": {},
     "output_type": "execute_result"
    }
   ],
   "source": [
    "interactions_df.head()"
   ]
  },
  {
   "cell_type": "code",
   "execution_count": 26,
   "id": "91606031-e469-4434-9e2d-763287623f98",
   "metadata": {},
   "outputs": [
    {
     "data": {
      "text/html": [
       "<div>\n",
       "<style scoped>\n",
       "    .dataframe tbody tr th:only-of-type {\n",
       "        vertical-align: middle;\n",
       "    }\n",
       "\n",
       "    .dataframe tbody tr th {\n",
       "        vertical-align: top;\n",
       "    }\n",
       "\n",
       "    .dataframe thead th {\n",
       "        text-align: right;\n",
       "    }\n",
       "</style>\n",
       "<table border=\"1\" class=\"dataframe\">\n",
       "  <thead>\n",
       "    <tr style=\"text-align: right;\">\n",
       "      <th></th>\n",
       "      <th>entities</th>\n",
       "      <th>interactions</th>\n",
       "      <th>nber_interactions</th>\n",
       "    </tr>\n",
       "  </thead>\n",
       "  <tbody>\n",
       "    <tr>\n",
       "      <th>0</th>\n",
       "      <td>[M Rênal, Abbé Julien Sorel]</td>\n",
       "      <td>[[ne, vous, attendez, point, à, trouver, en, f...</td>\n",
       "      <td>50</td>\n",
       "    </tr>\n",
       "    <tr>\n",
       "      <th>1</th>\n",
       "      <td>[M Rênal, Vicaire Maslon]</td>\n",
       "      <td>[[je, ne, trouve, quant, à, moi, qu, une, chos...</td>\n",
       "      <td>1</td>\n",
       "    </tr>\n",
       "    <tr>\n",
       "      <th>2</th>\n",
       "      <td>[M Rênal, Mme Rênal]</td>\n",
       "      <td>[[c, était, par, un, beau, jour, d, automne, q...</td>\n",
       "      <td>12</td>\n",
       "    </tr>\n",
       "    <tr>\n",
       "      <th>3</th>\n",
       "      <td>[M Rênal, M Valenod, Abbé Chélan]</td>\n",
       "      <td>[[tels, sont, les, faits, qui, commentés, exag...</td>\n",
       "      <td>1</td>\n",
       "    </tr>\n",
       "    <tr>\n",
       "      <th>4</th>\n",
       "      <td>[M Rênal, M Valenod]</td>\n",
       "      <td>[[les, reproches, de, m, de, rênal, et, surtou...</td>\n",
       "      <td>8</td>\n",
       "    </tr>\n",
       "  </tbody>\n",
       "</table>\n",
       "</div>"
      ],
      "text/plain": [
       "                            entities  \\\n",
       "0       [M Rênal, Abbé Julien Sorel]   \n",
       "1          [M Rênal, Vicaire Maslon]   \n",
       "2               [M Rênal, Mme Rênal]   \n",
       "3  [M Rênal, M Valenod, Abbé Chélan]   \n",
       "4               [M Rênal, M Valenod]   \n",
       "\n",
       "                                        interactions  nber_interactions  \n",
       "0  [[ne, vous, attendez, point, à, trouver, en, f...                 50  \n",
       "1  [[je, ne, trouve, quant, à, moi, qu, une, chos...                  1  \n",
       "2  [[c, était, par, un, beau, jour, d, automne, q...                 12  \n",
       "3  [[tels, sont, les, faits, qui, commentés, exag...                  1  \n",
       "4  [[les, reproches, de, m, de, rênal, et, surtou...                  8  "
      ]
     },
     "execution_count": 26,
     "metadata": {},
     "output_type": "execute_result"
    }
   ],
   "source": [
    "interactions_df['nber_interactions']= interactions_df.interactions.apply(lambda x : len(x))\n",
    "interactions_df.head()"
   ]
  },
  {
   "cell_type": "code",
   "execution_count": 27,
   "id": "684c1077-2996-4956-9097-aa0eedc7ccc4",
   "metadata": {},
   "outputs": [],
   "source": [
    "interactions_df = interactions_df.sort_values(by = 'nber_interactions', ascending = False)"
   ]
  },
  {
   "cell_type": "code",
   "execution_count": 28,
   "id": "6691c10f-cb72-436f-93d6-5155308397ed",
   "metadata": {},
   "outputs": [
    {
     "data": {
      "text/plain": [
       "(199, 3)"
      ]
     },
     "execution_count": 28,
     "metadata": {},
     "output_type": "execute_result"
    }
   ],
   "source": [
    "interactions_df.shape"
   ]
  },
  {
   "cell_type": "code",
   "execution_count": 29,
   "id": "83e93758-ce04-467a-9baa-fefa599cb799",
   "metadata": {},
   "outputs": [
    {
     "data": {
      "text/html": [
       "<div>\n",
       "<style scoped>\n",
       "    .dataframe tbody tr th:only-of-type {\n",
       "        vertical-align: middle;\n",
       "    }\n",
       "\n",
       "    .dataframe tbody tr th {\n",
       "        vertical-align: top;\n",
       "    }\n",
       "\n",
       "    .dataframe thead th {\n",
       "        text-align: right;\n",
       "    }\n",
       "</style>\n",
       "<table border=\"1\" class=\"dataframe\">\n",
       "  <thead>\n",
       "    <tr style=\"text-align: right;\">\n",
       "      <th></th>\n",
       "      <th>entities</th>\n",
       "      <th>interactions</th>\n",
       "      <th>nber_interactions</th>\n",
       "    </tr>\n",
       "  </thead>\n",
       "  <tbody>\n",
       "    <tr>\n",
       "      <th>16</th>\n",
       "      <td>[Abbé Julien Sorel, Mme Rênal]</td>\n",
       "      <td>[[julien, n, était, pas, la, seule, personne, ...</td>\n",
       "      <td>121</td>\n",
       "    </tr>\n",
       "    <tr>\n",
       "      <th>107</th>\n",
       "      <td>[Abbé Julien Sorel, Mole Mathilde]</td>\n",
       "      <td>[[le, lendemain, de, fort, bonne, heure, julie...</td>\n",
       "      <td>103</td>\n",
       "    </tr>\n",
       "    <tr>\n",
       "      <th>0</th>\n",
       "      <td>[M Rênal, Abbé Julien Sorel]</td>\n",
       "      <td>[[ne, vous, attendez, point, à, trouver, en, f...</td>\n",
       "      <td>50</td>\n",
       "    </tr>\n",
       "    <tr>\n",
       "      <th>77</th>\n",
       "      <td>[M Pirard, Abbé Julien Sorel]</td>\n",
       "      <td>[[julien, releva, les, yeux, avec, effort, et,...</td>\n",
       "      <td>39</td>\n",
       "    </tr>\n",
       "    <tr>\n",
       "      <th>8</th>\n",
       "      <td>[Abbé Julien Sorel, Dieu]</td>\n",
       "      <td>[[«, descends, animal, que, je, te, parle, », ...</td>\n",
       "      <td>28</td>\n",
       "    </tr>\n",
       "    <tr>\n",
       "      <th>...</th>\n",
       "      <td>...</td>\n",
       "      <td>...</td>\n",
       "      <td>...</td>\n",
       "    </tr>\n",
       "    <tr>\n",
       "      <th>1</th>\n",
       "      <td>[M Rênal, Vicaire Maslon]</td>\n",
       "      <td>[[je, ne, trouve, quant, à, moi, qu, une, chos...</td>\n",
       "      <td>1</td>\n",
       "    </tr>\n",
       "    <tr>\n",
       "      <th>81</th>\n",
       "      <td>[M Pirard, Dieu]</td>\n",
       "      <td>[[eh, bon, dieu, pour, qui, me, prend, on, se,...</td>\n",
       "      <td>1</td>\n",
       "    </tr>\n",
       "    <tr>\n",
       "      <th>87</th>\n",
       "      <td>[Abbé Castanède, Dieu]</td>\n",
       "      <td>[[à, ces, jeunes, paysans, si, effrayés, du, t...</td>\n",
       "      <td>1</td>\n",
       "    </tr>\n",
       "    <tr>\n",
       "      <th>94</th>\n",
       "      <td>[Abbé Chélan, Mme Rênal]</td>\n",
       "      <td>[[le, lendemain, vers, midi, il, arriva, dans,...</td>\n",
       "      <td>1</td>\n",
       "    </tr>\n",
       "    <tr>\n",
       "      <th>198</th>\n",
       "      <td>[M Valenod, Vicaire Maslon]</td>\n",
       "      <td>[[soyons, heureux, pendant, le, petit, nombre,...</td>\n",
       "      <td>1</td>\n",
       "    </tr>\n",
       "  </tbody>\n",
       "</table>\n",
       "<p>75 rows × 3 columns</p>\n",
       "</div>"
      ],
      "text/plain": [
       "                               entities  \\\n",
       "16       [Abbé Julien Sorel, Mme Rênal]   \n",
       "107  [Abbé Julien Sorel, Mole Mathilde]   \n",
       "0          [M Rênal, Abbé Julien Sorel]   \n",
       "77        [M Pirard, Abbé Julien Sorel]   \n",
       "8             [Abbé Julien Sorel, Dieu]   \n",
       "..                                  ...   \n",
       "1             [M Rênal, Vicaire Maslon]   \n",
       "81                     [M Pirard, Dieu]   \n",
       "87               [Abbé Castanède, Dieu]   \n",
       "94             [Abbé Chélan, Mme Rênal]   \n",
       "198         [M Valenod, Vicaire Maslon]   \n",
       "\n",
       "                                          interactions  nber_interactions  \n",
       "16   [[julien, n, était, pas, la, seule, personne, ...                121  \n",
       "107  [[le, lendemain, de, fort, bonne, heure, julie...                103  \n",
       "0    [[ne, vous, attendez, point, à, trouver, en, f...                 50  \n",
       "77   [[julien, releva, les, yeux, avec, effort, et,...                 39  \n",
       "8    [[«, descends, animal, que, je, te, parle, », ...                 28  \n",
       "..                                                 ...                ...  \n",
       "1    [[je, ne, trouve, quant, à, moi, qu, une, chos...                  1  \n",
       "81   [[eh, bon, dieu, pour, qui, me, prend, on, se,...                  1  \n",
       "87   [[à, ces, jeunes, paysans, si, effrayés, du, t...                  1  \n",
       "94   [[le, lendemain, vers, midi, il, arriva, dans,...                  1  \n",
       "198  [[soyons, heureux, pendant, le, petit, nombre,...                  1  \n",
       "\n",
       "[75 rows x 3 columns]"
      ]
     },
     "execution_count": 29,
     "metadata": {},
     "output_type": "execute_result"
    }
   ],
   "source": [
    "interactions_df[interactions_df.entities.apply(lambda x : len(x) == 2)]"
   ]
  },
  {
   "cell_type": "markdown",
   "id": "8f98e2b3-7643-4c13-b460-e820f7f9647f",
   "metadata": {},
   "source": [
    "### embeddings of interactions"
   ]
  },
  {
   "cell_type": "code",
   "execution_count": null,
   "id": "9a63aa36-507d-4a42-a17b-c721701a24e2",
   "metadata": {},
   "outputs": [],
   "source": []
  }
 ],
 "metadata": {
  "kernelspec": {
   "display_name": "Python 3 (ipykernel)",
   "language": "python",
   "name": "python3"
  },
  "language_info": {
   "codemirror_mode": {
    "name": "ipython",
    "version": 3
   },
   "file_extension": ".py",
   "mimetype": "text/x-python",
   "name": "python",
   "nbconvert_exporter": "python",
   "pygments_lexer": "ipython3",
   "version": "3.8.12"
  }
 },
 "nbformat": 4,
 "nbformat_minor": 5
}
