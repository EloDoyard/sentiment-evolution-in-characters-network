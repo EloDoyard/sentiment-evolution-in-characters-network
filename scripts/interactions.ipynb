{
 "cells": [
  {
   "cell_type": "markdown",
   "id": "3b831698-28a6-46d8-8486-5d3b4f52bca0",
   "metadata": {
    "tags": []
   },
   "source": [
    "# Interaction between characters"
   ]
  },
  {
   "cell_type": "code",
   "execution_count": 1,
   "id": "9ec5d45d-c213-4078-8e00-6ae868947b7f",
   "metadata": {},
   "outputs": [],
   "source": [
    "import sys\n",
    "sys.path.insert(1, '../src')\n",
    "\n",
    "from book_entities import *\n",
    "from book_entities_embeddings_getters import *"
   ]
  },
  {
   "cell_type": "markdown",
   "id": "44623721-d982-41ab-bf06-61844a6e17b4",
   "metadata": {},
   "source": [
    "## Book entities"
   ]
  },
  {
   "cell_type": "code",
   "execution_count": 2,
   "id": "8b61ba71-b169-4170-8a3e-c7a6b1eef3ef",
   "metadata": {},
   "outputs": [],
   "source": [
    "# cleaned entities\n",
    "textually_close_merged_book_cleaned_entities, lax_merged_book_cleaned_entities = get_book_entities(\n",
    "    f'../data/book_entities/grouped_token_cleaned.csv')"
   ]
  },
  {
   "cell_type": "raw",
   "id": "343e2006-54af-4afa-9fec-a2f698b2887e",
   "metadata": {},
   "source": [
    "for idx, i in enumerate(textually_close_merged_book_cleaned_entities) :\n",
    "    print(idx,BookEntity.from_list_entity(i).get_shortname())"
   ]
  },
  {
   "cell_type": "markdown",
   "id": "7f85823d-a6f5-4a78-9d39-fc028e511e4c",
   "metadata": {},
   "source": [
    "## Paragraphs"
   ]
  },
  {
   "cell_type": "code",
   "execution_count": 3,
   "id": "7d443787-416d-4f35-9f40-87b6db4581a1",
   "metadata": {},
   "outputs": [],
   "source": [
    "from bs4 import BeautifulSoup"
   ]
  },
  {
   "cell_type": "code",
   "execution_count": 4,
   "id": "804c164a-be2e-4542-b1b6-e043f05e4544",
   "metadata": {},
   "outputs": [],
   "source": [
    "# Reading the data inside the xml\n",
    "# file to a variable under the name\n",
    "# data\n",
    "with open('../data/book/stendhal_rougenoir_xml.xml', 'r') as f:\n",
    "\tdata = f.read()"
   ]
  },
  {
   "cell_type": "code",
   "execution_count": 5,
   "id": "71dc03d0-d7c2-4061-9f32-6ad9d9d238cb",
   "metadata": {
    "tags": []
   },
   "outputs": [],
   "source": [
    "# Passing the stored data inside\n",
    "# the beautifulsoup parser, storing\n",
    "# the returned object\n",
    "Bs_data = BeautifulSoup(data, \"xml\")"
   ]
  },
  {
   "cell_type": "code",
   "execution_count": 6,
   "id": "95795673-e7b8-4e45-8d34-1d7103339441",
   "metadata": {
    "tags": []
   },
   "outputs": [],
   "source": [
    "paragraphs = []\n",
    "for tag in Bs_data.find_all('p') :\n",
    "    if tag.name == 'p' and not ('rend' in tag.attrs) :\n",
    "        paragraphs.append(tag.get_text())"
   ]
  },
  {
   "cell_type": "markdown",
   "id": "e0b037bf-4d7f-45a8-8ba8-c28abefffcb1",
   "metadata": {},
   "source": [
    "### dialogue et narration"
   ]
  },
  {
   "cell_type": "code",
   "execution_count": 7,
   "id": "971570fa-3421-4665-a6a7-dbca0f01fdda",
   "metadata": {},
   "outputs": [],
   "source": [
    "narration = []\n",
    "temp_dialogue = []\n",
    "for p in paragraphs :\n",
    "    if isinstance(p, str) :\n",
    "        if p[0] == '–' :\n",
    "            temp_dialogue.append(p)\n",
    "        else :\n",
    "            if len(temp_dialogue)>0 :\n",
    "                narration.append(' '.join(temp_dialogue))\n",
    "                temp_dialogue=[]\n",
    "            narration.append(p)\n",
    "        "
   ]
  },
  {
   "cell_type": "markdown",
   "id": "244e5832-320e-4eff-8e9b-775f194cd53e",
   "metadata": {},
   "source": [
    "pour chaque paragraphe chercher si il contient une entité, puis regarder toutes les entités qu'il contient \n",
    "\n"
   ]
  },
  {
   "cell_type": "markdown",
   "id": "26dd7f62-f834-4e1d-8994-73a2fcc249eb",
   "metadata": {},
   "source": [
    "### narration"
   ]
  },
  {
   "cell_type": "code",
   "execution_count": 8,
   "id": "c7dd6c1b-5e5b-4c4c-a74f-7e5b3d566087",
   "metadata": {},
   "outputs": [],
   "source": [
    "def process_paragraph(p) :\n",
    "    \n",
    "    pattern1 = r\"\"\"[,.;@#?!&$\\s:–]+\"\"\"\n",
    "    pattern2 = r\"\"\"[-'’_]\"\"\"\n",
    "\n",
    "    p = re.sub(r'|'.join((pattern1, pattern2)),\n",
    "               \" \",          # and replace it with a single space\n",
    "               p.replace('\\xa0', ' '), flags=re.VERBOSE)\n",
    "    return [i.lower() for i in p.split(' ')[:-1] if i.lower() not in french_stopwords]"
   ]
  },
  {
   "cell_type": "code",
   "execution_count": 9,
   "id": "0b2a680f-3ef3-49f6-beff-969ca2862b5a",
   "metadata": {},
   "outputs": [],
   "source": [
    "def entity_in_paragraph(entity, paragraph):\n",
    "    return [1 for address in entity.all_addresses if all(x.lower() in p for x in address.lower().split(' '))]"
   ]
  },
  {
   "cell_type": "code",
   "execution_count": 10,
   "id": "c8adbd33-ef2c-483a-882a-ea1cf04dd46e",
   "metadata": {},
   "outputs": [],
   "source": [
    "dict_interaction = {}\n",
    "for paragraph in narration :\n",
    "    p = process_paragraph(paragraph)\n",
    "    paragraph_entities = [\n",
    "        i for i in textually_close_merged_book_cleaned_entities if entity_in_paragraph(i, p)]\n",
    "    \n",
    "    if len(paragraph_entities)>=2 :\n",
    "        key = frozenset(paragraph_entities)\n",
    "        value = dict_interaction.get(key,[])\n",
    "        value.append(p)\n",
    "        dict_interaction[key] = value"
   ]
  },
  {
   "cell_type": "code",
   "execution_count": 11,
   "id": "fae95b81-4367-4651-8edf-2231be500f1a",
   "metadata": {},
   "outputs": [
    {
     "data": {
      "text/plain": [
       "199"
      ]
     },
     "execution_count": 11,
     "metadata": {},
     "output_type": "execute_result"
    }
   ],
   "source": [
    "len(dict_interaction)"
   ]
  },
  {
   "cell_type": "markdown",
   "id": "808ee9fc-eb2b-4211-a7cc-d95624a6d482",
   "metadata": {},
   "source": [
    "## DataFrame of Interactions"
   ]
  },
  {
   "cell_type": "code",
   "execution_count": 12,
   "id": "6429d67d-99f9-41f9-b5b9-1b0dc4be986f",
   "metadata": {},
   "outputs": [],
   "source": [
    "entities = []\n",
    "interactions = []\n",
    "for k, v in dict_interaction.items() :\n",
    "    entities.append([BookEntity.from_list_entity(ent).get_shortname() for ent in k])\n",
    "    interactions.append(v)\n",
    "    \n",
    "interactions_df = pd.DataFrame({'entities':entities, 'interactions' : interactions})"
   ]
  },
  {
   "cell_type": "code",
   "execution_count": 13,
   "id": "bb2127b9-0b26-4b1f-b836-b3967f8654c4",
   "metadata": {},
   "outputs": [
    {
     "data": {
      "text/html": [
       "<div>\n",
       "<style scoped>\n",
       "    .dataframe tbody tr th:only-of-type {\n",
       "        vertical-align: middle;\n",
       "    }\n",
       "\n",
       "    .dataframe tbody tr th {\n",
       "        vertical-align: top;\n",
       "    }\n",
       "\n",
       "    .dataframe thead th {\n",
       "        text-align: right;\n",
       "    }\n",
       "</style>\n",
       "<table border=\"1\" class=\"dataframe\">\n",
       "  <thead>\n",
       "    <tr style=\"text-align: right;\">\n",
       "      <th></th>\n",
       "      <th>entities</th>\n",
       "      <th>interactions</th>\n",
       "    </tr>\n",
       "  </thead>\n",
       "  <tbody>\n",
       "    <tr>\n",
       "      <th>0</th>\n",
       "      <td>[Abbé Julien Sorel, M Rênal]</td>\n",
       "      <td>[[attendez, point, trouver, france, jardins, p...</td>\n",
       "    </tr>\n",
       "    <tr>\n",
       "      <th>1</th>\n",
       "      <td>[M Rênal, Vicaire Maslon]</td>\n",
       "      <td>[[trouve, chose, reprendre, cours, fidelite, l...</td>\n",
       "    </tr>\n",
       "    <tr>\n",
       "      <th>2</th>\n",
       "      <td>[Mme Rênal, M Rênal]</td>\n",
       "      <td>[[jour, automne, m, rênal, promenait, cours, f...</td>\n",
       "    </tr>\n",
       "    <tr>\n",
       "      <th>3</th>\n",
       "      <td>[M Rênal, M Valenod, Abbé Chélan]</td>\n",
       "      <td>[[faits, commentés, exagérés, façons, agitaien...</td>\n",
       "    </tr>\n",
       "    <tr>\n",
       "      <th>4</th>\n",
       "      <td>[M Rênal, M Valenod]</td>\n",
       "      <td>[[reproches, m, rênal, m, valenod, directeur, ...</td>\n",
       "    </tr>\n",
       "  </tbody>\n",
       "</table>\n",
       "</div>"
      ],
      "text/plain": [
       "                            entities  \\\n",
       "0       [Abbé Julien Sorel, M Rênal]   \n",
       "1          [M Rênal, Vicaire Maslon]   \n",
       "2               [Mme Rênal, M Rênal]   \n",
       "3  [M Rênal, M Valenod, Abbé Chélan]   \n",
       "4               [M Rênal, M Valenod]   \n",
       "\n",
       "                                        interactions  \n",
       "0  [[attendez, point, trouver, france, jardins, p...  \n",
       "1  [[trouve, chose, reprendre, cours, fidelite, l...  \n",
       "2  [[jour, automne, m, rênal, promenait, cours, f...  \n",
       "3  [[faits, commentés, exagérés, façons, agitaien...  \n",
       "4  [[reproches, m, rênal, m, valenod, directeur, ...  "
      ]
     },
     "execution_count": 13,
     "metadata": {},
     "output_type": "execute_result"
    }
   ],
   "source": [
    "interactions_df.head()"
   ]
  },
  {
   "cell_type": "code",
   "execution_count": 14,
   "id": "91606031-e469-4434-9e2d-763287623f98",
   "metadata": {},
   "outputs": [
    {
     "data": {
      "text/html": [
       "<div>\n",
       "<style scoped>\n",
       "    .dataframe tbody tr th:only-of-type {\n",
       "        vertical-align: middle;\n",
       "    }\n",
       "\n",
       "    .dataframe tbody tr th {\n",
       "        vertical-align: top;\n",
       "    }\n",
       "\n",
       "    .dataframe thead th {\n",
       "        text-align: right;\n",
       "    }\n",
       "</style>\n",
       "<table border=\"1\" class=\"dataframe\">\n",
       "  <thead>\n",
       "    <tr style=\"text-align: right;\">\n",
       "      <th></th>\n",
       "      <th>entities</th>\n",
       "      <th>interactions</th>\n",
       "      <th>nber_interactions</th>\n",
       "    </tr>\n",
       "  </thead>\n",
       "  <tbody>\n",
       "    <tr>\n",
       "      <th>0</th>\n",
       "      <td>[Abbé Julien Sorel, M Rênal]</td>\n",
       "      <td>[[attendez, point, trouver, france, jardins, p...</td>\n",
       "      <td>50</td>\n",
       "    </tr>\n",
       "    <tr>\n",
       "      <th>1</th>\n",
       "      <td>[M Rênal, Vicaire Maslon]</td>\n",
       "      <td>[[trouve, chose, reprendre, cours, fidelite, l...</td>\n",
       "      <td>1</td>\n",
       "    </tr>\n",
       "    <tr>\n",
       "      <th>2</th>\n",
       "      <td>[Mme Rênal, M Rênal]</td>\n",
       "      <td>[[jour, automne, m, rênal, promenait, cours, f...</td>\n",
       "      <td>12</td>\n",
       "    </tr>\n",
       "    <tr>\n",
       "      <th>3</th>\n",
       "      <td>[M Rênal, M Valenod, Abbé Chélan]</td>\n",
       "      <td>[[faits, commentés, exagérés, façons, agitaien...</td>\n",
       "      <td>1</td>\n",
       "    </tr>\n",
       "    <tr>\n",
       "      <th>4</th>\n",
       "      <td>[M Rênal, M Valenod]</td>\n",
       "      <td>[[reproches, m, rênal, m, valenod, directeur, ...</td>\n",
       "      <td>8</td>\n",
       "    </tr>\n",
       "  </tbody>\n",
       "</table>\n",
       "</div>"
      ],
      "text/plain": [
       "                            entities  \\\n",
       "0       [Abbé Julien Sorel, M Rênal]   \n",
       "1          [M Rênal, Vicaire Maslon]   \n",
       "2               [Mme Rênal, M Rênal]   \n",
       "3  [M Rênal, M Valenod, Abbé Chélan]   \n",
       "4               [M Rênal, M Valenod]   \n",
       "\n",
       "                                        interactions  nber_interactions  \n",
       "0  [[attendez, point, trouver, france, jardins, p...                 50  \n",
       "1  [[trouve, chose, reprendre, cours, fidelite, l...                  1  \n",
       "2  [[jour, automne, m, rênal, promenait, cours, f...                 12  \n",
       "3  [[faits, commentés, exagérés, façons, agitaien...                  1  \n",
       "4  [[reproches, m, rênal, m, valenod, directeur, ...                  8  "
      ]
     },
     "execution_count": 14,
     "metadata": {},
     "output_type": "execute_result"
    }
   ],
   "source": [
    "interactions_df['nber_interactions']= interactions_df.interactions.apply(lambda x : len(x))\n",
    "interactions_df.head()"
   ]
  },
  {
   "cell_type": "code",
   "execution_count": 15,
   "id": "684c1077-2996-4956-9097-aa0eedc7ccc4",
   "metadata": {},
   "outputs": [],
   "source": [
    "interactions_df = interactions_df.sort_values(by = 'nber_interactions', ascending = False)"
   ]
  },
  {
   "cell_type": "markdown",
   "id": "8f98e2b3-7643-4c13-b460-e820f7f9647f",
   "metadata": {
    "tags": []
   },
   "source": [
    "### embeddings of interactions"
   ]
  },
  {
   "cell_type": "code",
   "execution_count": 16,
   "id": "f5cee418-000f-4db0-b1f7-16a2a0b1cb40",
   "metadata": {
    "tags": []
   },
   "outputs": [
    {
     "name": "stderr",
     "output_type": "stream",
     "text": [
      "Some weights of the model checkpoint at flaubert/flaubert_base_cased were not used when initializing FlaubertModel: ['pred_layer.proj.bias', 'pred_layer.proj.weight']\n",
      "- This IS expected if you are initializing FlaubertModel from the checkpoint of a model trained on another task or with another architecture (e.g. initializing a BertForSequenceClassification model from a BertForPreTraining model).\n",
      "- This IS NOT expected if you are initializing FlaubertModel from the checkpoint of a model that you expect to be exactly identical (initializing a BertForSequenceClassification model from a BertForSequenceClassification model).\n"
     ]
    }
   ],
   "source": [
    "model_name = 'flaubert/flaubert_base_cased' \n",
    "\n",
    "# Load pretrained model and tokenizer\n",
    "flaubert, log = FlaubertModel.from_pretrained(model_name, output_loading_info=True)\n",
    "flaubert_tokenizer = FlaubertTokenizer.from_pretrained(model_name, do_lowercase=False)\n",
    "\n",
    "def from_interaction_to_embeddings (list_interactions) :\n",
    "    embeddings = []\n",
    "    for interaction in list_interactions :\n",
    "        token_ids = torch.tensor([flaubert_tokenizer.encode(interaction)])\n",
    "        last_layer = flaubert(token_ids)[0][:,1:-1, :]\n",
    "\n",
    "        # possibilité de faire d'autres opérations\n",
    "        # embeddings.append(torch.mean(last_layer, dim = 1).detach().numpy()[0])\n",
    "        embeddings.append(last_layer.detach().numpy())\n",
    "    return embeddings\n",
    "\n",
    "interactions_df['embeddings'] = interactions_df.interactions.apply(\n",
    "    lambda x : from_interaction_to_embeddings(x))\n",
    "                                                             "
   ]
  },
  {
   "cell_type": "code",
   "execution_count": 17,
   "id": "21f1bcf9-21f2-483d-a354-04a848046b82",
   "metadata": {},
   "outputs": [],
   "source": [
    "renal_sorel = interactions_df.iloc[0].embeddings"
   ]
  },
  {
   "cell_type": "code",
   "execution_count": 18,
   "id": "90fecb68-5d73-4f2f-8c54-321ea9a59fd7",
   "metadata": {},
   "outputs": [
    {
     "data": {
      "text/plain": [
       "16              [Mme Rênal, Abbé Julien Sorel]\n",
       "107         [Abbé Julien Sorel, Mole Mathilde]\n",
       "0                 [Abbé Julien Sorel, M Rênal]\n",
       "77               [Abbé Julien Sorel, M Pirard]\n",
       "17     [Mme Rênal, Abbé Julien Sorel, M Rênal]\n",
       "Name: entities, dtype: object"
      ]
     },
     "execution_count": 18,
     "metadata": {},
     "output_type": "execute_result"
    }
   ],
   "source": [
    "interactions_df.entities.head()"
   ]
  },
  {
   "cell_type": "code",
   "execution_count": 19,
   "id": "420f95d3-dea0-4fb9-a4d0-bde7f5096ff5",
   "metadata": {},
   "outputs": [],
   "source": [
    "mole_sorel = interactions_df.iloc[1].embeddings"
   ]
  },
  {
   "cell_type": "markdown",
   "id": "237d939f-21dc-4612-9a82-5572869f2ff9",
   "metadata": {
    "tags": []
   },
   "source": [
    "## PCA"
   ]
  },
  {
   "cell_type": "code",
   "execution_count": 20,
   "id": "f98f8ff6-f4e3-4915-962e-80ec4fc1802c",
   "metadata": {
    "tags": []
   },
   "outputs": [],
   "source": [
    "from sklearn.decomposition import PCA"
   ]
  },
  {
   "cell_type": "code",
   "execution_count": 21,
   "id": "022e31d0-1fc8-4414-a66d-032cd82b23ec",
   "metadata": {
    "tags": []
   },
   "outputs": [
    {
     "name": "stderr",
     "output_type": "stream",
     "text": [
      "100%|███████████████████████████████████████████████████████████████████████████████████████████████████████████████████████| 121/121 [00:03<00:00, 33.43it/s]\n"
     ]
    }
   ],
   "source": [
    "renal_sorel_pca = []\n",
    "for emb in tqdm(renal_sorel) :\n",
    "    pca = PCA(n_components=2, svd_solver = 'arpack')\n",
    "    temp = pd.DataFrame(emb[0])\n",
    "    components = pca.fit_transform(temp)\n",
    "    renal_sorel_pca.append(components)"
   ]
  },
  {
   "cell_type": "code",
   "execution_count": 24,
   "id": "1b243cee-85f8-49f1-9f6f-00f589351841",
   "metadata": {
    "tags": []
   },
   "outputs": [
    {
     "name": "stderr",
     "output_type": "stream",
     "text": [
      "100%|███████████████████████████████████████████████████████████████████████████████████████████████████████████████████████| 103/103 [00:02<00:00, 42.52it/s]\n"
     ]
    }
   ],
   "source": [
    "mole_sorel_pca = []\n",
    "for emb in tqdm(mole_sorel) :\n",
    "    pca = PCA(n_components=2, svd_solver = 'arpack')\n",
    "    temp = pd.DataFrame(emb[0])\n",
    "    components = pca.fit_transform(temp)\n",
    "    mole_sorel_pca.append(components)"
   ]
  },
  {
   "cell_type": "code",
   "execution_count": 25,
   "id": "a30234da-a1d6-4afa-8210-0a4b3cf47265",
   "metadata": {
    "tags": []
   },
   "outputs": [
    {
     "name": "stderr",
     "output_type": "stream",
     "text": [
      "100%|█████████████████████████████████████████████████████████████████████████████████████████████████████████████████████████| 50/50 [00:01<00:00, 42.92it/s]\n"
     ]
    }
   ],
   "source": [
    "renal_m_sorel = interactions_df.iloc[2].embeddings\n",
    "renal_m_sorel_pca = []\n",
    "for emb in tqdm(renal_m_sorel) :\n",
    "    pca = PCA(n_components=2, svd_solver = 'arpack')\n",
    "    temp = pd.DataFrame(emb[0])\n",
    "    components = pca.fit_transform(temp)\n",
    "    renal_m_sorel_pca.append(components)"
   ]
  },
  {
   "cell_type": "code",
   "execution_count": 37,
   "id": "1b240806-6581-4167-967b-55bcacbfb909",
   "metadata": {
    "tags": []
   },
   "outputs": [
    {
     "data": {
      "application/vnd.plotly.v1+json": {
       "config": {
        "plotlyServerURL": "https://plot.ly"
       },
       "data": [
        {
         "marker": {
          "color": [
           76,
           75,
           74,
           73,
           72,
           71,
           70,
           69,
           68,
           67,
           66,
           65,
           64,
           63,
           62,
           61,
           60,
           59,
           58,
           57,
           56,
           55,
           54,
           53,
           52,
           51,
           50,
           49,
           48,
           47,
           46,
           45,
           44,
           43,
           42,
           41,
           40,
           39,
           38,
           37,
           36,
           35,
           34,
           33,
           32,
           31,
           30,
           29,
           28,
           27,
           26,
           25,
           24,
           23,
           22,
           21,
           20,
           19,
           18,
           17,
           16,
           15,
           14,
           13,
           12,
           11,
           10,
           9,
           8,
           7,
           6,
           5,
           4,
           3,
           2,
           1,
           0
          ],
          "colorscale": [
           [
            0,
            "rgb(247,252,240)"
           ],
           [
            0.125,
            "rgb(224,243,219)"
           ],
           [
            0.25,
            "rgb(204,235,197)"
           ],
           [
            0.375,
            "rgb(168,221,181)"
           ],
           [
            0.5,
            "rgb(123,204,196)"
           ],
           [
            0.625,
            "rgb(78,179,211)"
           ],
           [
            0.75,
            "rgb(43,140,190)"
           ],
           [
            0.875,
            "rgb(8,104,172)"
           ],
           [
            1,
            "rgb(8,64,129)"
           ]
          ],
          "symbol": "square"
         },
         "mode": "markers",
         "name": "Mme de la Mole and Julien Sorel",
         "type": "scatter",
         "x": [
          -5.703559875488281,
          -5.107720375061035,
          -5.372107028961182,
          -5.730574131011963,
          -5.490090370178223,
          -5.46219539642334,
          -5.283204555511475,
          -5.203576564788818,
          -5.142055988311768,
          -4.916891574859619,
          -4.592889785766602,
          -4.365951061248779,
          -4.103243350982666,
          -3.0970699787139893,
          -3.100494384765625,
          -2.638831377029419,
          -2.8111040592193604,
          -3.083278179168701,
          -3.0797016620635986,
          -3.11002779006958,
          -3.2796905040740967,
          -3.3729259967803955,
          -3.283749580383301,
          -3.1997015476226807,
          -2.6336309909820557,
          -2.7132015228271484,
          -3.296621322631836,
          -3.1202948093414307,
          -2.769333600997925,
          -2.68859601020813,
          -2.543644666671753,
          -2.0201497077941895,
          -1.0784121751785278,
          -1.3847780227661133,
          -1.995546579360962,
          -1.5562230348587036,
          -1.1934449672698975,
          -0.9169087409973145,
          -0.5747314095497131,
          -0.3282015919685364,
          0.007844163104891777,
          0.3670276403427124,
          0.750022828578949,
          1.2548519372940063,
          1.7352843284606934,
          2.04236102104187,
          2.2142550945281982,
          2.296889543533325,
          2.4251949787139893,
          2.6411983966827393,
          2.8810815811157227,
          3.3029932975769043,
          3.5716552734375,
          4.5655198097229,
          4.675136566162109,
          4.382537364959717,
          4.912334442138672,
          5.459225654602051,
          5.792520523071289,
          6.123182773590088,
          6.3912672996521,
          5.423073768615723,
          4.964759826660156,
          4.5410871505737305,
          4.894186973571777,
          4.375090599060059,
          4.004518032073975,
          4.275197982788086,
          4.160558700561523,
          4.240480422973633,
          4.288965225219727,
          4.578737735748291,
          3.925570487976074,
          3.3129141330718994,
          2.621425151824951,
          2.199625015258789,
          1.745741605758667
         ],
         "xaxis": "x",
         "y": [
          -2.6815576553344727,
          -3.1702659130096436,
          -2.920656442642212,
          -2.6749634742736816,
          -2.5976545810699463,
          -2.6908819675445557,
          -2.488025426864624,
          -2.2855024337768555,
          -1.9845584630966187,
          -1.6150856018066406,
          -1.4238961935043335,
          -1.375625729560852,
          -1.1833841800689697,
          -1.923368215560913,
          -1.4320495128631592,
          -1.1271743774414062,
          -0.8711925745010376,
          -0.5125869512557983,
          -0.3896641135215759,
          -0.1367122232913971,
          -0.0016192569164559245,
          0.0621805377304554,
          0.0492020919919014,
          0.155268132686615,
          0.15010786056518555,
          0.4612102806568146,
          0.5502838492393494,
          0.94832843542099,
          1.3071311712265015,
          1.5316256284713745,
          2.2563138008117676,
          2.116541624069214,
          1.6036666631698608,
          2.865140676498413,
          3.0861246585845947,
          3.6899502277374268,
          4.146786689758301,
          4.448199272155762,
          4.560693740844727,
          4.714780807495117,
          4.9412617683410645,
          5.004192352294922,
          4.756837844848633,
          4.527957916259766,
          4.162957191467285,
          3.720794439315796,
          3.480072259902954,
          3.027855634689331,
          2.413214921951294,
          1.5803605318069458,
          0.8550944924354553,
          0.32677435874938965,
          -1.0874264240264893,
          -1.0680304765701294,
          -0.03259778395295143,
          -0.2720448970794678,
          -0.4961346387863159,
          -0.5689460039138794,
          -0.6965109705924988,
          -0.5275055766105652,
          -0.7754347920417786,
          -1.2401173114776611,
          -1.4278711080551147,
          -1.8248852491378784,
          -2.2650959491729736,
          -2.1669514179229736,
          -2.2847559452056885,
          -2.354630947113037,
          -2.469719886779785,
          -2.4257426261901855,
          -2.3224852085113525,
          -2.891723871231079,
          -2.696164608001709,
          -2.609344959259033,
          -2.684682846069336,
          -2.6872787475585938,
          -2.138368844985962
         ],
         "yaxis": "y"
        },
        {
         "marker": {
          "color": [
           66,
           65,
           64,
           63,
           62,
           61,
           60,
           59,
           58,
           57,
           56,
           55,
           54,
           53,
           52,
           51,
           50,
           49,
           48,
           47,
           46,
           45,
           44,
           43,
           42,
           41,
           40,
           39,
           38,
           37,
           36,
           35,
           34,
           33,
           32,
           31,
           30,
           29,
           28,
           27,
           26,
           25,
           24,
           23,
           22,
           21,
           20,
           19,
           18,
           17,
           16,
           15,
           14,
           13,
           12,
           11,
           10,
           9,
           8,
           7,
           6,
           5,
           4,
           3,
           2,
           1,
           0
          ],
          "colorscale": [
           [
            0,
            "rgb(255,247,243)"
           ],
           [
            0.125,
            "rgb(253,224,221)"
           ],
           [
            0.25,
            "rgb(252,197,192)"
           ],
           [
            0.375,
            "rgb(250,159,181)"
           ],
           [
            0.5,
            "rgb(247,104,161)"
           ],
           [
            0.625,
            "rgb(221,52,151)"
           ],
           [
            0.75,
            "rgb(174,1,126)"
           ],
           [
            0.875,
            "rgb(122,1,119)"
           ],
           [
            1,
            "rgb(73,0,106)"
           ]
          ]
         },
         "mode": "markers",
         "name": "M. Rênal and Julien Sorel",
         "type": "scatter",
         "x": [
          -6.288785457611084,
          -5.170530319213867,
          -5.073968410491943,
          -6.3509135246276855,
          -6.766857147216797,
          -6.834669589996338,
          -7.184030055999756,
          -7.372688293457031,
          -7.440853595733643,
          -7.459649562835693,
          -7.334851264953613,
          -7.197760581970215,
          -6.955102443695068,
          -6.728818893432617,
          -6.500121116638184,
          -6.353199005126953,
          -6.204032897949219,
          -6.239299774169922,
          -6.10684061050415,
          -6.028980255126953,
          -6.058539390563965,
          -6.121745586395264,
          -6.1851935386657715,
          -5.979957103729248,
          -5.133413314819336,
          -4.344961166381836,
          -4.649148464202881,
          -4.566489219665527,
          -4.798251628875732,
          -5.091656684875488,
          -5.300666809082031,
          -5.263062000274658,
          -4.939090728759766,
          -4.788917541503906,
          -4.6326093673706055,
          -4.998727798461914,
          -4.93229341506958,
          -4.780802249908447,
          -4.727164268493652,
          -4.183961868286133,
          -2.8756141662597656,
          -3.0299558639526367,
          -2.6694540977478027,
          -1.4563350677490234,
          -0.6467803716659546,
          0.23961961269378662,
          0.9993355870246887,
          2.0009148120880127,
          4.618768215179443,
          5.3095011711120605,
          8.350242614746094,
          9.249719619750977,
          11.347773551940918,
          12.452881813049316,
          13.414751052856445,
          13.694293022155762,
          13.941960334777832,
          14.059802055358887,
          13.934507369995117,
          14.695612907409668,
          14.539710998535156,
          14.499771118164062,
          15.080708503723145,
          15.569720268249512,
          15.130986213684082,
          15.188508987426758,
          15.42767333984375
         ],
         "xaxis": "x",
         "y": [
          -5.888115406036377,
          -6.029447555541992,
          -6.656290054321289,
          -8.182013511657715,
          -8.227471351623535,
          -8.249213218688965,
          -8.265748023986816,
          -8.178666114807129,
          -7.963329315185547,
          -7.6469035148620605,
          -7.289825439453125,
          -6.977713584899902,
          -6.6234917640686035,
          -6.232866287231445,
          -6.0153727531433105,
          -5.5079874992370605,
          -4.857383728027344,
          -4.35183572769165,
          -3.6891427040100098,
          -2.837205648422241,
          -2.2122299671173096,
          -1.520933747291565,
          -1.262306809425354,
          -1.135069489479065,
          0.35458990931510925,
          -0.45170149207115173,
          -1.30203115940094,
          -0.6558017134666443,
          0.46576938033103943,
          1.4072847366333008,
          3.3874268531799316,
          4.329988956451416,
          6.630239486694336,
          7.8879828453063965,
          10.33709716796875,
          11.071026802062988,
          12.64950942993164,
          13.150266647338867,
          13.47341251373291,
          13.344611167907715,
          13.55550479888916,
          11.276912689208984,
          9.399030685424805,
          7.037472724914551,
          5.836633205413818,
          4.883640289306641,
          4.426373481750488,
          3.8838987350463867,
          2.544558048248291,
          2.5232045650482178,
          0.8088901042938232,
          -0.13046185672283173,
          -1.182274580001831,
          -1.7065787315368652,
          -2.0211076736450195,
          -1.9332664012908936,
          -2.071220874786377,
          -2.062908172607422,
          -1.83065927028656,
          -2.3216168880462646,
          -2.0103180408477783,
          -1.2527703046798706,
          -1.5061776638031006,
          -1.257452368736267,
          -1.2334634065628052,
          -2.1423916816711426,
          -1.792594313621521
         ],
         "yaxis": "y"
        }
       ],
       "layout": {
        "autosize": true,
        "template": {
         "data": {
          "bar": [
           {
            "error_x": {
             "color": "#2a3f5f"
            },
            "error_y": {
             "color": "#2a3f5f"
            },
            "marker": {
             "line": {
              "color": "#E5ECF6",
              "width": 0.5
             },
             "pattern": {
              "fillmode": "overlay",
              "size": 10,
              "solidity": 0.2
             }
            },
            "type": "bar"
           }
          ],
          "barpolar": [
           {
            "marker": {
             "line": {
              "color": "#E5ECF6",
              "width": 0.5
             },
             "pattern": {
              "fillmode": "overlay",
              "size": 10,
              "solidity": 0.2
             }
            },
            "type": "barpolar"
           }
          ],
          "carpet": [
           {
            "aaxis": {
             "endlinecolor": "#2a3f5f",
             "gridcolor": "white",
             "linecolor": "white",
             "minorgridcolor": "white",
             "startlinecolor": "#2a3f5f"
            },
            "baxis": {
             "endlinecolor": "#2a3f5f",
             "gridcolor": "white",
             "linecolor": "white",
             "minorgridcolor": "white",
             "startlinecolor": "#2a3f5f"
            },
            "type": "carpet"
           }
          ],
          "choropleth": [
           {
            "colorbar": {
             "outlinewidth": 0,
             "ticks": ""
            },
            "type": "choropleth"
           }
          ],
          "contour": [
           {
            "colorbar": {
             "outlinewidth": 0,
             "ticks": ""
            },
            "colorscale": [
             [
              0,
              "#0d0887"
             ],
             [
              0.1111111111111111,
              "#46039f"
             ],
             [
              0.2222222222222222,
              "#7201a8"
             ],
             [
              0.3333333333333333,
              "#9c179e"
             ],
             [
              0.4444444444444444,
              "#bd3786"
             ],
             [
              0.5555555555555556,
              "#d8576b"
             ],
             [
              0.6666666666666666,
              "#ed7953"
             ],
             [
              0.7777777777777778,
              "#fb9f3a"
             ],
             [
              0.8888888888888888,
              "#fdca26"
             ],
             [
              1,
              "#f0f921"
             ]
            ],
            "type": "contour"
           }
          ],
          "contourcarpet": [
           {
            "colorbar": {
             "outlinewidth": 0,
             "ticks": ""
            },
            "type": "contourcarpet"
           }
          ],
          "heatmap": [
           {
            "colorbar": {
             "outlinewidth": 0,
             "ticks": ""
            },
            "colorscale": [
             [
              0,
              "#0d0887"
             ],
             [
              0.1111111111111111,
              "#46039f"
             ],
             [
              0.2222222222222222,
              "#7201a8"
             ],
             [
              0.3333333333333333,
              "#9c179e"
             ],
             [
              0.4444444444444444,
              "#bd3786"
             ],
             [
              0.5555555555555556,
              "#d8576b"
             ],
             [
              0.6666666666666666,
              "#ed7953"
             ],
             [
              0.7777777777777778,
              "#fb9f3a"
             ],
             [
              0.8888888888888888,
              "#fdca26"
             ],
             [
              1,
              "#f0f921"
             ]
            ],
            "type": "heatmap"
           }
          ],
          "heatmapgl": [
           {
            "colorbar": {
             "outlinewidth": 0,
             "ticks": ""
            },
            "colorscale": [
             [
              0,
              "#0d0887"
             ],
             [
              0.1111111111111111,
              "#46039f"
             ],
             [
              0.2222222222222222,
              "#7201a8"
             ],
             [
              0.3333333333333333,
              "#9c179e"
             ],
             [
              0.4444444444444444,
              "#bd3786"
             ],
             [
              0.5555555555555556,
              "#d8576b"
             ],
             [
              0.6666666666666666,
              "#ed7953"
             ],
             [
              0.7777777777777778,
              "#fb9f3a"
             ],
             [
              0.8888888888888888,
              "#fdca26"
             ],
             [
              1,
              "#f0f921"
             ]
            ],
            "type": "heatmapgl"
           }
          ],
          "histogram": [
           {
            "marker": {
             "pattern": {
              "fillmode": "overlay",
              "size": 10,
              "solidity": 0.2
             }
            },
            "type": "histogram"
           }
          ],
          "histogram2d": [
           {
            "colorbar": {
             "outlinewidth": 0,
             "ticks": ""
            },
            "colorscale": [
             [
              0,
              "#0d0887"
             ],
             [
              0.1111111111111111,
              "#46039f"
             ],
             [
              0.2222222222222222,
              "#7201a8"
             ],
             [
              0.3333333333333333,
              "#9c179e"
             ],
             [
              0.4444444444444444,
              "#bd3786"
             ],
             [
              0.5555555555555556,
              "#d8576b"
             ],
             [
              0.6666666666666666,
              "#ed7953"
             ],
             [
              0.7777777777777778,
              "#fb9f3a"
             ],
             [
              0.8888888888888888,
              "#fdca26"
             ],
             [
              1,
              "#f0f921"
             ]
            ],
            "type": "histogram2d"
           }
          ],
          "histogram2dcontour": [
           {
            "colorbar": {
             "outlinewidth": 0,
             "ticks": ""
            },
            "colorscale": [
             [
              0,
              "#0d0887"
             ],
             [
              0.1111111111111111,
              "#46039f"
             ],
             [
              0.2222222222222222,
              "#7201a8"
             ],
             [
              0.3333333333333333,
              "#9c179e"
             ],
             [
              0.4444444444444444,
              "#bd3786"
             ],
             [
              0.5555555555555556,
              "#d8576b"
             ],
             [
              0.6666666666666666,
              "#ed7953"
             ],
             [
              0.7777777777777778,
              "#fb9f3a"
             ],
             [
              0.8888888888888888,
              "#fdca26"
             ],
             [
              1,
              "#f0f921"
             ]
            ],
            "type": "histogram2dcontour"
           }
          ],
          "mesh3d": [
           {
            "colorbar": {
             "outlinewidth": 0,
             "ticks": ""
            },
            "type": "mesh3d"
           }
          ],
          "parcoords": [
           {
            "line": {
             "colorbar": {
              "outlinewidth": 0,
              "ticks": ""
             }
            },
            "type": "parcoords"
           }
          ],
          "pie": [
           {
            "automargin": true,
            "type": "pie"
           }
          ],
          "scatter": [
           {
            "marker": {
             "colorbar": {
              "outlinewidth": 0,
              "ticks": ""
             }
            },
            "type": "scatter"
           }
          ],
          "scatter3d": [
           {
            "line": {
             "colorbar": {
              "outlinewidth": 0,
              "ticks": ""
             }
            },
            "marker": {
             "colorbar": {
              "outlinewidth": 0,
              "ticks": ""
             }
            },
            "type": "scatter3d"
           }
          ],
          "scattercarpet": [
           {
            "marker": {
             "colorbar": {
              "outlinewidth": 0,
              "ticks": ""
             }
            },
            "type": "scattercarpet"
           }
          ],
          "scattergeo": [
           {
            "marker": {
             "colorbar": {
              "outlinewidth": 0,
              "ticks": ""
             }
            },
            "type": "scattergeo"
           }
          ],
          "scattergl": [
           {
            "marker": {
             "colorbar": {
              "outlinewidth": 0,
              "ticks": ""
             }
            },
            "type": "scattergl"
           }
          ],
          "scattermapbox": [
           {
            "marker": {
             "colorbar": {
              "outlinewidth": 0,
              "ticks": ""
             }
            },
            "type": "scattermapbox"
           }
          ],
          "scatterpolar": [
           {
            "marker": {
             "colorbar": {
              "outlinewidth": 0,
              "ticks": ""
             }
            },
            "type": "scatterpolar"
           }
          ],
          "scatterpolargl": [
           {
            "marker": {
             "colorbar": {
              "outlinewidth": 0,
              "ticks": ""
             }
            },
            "type": "scatterpolargl"
           }
          ],
          "scatterternary": [
           {
            "marker": {
             "colorbar": {
              "outlinewidth": 0,
              "ticks": ""
             }
            },
            "type": "scatterternary"
           }
          ],
          "surface": [
           {
            "colorbar": {
             "outlinewidth": 0,
             "ticks": ""
            },
            "colorscale": [
             [
              0,
              "#0d0887"
             ],
             [
              0.1111111111111111,
              "#46039f"
             ],
             [
              0.2222222222222222,
              "#7201a8"
             ],
             [
              0.3333333333333333,
              "#9c179e"
             ],
             [
              0.4444444444444444,
              "#bd3786"
             ],
             [
              0.5555555555555556,
              "#d8576b"
             ],
             [
              0.6666666666666666,
              "#ed7953"
             ],
             [
              0.7777777777777778,
              "#fb9f3a"
             ],
             [
              0.8888888888888888,
              "#fdca26"
             ],
             [
              1,
              "#f0f921"
             ]
            ],
            "type": "surface"
           }
          ],
          "table": [
           {
            "cells": {
             "fill": {
              "color": "#EBF0F8"
             },
             "line": {
              "color": "white"
             }
            },
            "header": {
             "fill": {
              "color": "#C8D4E3"
             },
             "line": {
              "color": "white"
             }
            },
            "type": "table"
           }
          ]
         },
         "layout": {
          "annotationdefaults": {
           "arrowcolor": "#2a3f5f",
           "arrowhead": 0,
           "arrowwidth": 1
          },
          "autotypenumbers": "strict",
          "coloraxis": {
           "colorbar": {
            "outlinewidth": 0,
            "ticks": ""
           }
          },
          "colorscale": {
           "diverging": [
            [
             0,
             "#8e0152"
            ],
            [
             0.1,
             "#c51b7d"
            ],
            [
             0.2,
             "#de77ae"
            ],
            [
             0.3,
             "#f1b6da"
            ],
            [
             0.4,
             "#fde0ef"
            ],
            [
             0.5,
             "#f7f7f7"
            ],
            [
             0.6,
             "#e6f5d0"
            ],
            [
             0.7,
             "#b8e186"
            ],
            [
             0.8,
             "#7fbc41"
            ],
            [
             0.9,
             "#4d9221"
            ],
            [
             1,
             "#276419"
            ]
           ],
           "sequential": [
            [
             0,
             "#0d0887"
            ],
            [
             0.1111111111111111,
             "#46039f"
            ],
            [
             0.2222222222222222,
             "#7201a8"
            ],
            [
             0.3333333333333333,
             "#9c179e"
            ],
            [
             0.4444444444444444,
             "#bd3786"
            ],
            [
             0.5555555555555556,
             "#d8576b"
            ],
            [
             0.6666666666666666,
             "#ed7953"
            ],
            [
             0.7777777777777778,
             "#fb9f3a"
            ],
            [
             0.8888888888888888,
             "#fdca26"
            ],
            [
             1,
             "#f0f921"
            ]
           ],
           "sequentialminus": [
            [
             0,
             "#0d0887"
            ],
            [
             0.1111111111111111,
             "#46039f"
            ],
            [
             0.2222222222222222,
             "#7201a8"
            ],
            [
             0.3333333333333333,
             "#9c179e"
            ],
            [
             0.4444444444444444,
             "#bd3786"
            ],
            [
             0.5555555555555556,
             "#d8576b"
            ],
            [
             0.6666666666666666,
             "#ed7953"
            ],
            [
             0.7777777777777778,
             "#fb9f3a"
            ],
            [
             0.8888888888888888,
             "#fdca26"
            ],
            [
             1,
             "#f0f921"
            ]
           ]
          },
          "colorway": [
           "#636efa",
           "#EF553B",
           "#00cc96",
           "#ab63fa",
           "#FFA15A",
           "#19d3f3",
           "#FF6692",
           "#B6E880",
           "#FF97FF",
           "#FECB52"
          ],
          "font": {
           "color": "#2a3f5f"
          },
          "geo": {
           "bgcolor": "white",
           "lakecolor": "white",
           "landcolor": "#E5ECF6",
           "showlakes": true,
           "showland": true,
           "subunitcolor": "white"
          },
          "hoverlabel": {
           "align": "left"
          },
          "hovermode": "closest",
          "mapbox": {
           "style": "light"
          },
          "paper_bgcolor": "white",
          "plot_bgcolor": "#E5ECF6",
          "polar": {
           "angularaxis": {
            "gridcolor": "white",
            "linecolor": "white",
            "ticks": ""
           },
           "bgcolor": "#E5ECF6",
           "radialaxis": {
            "gridcolor": "white",
            "linecolor": "white",
            "ticks": ""
           }
          },
          "scene": {
           "xaxis": {
            "backgroundcolor": "#E5ECF6",
            "gridcolor": "white",
            "gridwidth": 2,
            "linecolor": "white",
            "showbackground": true,
            "ticks": "",
            "zerolinecolor": "white"
           },
           "yaxis": {
            "backgroundcolor": "#E5ECF6",
            "gridcolor": "white",
            "gridwidth": 2,
            "linecolor": "white",
            "showbackground": true,
            "ticks": "",
            "zerolinecolor": "white"
           },
           "zaxis": {
            "backgroundcolor": "#E5ECF6",
            "gridcolor": "white",
            "gridwidth": 2,
            "linecolor": "white",
            "showbackground": true,
            "ticks": "",
            "zerolinecolor": "white"
           }
          },
          "shapedefaults": {
           "line": {
            "color": "#2a3f5f"
           }
          },
          "ternary": {
           "aaxis": {
            "gridcolor": "white",
            "linecolor": "white",
            "ticks": ""
           },
           "baxis": {
            "gridcolor": "white",
            "linecolor": "white",
            "ticks": ""
           },
           "bgcolor": "#E5ECF6",
           "caxis": {
            "gridcolor": "white",
            "linecolor": "white",
            "ticks": ""
           }
          },
          "title": {
           "x": 0.05
          },
          "xaxis": {
           "automargin": true,
           "gridcolor": "white",
           "linecolor": "white",
           "ticks": "",
           "title": {
            "standoff": 15
           },
           "zerolinecolor": "white",
           "zerolinewidth": 2
          },
          "yaxis": {
           "automargin": true,
           "gridcolor": "white",
           "linecolor": "white",
           "ticks": "",
           "title": {
            "standoff": 15
           },
           "zerolinecolor": "white",
           "zerolinewidth": 2
          }
         }
        },
        "xaxis": {
         "anchor": "y",
         "autorange": true,
         "domain": [
          0,
          1
         ],
         "range": [
          -8.902415667336776,
          17.012486372750594
         ],
         "type": "linear"
        },
        "yaxis": {
         "anchor": "x",
         "autorange": true,
         "domain": [
          0,
          1
         ],
         "range": [
          -10.066531023932892,
          15.356287798835236
         ],
         "type": "linear"
        }
       }
      },
      "image/png": "[encoded data removed]",
      "text/html": [
       "<div>                            <div id=\"5c277d43-4470-4ce3-a779-2157e2e50bef\" class=\"plotly-graph-div\" style=\"height:525px; width:100%;\"></div>            <script type=\"text/javascript\">                require([\"plotly\"], function(Plotly) {                    window.PLOTLYENV=window.PLOTLYENV || {};                                    if (document.getElementById(\"5c277d43-4470-4ce3-a779-2157e2e50bef\")) {                    Plotly.newPlot(                        \"5c277d43-4470-4ce3-a779-2157e2e50bef\",                        [{\"marker\":{\"color\":[76,75,74,73,72,71,70,69,68,67,66,65,64,63,62,61,60,59,58,57,56,55,54,53,52,51,50,49,48,47,46,45,44,43,42,41,40,39,38,37,36,35,34,33,32,31,30,29,28,27,26,25,24,23,22,21,20,19,18,17,16,15,14,13,12,11,10,9,8,7,6,5,4,3,2,1,0],\"colorscale\":[[0.0,\"rgb(247,252,240)\"],[0.125,\"rgb(224,243,219)\"],[0.25,\"rgb(204,235,197)\"],[0.375,\"rgb(168,221,181)\"],[0.5,\"rgb(123,204,196)\"],[0.625,\"rgb(78,179,211)\"],[0.75,\"rgb(43,140,190)\"],[0.875,\"rgb(8,104,172)\"],[1.0,\"rgb(8,64,129)\"]],\"symbol\":\"square\"},\"mode\":\"markers\",\"name\":\"Mme de la Mole and Julien Sorel\",\"x\":[-5.703559875488281,-5.107720375061035,-5.372107028961182,-5.730574131011963,-5.490090370178223,-5.46219539642334,-5.283204555511475,-5.203576564788818,-5.142055988311768,-4.916891574859619,-4.592889785766602,-4.365951061248779,-4.103243350982666,-3.0970699787139893,-3.100494384765625,-2.638831377029419,-2.8111040592193604,-3.083278179168701,-3.0797016620635986,-3.11002779006958,-3.2796905040740967,-3.3729259967803955,-3.283749580383301,-3.1997015476226807,-2.6336309909820557,-2.7132015228271484,-3.296621322631836,-3.1202948093414307,-2.769333600997925,-2.68859601020813,-2.543644666671753,-2.0201497077941895,-1.0784121751785278,-1.3847780227661133,-1.995546579360962,-1.5562230348587036,-1.1934449672698975,-0.9169087409973145,-0.5747314095497131,-0.3282015919685364,0.007844163104891777,0.3670276403427124,0.750022828578949,1.2548519372940063,1.7352843284606934,2.04236102104187,2.2142550945281982,2.296889543533325,2.4251949787139893,2.6411983966827393,2.8810815811157227,3.3029932975769043,3.5716552734375,4.5655198097229,4.675136566162109,4.382537364959717,4.912334442138672,5.459225654602051,5.792520523071289,6.123182773590088,6.3912672996521,5.423073768615723,4.964759826660156,4.5410871505737305,4.894186973571777,4.375090599060059,4.004518032073975,4.275197982788086,4.160558700561523,4.240480422973633,4.288965225219727,4.578737735748291,3.925570487976074,3.3129141330718994,2.621425151824951,2.199625015258789,1.745741605758667],\"y\":[-2.6815576553344727,-3.1702659130096436,-2.920656442642212,-2.6749634742736816,-2.5976545810699463,-2.6908819675445557,-2.488025426864624,-2.2855024337768555,-1.9845584630966187,-1.6150856018066406,-1.4238961935043335,-1.375625729560852,-1.1833841800689697,-1.923368215560913,-1.4320495128631592,-1.1271743774414062,-0.8711925745010376,-0.5125869512557983,-0.3896641135215759,-0.1367122232913971,-0.0016192569164559245,0.0621805377304554,0.0492020919919014,0.155268132686615,0.15010786056518555,0.4612102806568146,0.5502838492393494,0.94832843542099,1.3071311712265015,1.5316256284713745,2.2563138008117676,2.116541624069214,1.6036666631698608,2.865140676498413,3.0861246585845947,3.6899502277374268,4.146786689758301,4.448199272155762,4.560693740844727,4.714780807495117,4.9412617683410645,5.004192352294922,4.756837844848633,4.527957916259766,4.162957191467285,3.720794439315796,3.480072259902954,3.027855634689331,2.413214921951294,1.5803605318069458,0.8550944924354553,0.32677435874938965,-1.0874264240264893,-1.0680304765701294,-0.03259778395295143,-0.2720448970794678,-0.4961346387863159,-0.5689460039138794,-0.6965109705924988,-0.5275055766105652,-0.7754347920417786,-1.2401173114776611,-1.4278711080551147,-1.8248852491378784,-2.2650959491729736,-2.1669514179229736,-2.2847559452056885,-2.354630947113037,-2.469719886779785,-2.4257426261901855,-2.3224852085113525,-2.891723871231079,-2.696164608001709,-2.609344959259033,-2.684682846069336,-2.6872787475585938,-2.138368844985962],\"type\":\"scatter\",\"xaxis\":\"x\",\"yaxis\":\"y\"},{\"marker\":{\"color\":[66,65,64,63,62,61,60,59,58,57,56,55,54,53,52,51,50,49,48,47,46,45,44,43,42,41,40,39,38,37,36,35,34,33,32,31,30,29,28,27,26,25,24,23,22,21,20,19,18,17,16,15,14,13,12,11,10,9,8,7,6,5,4,3,2,1,0],\"colorscale\":[[0.0,\"rgb(255,247,243)\"],[0.125,\"rgb(253,224,221)\"],[0.25,\"rgb(252,197,192)\"],[0.375,\"rgb(250,159,181)\"],[0.5,\"rgb(247,104,161)\"],[0.625,\"rgb(221,52,151)\"],[0.75,\"rgb(174,1,126)\"],[0.875,\"rgb(122,1,119)\"],[1.0,\"rgb(73,0,106)\"]]},\"mode\":\"markers\",\"name\":\"M. R\\u00eanal and Julien Sorel\",\"x\":[-6.288785457611084,-5.170530319213867,-5.073968410491943,-6.3509135246276855,-6.766857147216797,-6.834669589996338,-7.184030055999756,-7.372688293457031,-7.440853595733643,-7.459649562835693,-7.334851264953613,-7.197760581970215,-6.955102443695068,-6.728818893432617,-6.500121116638184,-6.353199005126953,-6.204032897949219,-6.239299774169922,-6.10684061050415,-6.028980255126953,-6.058539390563965,-6.121745586395264,-6.1851935386657715,-5.979957103729248,-5.133413314819336,-4.344961166381836,-4.649148464202881,-4.566489219665527,-4.798251628875732,-5.091656684875488,-5.300666809082031,-5.263062000274658,-4.939090728759766,-4.788917541503906,-4.6326093673706055,-4.998727798461914,-4.93229341506958,-4.780802249908447,-4.727164268493652,-4.183961868286133,-2.8756141662597656,-3.0299558639526367,-2.6694540977478027,-1.4563350677490234,-0.6467803716659546,0.23961961269378662,0.9993355870246887,2.0009148120880127,4.618768215179443,5.3095011711120605,8.350242614746094,9.249719619750977,11.347773551940918,12.452881813049316,13.414751052856445,13.694293022155762,13.941960334777832,14.059802055358887,13.934507369995117,14.695612907409668,14.539710998535156,14.499771118164062,15.080708503723145,15.569720268249512,15.130986213684082,15.188508987426758,15.42767333984375],\"y\":[-5.888115406036377,-6.029447555541992,-6.656290054321289,-8.182013511657715,-8.227471351623535,-8.249213218688965,-8.265748023986816,-8.178666114807129,-7.963329315185547,-7.6469035148620605,-7.289825439453125,-6.977713584899902,-6.6234917640686035,-6.232866287231445,-6.0153727531433105,-5.5079874992370605,-4.857383728027344,-4.35183572769165,-3.6891427040100098,-2.837205648422241,-2.2122299671173096,-1.520933747291565,-1.262306809425354,-1.135069489479065,0.35458990931510925,-0.45170149207115173,-1.30203115940094,-0.6558017134666443,0.46576938033103943,1.4072847366333008,3.3874268531799316,4.329988956451416,6.630239486694336,7.8879828453063965,10.33709716796875,11.071026802062988,12.64950942993164,13.150266647338867,13.47341251373291,13.344611167907715,13.55550479888916,11.276912689208984,9.399030685424805,7.037472724914551,5.836633205413818,4.883640289306641,4.426373481750488,3.8838987350463867,2.544558048248291,2.5232045650482178,0.8088901042938232,-0.13046185672283173,-1.182274580001831,-1.7065787315368652,-2.0211076736450195,-1.9332664012908936,-2.071220874786377,-2.062908172607422,-1.83065927028656,-2.3216168880462646,-2.0103180408477783,-1.2527703046798706,-1.5061776638031006,-1.257452368736267,-1.2334634065628052,-2.1423916816711426,-1.792594313621521],\"type\":\"scatter\",\"xaxis\":\"x\",\"yaxis\":\"y\"}],                        {\"template\":{\"data\":{\"bar\":[{\"error_x\":{\"color\":\"#2a3f5f\"},\"error_y\":{\"color\":\"#2a3f5f\"},\"marker\":{\"line\":{\"color\":\"#E5ECF6\",\"width\":0.5},\"pattern\":{\"fillmode\":\"overlay\",\"size\":10,\"solidity\":0.2}},\"type\":\"bar\"}],\"barpolar\":[{\"marker\":{\"line\":{\"color\":\"#E5ECF6\",\"width\":0.5},\"pattern\":{\"fillmode\":\"overlay\",\"size\":10,\"solidity\":0.2}},\"type\":\"barpolar\"}],\"carpet\":[{\"aaxis\":{\"endlinecolor\":\"#2a3f5f\",\"gridcolor\":\"white\",\"linecolor\":\"white\",\"minorgridcolor\":\"white\",\"startlinecolor\":\"#2a3f5f\"},\"baxis\":{\"endlinecolor\":\"#2a3f5f\",\"gridcolor\":\"white\",\"linecolor\":\"white\",\"minorgridcolor\":\"white\",\"startlinecolor\":\"#2a3f5f\"},\"type\":\"carpet\"}],\"choropleth\":[{\"colorbar\":{\"outlinewidth\":0,\"ticks\":\"\"},\"type\":\"choropleth\"}],\"contour\":[{\"colorbar\":{\"outlinewidth\":0,\"ticks\":\"\"},\"colorscale\":[[0.0,\"#0d0887\"],[0.1111111111111111,\"#46039f\"],[0.2222222222222222,\"#7201a8\"],[0.3333333333333333,\"#9c179e\"],[0.4444444444444444,\"#bd3786\"],[0.5555555555555556,\"#d8576b\"],[0.6666666666666666,\"#ed7953\"],[0.7777777777777778,\"#fb9f3a\"],[0.8888888888888888,\"#fdca26\"],[1.0,\"#f0f921\"]],\"type\":\"contour\"}],\"contourcarpet\":[{\"colorbar\":{\"outlinewidth\":0,\"ticks\":\"\"},\"type\":\"contourcarpet\"}],\"heatmap\":[{\"colorbar\":{\"outlinewidth\":0,\"ticks\":\"\"},\"colorscale\":[[0.0,\"#0d0887\"],[0.1111111111111111,\"#46039f\"],[0.2222222222222222,\"#7201a8\"],[0.3333333333333333,\"#9c179e\"],[0.4444444444444444,\"#bd3786\"],[0.5555555555555556,\"#d8576b\"],[0.6666666666666666,\"#ed7953\"],[0.7777777777777778,\"#fb9f3a\"],[0.8888888888888888,\"#fdca26\"],[1.0,\"#f0f921\"]],\"type\":\"heatmap\"}],\"heatmapgl\":[{\"colorbar\":{\"outlinewidth\":0,\"ticks\":\"\"},\"colorscale\":[[0.0,\"#0d0887\"],[0.1111111111111111,\"#46039f\"],[0.2222222222222222,\"#7201a8\"],[0.3333333333333333,\"#9c179e\"],[0.4444444444444444,\"#bd3786\"],[0.5555555555555556,\"#d8576b\"],[0.6666666666666666,\"#ed7953\"],[0.7777777777777778,\"#fb9f3a\"],[0.8888888888888888,\"#fdca26\"],[1.0,\"#f0f921\"]],\"type\":\"heatmapgl\"}],\"histogram\":[{\"marker\":{\"pattern\":{\"fillmode\":\"overlay\",\"size\":10,\"solidity\":0.2}},\"type\":\"histogram\"}],\"histogram2d\":[{\"colorbar\":{\"outlinewidth\":0,\"ticks\":\"\"},\"colorscale\":[[0.0,\"#0d0887\"],[0.1111111111111111,\"#46039f\"],[0.2222222222222222,\"#7201a8\"],[0.3333333333333333,\"#9c179e\"],[0.4444444444444444,\"#bd3786\"],[0.5555555555555556,\"#d8576b\"],[0.6666666666666666,\"#ed7953\"],[0.7777777777777778,\"#fb9f3a\"],[0.8888888888888888,\"#fdca26\"],[1.0,\"#f0f921\"]],\"type\":\"histogram2d\"}],\"histogram2dcontour\":[{\"colorbar\":{\"outlinewidth\":0,\"ticks\":\"\"},\"colorscale\":[[0.0,\"#0d0887\"],[0.1111111111111111,\"#46039f\"],[0.2222222222222222,\"#7201a8\"],[0.3333333333333333,\"#9c179e\"],[0.4444444444444444,\"#bd3786\"],[0.5555555555555556,\"#d8576b\"],[0.6666666666666666,\"#ed7953\"],[0.7777777777777778,\"#fb9f3a\"],[0.8888888888888888,\"#fdca26\"],[1.0,\"#f0f921\"]],\"type\":\"histogram2dcontour\"}],\"mesh3d\":[{\"colorbar\":{\"outlinewidth\":0,\"ticks\":\"\"},\"type\":\"mesh3d\"}],\"parcoords\":[{\"line\":{\"colorbar\":{\"outlinewidth\":0,\"ticks\":\"\"}},\"type\":\"parcoords\"}],\"pie\":[{\"automargin\":true,\"type\":\"pie\"}],\"scatter\":[{\"marker\":{\"colorbar\":{\"outlinewidth\":0,\"ticks\":\"\"}},\"type\":\"scatter\"}],\"scatter3d\":[{\"line\":{\"colorbar\":{\"outlinewidth\":0,\"ticks\":\"\"}},\"marker\":{\"colorbar\":{\"outlinewidth\":0,\"ticks\":\"\"}},\"type\":\"scatter3d\"}],\"scattercarpet\":[{\"marker\":{\"colorbar\":{\"outlinewidth\":0,\"ticks\":\"\"}},\"type\":\"scattercarpet\"}],\"scattergeo\":[{\"marker\":{\"colorbar\":{\"outlinewidth\":0,\"ticks\":\"\"}},\"type\":\"scattergeo\"}],\"scattergl\":[{\"marker\":{\"colorbar\":{\"outlinewidth\":0,\"ticks\":\"\"}},\"type\":\"scattergl\"}],\"scattermapbox\":[{\"marker\":{\"colorbar\":{\"outlinewidth\":0,\"ticks\":\"\"}},\"type\":\"scattermapbox\"}],\"scatterpolar\":[{\"marker\":{\"colorbar\":{\"outlinewidth\":0,\"ticks\":\"\"}},\"type\":\"scatterpolar\"}],\"scatterpolargl\":[{\"marker\":{\"colorbar\":{\"outlinewidth\":0,\"ticks\":\"\"}},\"type\":\"scatterpolargl\"}],\"scatterternary\":[{\"marker\":{\"colorbar\":{\"outlinewidth\":0,\"ticks\":\"\"}},\"type\":\"scatterternary\"}],\"surface\":[{\"colorbar\":{\"outlinewidth\":0,\"ticks\":\"\"},\"colorscale\":[[0.0,\"#0d0887\"],[0.1111111111111111,\"#46039f\"],[0.2222222222222222,\"#7201a8\"],[0.3333333333333333,\"#9c179e\"],[0.4444444444444444,\"#bd3786\"],[0.5555555555555556,\"#d8576b\"],[0.6666666666666666,\"#ed7953\"],[0.7777777777777778,\"#fb9f3a\"],[0.8888888888888888,\"#fdca26\"],[1.0,\"#f0f921\"]],\"type\":\"surface\"}],\"table\":[{\"cells\":{\"fill\":{\"color\":\"#EBF0F8\"},\"line\":{\"color\":\"white\"}},\"header\":{\"fill\":{\"color\":\"#C8D4E3\"},\"line\":{\"color\":\"white\"}},\"type\":\"table\"}]},\"layout\":{\"annotationdefaults\":{\"arrowcolor\":\"#2a3f5f\",\"arrowhead\":0,\"arrowwidth\":1},\"autotypenumbers\":\"strict\",\"coloraxis\":{\"colorbar\":{\"outlinewidth\":0,\"ticks\":\"\"}},\"colorscale\":{\"diverging\":[[0,\"#8e0152\"],[0.1,\"#c51b7d\"],[0.2,\"#de77ae\"],[0.3,\"#f1b6da\"],[0.4,\"#fde0ef\"],[0.5,\"#f7f7f7\"],[0.6,\"#e6f5d0\"],[0.7,\"#b8e186\"],[0.8,\"#7fbc41\"],[0.9,\"#4d9221\"],[1,\"#276419\"]],\"sequential\":[[0.0,\"#0d0887\"],[0.1111111111111111,\"#46039f\"],[0.2222222222222222,\"#7201a8\"],[0.3333333333333333,\"#9c179e\"],[0.4444444444444444,\"#bd3786\"],[0.5555555555555556,\"#d8576b\"],[0.6666666666666666,\"#ed7953\"],[0.7777777777777778,\"#fb9f3a\"],[0.8888888888888888,\"#fdca26\"],[1.0,\"#f0f921\"]],\"sequentialminus\":[[0.0,\"#0d0887\"],[0.1111111111111111,\"#46039f\"],[0.2222222222222222,\"#7201a8\"],[0.3333333333333333,\"#9c179e\"],[0.4444444444444444,\"#bd3786\"],[0.5555555555555556,\"#d8576b\"],[0.6666666666666666,\"#ed7953\"],[0.7777777777777778,\"#fb9f3a\"],[0.8888888888888888,\"#fdca26\"],[1.0,\"#f0f921\"]]},\"colorway\":[\"#636efa\",\"#EF553B\",\"#00cc96\",\"#ab63fa\",\"#FFA15A\",\"#19d3f3\",\"#FF6692\",\"#B6E880\",\"#FF97FF\",\"#FECB52\"],\"font\":{\"color\":\"#2a3f5f\"},\"geo\":{\"bgcolor\":\"white\",\"lakecolor\":\"white\",\"landcolor\":\"#E5ECF6\",\"showlakes\":true,\"showland\":true,\"subunitcolor\":\"white\"},\"hoverlabel\":{\"align\":\"left\"},\"hovermode\":\"closest\",\"mapbox\":{\"style\":\"light\"},\"paper_bgcolor\":\"white\",\"plot_bgcolor\":\"#E5ECF6\",\"polar\":{\"angularaxis\":{\"gridcolor\":\"white\",\"linecolor\":\"white\",\"ticks\":\"\"},\"bgcolor\":\"#E5ECF6\",\"radialaxis\":{\"gridcolor\":\"white\",\"linecolor\":\"white\",\"ticks\":\"\"}},\"scene\":{\"xaxis\":{\"backgroundcolor\":\"#E5ECF6\",\"gridcolor\":\"white\",\"gridwidth\":2,\"linecolor\":\"white\",\"showbackground\":true,\"ticks\":\"\",\"zerolinecolor\":\"white\"},\"yaxis\":{\"backgroundcolor\":\"#E5ECF6\",\"gridcolor\":\"white\",\"gridwidth\":2,\"linecolor\":\"white\",\"showbackground\":true,\"ticks\":\"\",\"zerolinecolor\":\"white\"},\"zaxis\":{\"backgroundcolor\":\"#E5ECF6\",\"gridcolor\":\"white\",\"gridwidth\":2,\"linecolor\":\"white\",\"showbackground\":true,\"ticks\":\"\",\"zerolinecolor\":\"white\"}},\"shapedefaults\":{\"line\":{\"color\":\"#2a3f5f\"}},\"ternary\":{\"aaxis\":{\"gridcolor\":\"white\",\"linecolor\":\"white\",\"ticks\":\"\"},\"baxis\":{\"gridcolor\":\"white\",\"linecolor\":\"white\",\"ticks\":\"\"},\"bgcolor\":\"#E5ECF6\",\"caxis\":{\"gridcolor\":\"white\",\"linecolor\":\"white\",\"ticks\":\"\"}},\"title\":{\"x\":0.05},\"xaxis\":{\"automargin\":true,\"gridcolor\":\"white\",\"linecolor\":\"white\",\"ticks\":\"\",\"title\":{\"standoff\":15},\"zerolinecolor\":\"white\",\"zerolinewidth\":2},\"yaxis\":{\"automargin\":true,\"gridcolor\":\"white\",\"linecolor\":\"white\",\"ticks\":\"\",\"title\":{\"standoff\":15},\"zerolinecolor\":\"white\",\"zerolinewidth\":2}}},\"xaxis\":{\"anchor\":\"y\",\"domain\":[0.0,1.0]},\"yaxis\":{\"anchor\":\"x\",\"domain\":[0.0,1.0]}},                        {\"responsive\": true}                    ).then(function(){\n",
       "                            \n",
       "var gd = document.getElementById('5c277d43-4470-4ce3-a779-2157e2e50bef');\n",
       "var x = new MutationObserver(function (mutations, observer) {{\n",
       "        var display = window.getComputedStyle(gd).display;\n",
       "        if (!display || display === 'none') {{\n",
       "            console.log([gd, 'removed!']);\n",
       "            Plotly.purge(gd);\n",
       "            observer.disconnect();\n",
       "        }}\n",
       "}});\n",
       "\n",
       "// Listen for the removal of the full notebook cells\n",
       "var notebookContainer = gd.closest('#notebook-container');\n",
       "if (notebookContainer) {{\n",
       "    x.observe(notebookContainer, {childList: true});\n",
       "}}\n",
       "\n",
       "// Listen for the clearing of the current output cell\n",
       "var outputEl = gd.closest('.output');\n",
       "if (outputEl) {{\n",
       "    x.observe(outputEl, {childList: true});\n",
       "}}\n",
       "\n",
       "                        })                };                });            </script>        </div>"
      ]
     },
     "metadata": {},
     "output_type": "display_data"
    }
   ],
   "source": [
    "from plotly.subplots import make_subplots\n",
    "import plotly.graph_objects as go\n",
    "\n",
    "fig = make_subplots(rows=1, cols=1)\n",
    "\n",
    "mole_sorel_df = pd.DataFrame(mole_sorel_pca[0])\n",
    "renal_m_sorel_df = pd.DataFrame(renal_m_sorel_pca[0])\n",
    "\n",
    "fig.add_trace(\n",
    "    go.Scatter(x = mole_sorel_df[0], y = mole_sorel_df[1], mode='markers', marker = dict (\n",
    "        color=mole_sorel_df.index[::-1], colorscale = 'GnBu', symbol = 'square'), name = \"Mme de la Mole and Julien Sorel\"),\n",
    "    row = 1, col = 1)\n",
    "\n",
    "fig.add_trace(\n",
    "    go.Scatter(x = renal_m_sorel_df[0], y = renal_m_sorel_df[1], mode='markers', marker = dict (\n",
    "        color=renal_m_sorel_df.index[::-1], colorscale = 'RdPu'), name = 'M. Rênal and Julien Sorel'),\n",
    "    row = 1, col = 1)\n",
    "fig.show()\n",
    "\n"
   ]
  },
  {
   "cell_type": "code",
   "execution_count": 38,
   "id": "8914178b-dd96-4968-b55f-efca8f1c4f2a",
   "metadata": {},
   "outputs": [
    {
     "data": {
      "application/vnd.plotly.v1+json": {
       "config": {
        "plotlyServerURL": "https://plot.ly"
       },
       "data": [
        {
         "marker": {
          "color": [
           76,
           75,
           74,
           73,
           72,
           71,
           70,
           69,
           68,
           67,
           66,
           65,
           64,
           63,
           62,
           61,
           60,
           59,
           58,
           57,
           56,
           55,
           54,
           53,
           52,
           51,
           50,
           49,
           48,
           47,
           46,
           45,
           44,
           43,
           42,
           41,
           40,
           39,
           38,
           37,
           36,
           35,
           34,
           33,
           32,
           31,
           30,
           29,
           28,
           27,
           26,
           25,
           24,
           23,
           22,
           21,
           20,
           19,
           18,
           17,
           16,
           15,
           14,
           13,
           12,
           11,
           10,
           9,
           8,
           7,
           6,
           5,
           4,
           3,
           2,
           1,
           0
          ],
          "colorscale": [
           [
            0,
            "rgb(247,252,240)"
           ],
           [
            0.125,
            "rgb(224,243,219)"
           ],
           [
            0.25,
            "rgb(204,235,197)"
           ],
           [
            0.375,
            "rgb(168,221,181)"
           ],
           [
            0.5,
            "rgb(123,204,196)"
           ],
           [
            0.625,
            "rgb(78,179,211)"
           ],
           [
            0.75,
            "rgb(43,140,190)"
           ],
           [
            0.875,
            "rgb(8,104,172)"
           ],
           [
            1,
            "rgb(8,64,129)"
           ]
          ],
          "symbol": "square"
         },
         "mode": "markers",
         "name": "Mme de la Mole and Julien Sorel",
         "type": "scatter",
         "x": [
          -5.703559875488281,
          -5.107720375061035,
          -5.372107028961182,
          -5.730574131011963,
          -5.490090370178223,
          -5.46219539642334,
          -5.283204555511475,
          -5.203576564788818,
          -5.142055988311768,
          -4.916891574859619,
          -4.592889785766602,
          -4.365951061248779,
          -4.103243350982666,
          -3.0970699787139893,
          -3.100494384765625,
          -2.638831377029419,
          -2.8111040592193604,
          -3.083278179168701,
          -3.0797016620635986,
          -3.11002779006958,
          -3.2796905040740967,
          -3.3729259967803955,
          -3.283749580383301,
          -3.1997015476226807,
          -2.6336309909820557,
          -2.7132015228271484,
          -3.296621322631836,
          -3.1202948093414307,
          -2.769333600997925,
          -2.68859601020813,
          -2.543644666671753,
          -2.0201497077941895,
          -1.0784121751785278,
          -1.3847780227661133,
          -1.995546579360962,
          -1.5562230348587036,
          -1.1934449672698975,
          -0.9169087409973145,
          -0.5747314095497131,
          -0.3282015919685364,
          0.007844163104891777,
          0.3670276403427124,
          0.750022828578949,
          1.2548519372940063,
          1.7352843284606934,
          2.04236102104187,
          2.2142550945281982,
          2.296889543533325,
          2.4251949787139893,
          2.6411983966827393,
          2.8810815811157227,
          3.3029932975769043,
          3.5716552734375,
          4.5655198097229,
          4.675136566162109,
          4.382537364959717,
          4.912334442138672,
          5.459225654602051,
          5.792520523071289,
          6.123182773590088,
          6.3912672996521,
          5.423073768615723,
          4.964759826660156,
          4.5410871505737305,
          4.894186973571777,
          4.375090599060059,
          4.004518032073975,
          4.275197982788086,
          4.160558700561523,
          4.240480422973633,
          4.288965225219727,
          4.578737735748291,
          3.925570487976074,
          3.3129141330718994,
          2.621425151824951,
          2.199625015258789,
          1.745741605758667
         ],
         "xaxis": "x",
         "y": [
          -2.6815576553344727,
          -3.1702659130096436,
          -2.920656442642212,
          -2.6749634742736816,
          -2.5976545810699463,
          -2.6908819675445557,
          -2.488025426864624,
          -2.2855024337768555,
          -1.9845584630966187,
          -1.6150856018066406,
          -1.4238961935043335,
          -1.375625729560852,
          -1.1833841800689697,
          -1.923368215560913,
          -1.4320495128631592,
          -1.1271743774414062,
          -0.8711925745010376,
          -0.5125869512557983,
          -0.3896641135215759,
          -0.1367122232913971,
          -0.0016192569164559245,
          0.0621805377304554,
          0.0492020919919014,
          0.155268132686615,
          0.15010786056518555,
          0.4612102806568146,
          0.5502838492393494,
          0.94832843542099,
          1.3071311712265015,
          1.5316256284713745,
          2.2563138008117676,
          2.116541624069214,
          1.6036666631698608,
          2.865140676498413,
          3.0861246585845947,
          3.6899502277374268,
          4.146786689758301,
          4.448199272155762,
          4.560693740844727,
          4.714780807495117,
          4.9412617683410645,
          5.004192352294922,
          4.756837844848633,
          4.527957916259766,
          4.162957191467285,
          3.720794439315796,
          3.480072259902954,
          3.027855634689331,
          2.413214921951294,
          1.5803605318069458,
          0.8550944924354553,
          0.32677435874938965,
          -1.0874264240264893,
          -1.0680304765701294,
          -0.03259778395295143,
          -0.2720448970794678,
          -0.4961346387863159,
          -0.5689460039138794,
          -0.6965109705924988,
          -0.5275055766105652,
          -0.7754347920417786,
          -1.2401173114776611,
          -1.4278711080551147,
          -1.8248852491378784,
          -2.2650959491729736,
          -2.1669514179229736,
          -2.2847559452056885,
          -2.354630947113037,
          -2.469719886779785,
          -2.4257426261901855,
          -2.3224852085113525,
          -2.891723871231079,
          -2.696164608001709,
          -2.609344959259033,
          -2.684682846069336,
          -2.6872787475585938,
          -2.138368844985962
         ],
         "yaxis": "y"
        },
        {
         "marker": {
          "color": [
           38,
           37,
           36,
           35,
           34,
           33,
           32,
           31,
           30,
           29,
           28,
           27,
           26,
           25,
           24,
           23,
           22,
           21,
           20,
           19,
           18,
           17,
           16,
           15,
           14,
           13,
           12,
           11,
           10,
           9,
           8,
           7,
           6,
           5,
           4,
           3,
           2,
           1,
           0
          ],
          "colorscale": [
           [
            0,
            "rgb(255,247,243)"
           ],
           [
            0.125,
            "rgb(253,224,221)"
           ],
           [
            0.25,
            "rgb(252,197,192)"
           ],
           [
            0.375,
            "rgb(250,159,181)"
           ],
           [
            0.5,
            "rgb(247,104,161)"
           ],
           [
            0.625,
            "rgb(221,52,151)"
           ],
           [
            0.75,
            "rgb(174,1,126)"
           ],
           [
            0.875,
            "rgb(122,1,119)"
           ],
           [
            1,
            "rgb(73,0,106)"
           ]
          ]
         },
         "mode": "markers",
         "name": "Mme Rênal and Julien Sorel",
         "type": "scatter",
         "x": [
          4.774051666259766,
          5.482705116271973,
          5.562715530395508,
          5.7150654792785645,
          5.851107120513916,
          5.460186958312988,
          5.416634559631348,
          4.964113235473633,
          4.510198593139648,
          4.251811981201172,
          4.025153636932373,
          3.752856731414795,
          3.559748411178589,
          3.348130226135254,
          3.3856678009033203,
          1.6758406162261963,
          1.586297869682312,
          0.951415479183197,
          0.2878442108631134,
          -0.6223214864730835,
          -1.476038932800293,
          -2.4076321125030518,
          -2.8780524730682373,
          -3.2064290046691895,
          -3.6051371097564697,
          -3.78524112701416,
          -3.9876153469085693,
          -4.27163028717041,
          -4.410730361938477,
          -4.417300701141357,
          -4.5512375831604,
          -4.621626377105713,
          -4.264209270477295,
          -3.885849952697754,
          -4.531411170959473,
          -4.585501670837402,
          -4.695052146911621,
          -4.329695701599121,
          -4.02883243560791
         ],
         "xaxis": "x",
         "y": [
          -0.5472097992897034,
          -0.7150099873542786,
          -0.39098840951919556,
          -0.1739119589328766,
          0.031117526814341545,
          0.7492460012435913,
          1.016743779182434,
          1.7306249141693115,
          2.2345902919769287,
          2.0319950580596924,
          1.5509519577026367,
          0.9782962203025818,
          0.47322574257850647,
          0.16495965421199799,
          -0.6708166003227234,
          -1.9371986389160156,
          -2.4736595153808594,
          -2.4035677909851074,
          -2.3054709434509277,
          -2.3834660053253174,
          -1.9850523471832275,
          -1.7494438886642456,
          -1.5422276258468628,
          -1.4562627077102661,
          -1.4101969003677368,
          -1.3434562683105469,
          -1.1055080890655518,
          -0.6599332690238953,
          -0.06233613193035126,
          0.51213538646698,
          -0.01985015533864498,
          0.1250649392604828,
          3.498872995376587,
          1.313769817352295,
          1.1776697635650635,
          2.1103060245513916,
          2.237114906311035,
          1.8844040632247925,
          1.5144652128219604
         ],
         "yaxis": "y"
        }
       ],
       "layout": {
        "autosize": true,
        "template": {
         "data": {
          "bar": [
           {
            "error_x": {
             "color": "#2a3f5f"
            },
            "error_y": {
             "color": "#2a3f5f"
            },
            "marker": {
             "line": {
              "color": "#E5ECF6",
              "width": 0.5
             },
             "pattern": {
              "fillmode": "overlay",
              "size": 10,
              "solidity": 0.2
             }
            },
            "type": "bar"
           }
          ],
          "barpolar": [
           {
            "marker": {
             "line": {
              "color": "#E5ECF6",
              "width": 0.5
             },
             "pattern": {
              "fillmode": "overlay",
              "size": 10,
              "solidity": 0.2
             }
            },
            "type": "barpolar"
           }
          ],
          "carpet": [
           {
            "aaxis": {
             "endlinecolor": "#2a3f5f",
             "gridcolor": "white",
             "linecolor": "white",
             "minorgridcolor": "white",
             "startlinecolor": "#2a3f5f"
            },
            "baxis": {
             "endlinecolor": "#2a3f5f",
             "gridcolor": "white",
             "linecolor": "white",
             "minorgridcolor": "white",
             "startlinecolor": "#2a3f5f"
            },
            "type": "carpet"
           }
          ],
          "choropleth": [
           {
            "colorbar": {
             "outlinewidth": 0,
             "ticks": ""
            },
            "type": "choropleth"
           }
          ],
          "contour": [
           {
            "colorbar": {
             "outlinewidth": 0,
             "ticks": ""
            },
            "colorscale": [
             [
              0,
              "#0d0887"
             ],
             [
              0.1111111111111111,
              "#46039f"
             ],
             [
              0.2222222222222222,
              "#7201a8"
             ],
             [
              0.3333333333333333,
              "#9c179e"
             ],
             [
              0.4444444444444444,
              "#bd3786"
             ],
             [
              0.5555555555555556,
              "#d8576b"
             ],
             [
              0.6666666666666666,
              "#ed7953"
             ],
             [
              0.7777777777777778,
              "#fb9f3a"
             ],
             [
              0.8888888888888888,
              "#fdca26"
             ],
             [
              1,
              "#f0f921"
             ]
            ],
            "type": "contour"
           }
          ],
          "contourcarpet": [
           {
            "colorbar": {
             "outlinewidth": 0,
             "ticks": ""
            },
            "type": "contourcarpet"
           }
          ],
          "heatmap": [
           {
            "colorbar": {
             "outlinewidth": 0,
             "ticks": ""
            },
            "colorscale": [
             [
              0,
              "#0d0887"
             ],
             [
              0.1111111111111111,
              "#46039f"
             ],
             [
              0.2222222222222222,
              "#7201a8"
             ],
             [
              0.3333333333333333,
              "#9c179e"
             ],
             [
              0.4444444444444444,
              "#bd3786"
             ],
             [
              0.5555555555555556,
              "#d8576b"
             ],
             [
              0.6666666666666666,
              "#ed7953"
             ],
             [
              0.7777777777777778,
              "#fb9f3a"
             ],
             [
              0.8888888888888888,
              "#fdca26"
             ],
             [
              1,
              "#f0f921"
             ]
            ],
            "type": "heatmap"
           }
          ],
          "heatmapgl": [
           {
            "colorbar": {
             "outlinewidth": 0,
             "ticks": ""
            },
            "colorscale": [
             [
              0,
              "#0d0887"
             ],
             [
              0.1111111111111111,
              "#46039f"
             ],
             [
              0.2222222222222222,
              "#7201a8"
             ],
             [
              0.3333333333333333,
              "#9c179e"
             ],
             [
              0.4444444444444444,
              "#bd3786"
             ],
             [
              0.5555555555555556,
              "#d8576b"
             ],
             [
              0.6666666666666666,
              "#ed7953"
             ],
             [
              0.7777777777777778,
              "#fb9f3a"
             ],
             [
              0.8888888888888888,
              "#fdca26"
             ],
             [
              1,
              "#f0f921"
             ]
            ],
            "type": "heatmapgl"
           }
          ],
          "histogram": [
           {
            "marker": {
             "pattern": {
              "fillmode": "overlay",
              "size": 10,
              "solidity": 0.2
             }
            },
            "type": "histogram"
           }
          ],
          "histogram2d": [
           {
            "colorbar": {
             "outlinewidth": 0,
             "ticks": ""
            },
            "colorscale": [
             [
              0,
              "#0d0887"
             ],
             [
              0.1111111111111111,
              "#46039f"
             ],
             [
              0.2222222222222222,
              "#7201a8"
             ],
             [
              0.3333333333333333,
              "#9c179e"
             ],
             [
              0.4444444444444444,
              "#bd3786"
             ],
             [
              0.5555555555555556,
              "#d8576b"
             ],
             [
              0.6666666666666666,
              "#ed7953"
             ],
             [
              0.7777777777777778,
              "#fb9f3a"
             ],
             [
              0.8888888888888888,
              "#fdca26"
             ],
             [
              1,
              "#f0f921"
             ]
            ],
            "type": "histogram2d"
           }
          ],
          "histogram2dcontour": [
           {
            "colorbar": {
             "outlinewidth": 0,
             "ticks": ""
            },
            "colorscale": [
             [
              0,
              "#0d0887"
             ],
             [
              0.1111111111111111,
              "#46039f"
             ],
             [
              0.2222222222222222,
              "#7201a8"
             ],
             [
              0.3333333333333333,
              "#9c179e"
             ],
             [
              0.4444444444444444,
              "#bd3786"
             ],
             [
              0.5555555555555556,
              "#d8576b"
             ],
             [
              0.6666666666666666,
              "#ed7953"
             ],
             [
              0.7777777777777778,
              "#fb9f3a"
             ],
             [
              0.8888888888888888,
              "#fdca26"
             ],
             [
              1,
              "#f0f921"
             ]
            ],
            "type": "histogram2dcontour"
           }
          ],
          "mesh3d": [
           {
            "colorbar": {
             "outlinewidth": 0,
             "ticks": ""
            },
            "type": "mesh3d"
           }
          ],
          "parcoords": [
           {
            "line": {
             "colorbar": {
              "outlinewidth": 0,
              "ticks": ""
             }
            },
            "type": "parcoords"
           }
          ],
          "pie": [
           {
            "automargin": true,
            "type": "pie"
           }
          ],
          "scatter": [
           {
            "marker": {
             "colorbar": {
              "outlinewidth": 0,
              "ticks": ""
             }
            },
            "type": "scatter"
           }
          ],
          "scatter3d": [
           {
            "line": {
             "colorbar": {
              "outlinewidth": 0,
              "ticks": ""
             }
            },
            "marker": {
             "colorbar": {
              "outlinewidth": 0,
              "ticks": ""
             }
            },
            "type": "scatter3d"
           }
          ],
          "scattercarpet": [
           {
            "marker": {
             "colorbar": {
              "outlinewidth": 0,
              "ticks": ""
             }
            },
            "type": "scattercarpet"
           }
          ],
          "scattergeo": [
           {
            "marker": {
             "colorbar": {
              "outlinewidth": 0,
              "ticks": ""
             }
            },
            "type": "scattergeo"
           }
          ],
          "scattergl": [
           {
            "marker": {
             "colorbar": {
              "outlinewidth": 0,
              "ticks": ""
             }
            },
            "type": "scattergl"
           }
          ],
          "scattermapbox": [
           {
            "marker": {
             "colorbar": {
              "outlinewidth": 0,
              "ticks": ""
             }
            },
            "type": "scattermapbox"
           }
          ],
          "scatterpolar": [
           {
            "marker": {
             "colorbar": {
              "outlinewidth": 0,
              "ticks": ""
             }
            },
            "type": "scatterpolar"
           }
          ],
          "scatterpolargl": [
           {
            "marker": {
             "colorbar": {
              "outlinewidth": 0,
              "ticks": ""
             }
            },
            "type": "scatterpolargl"
           }
          ],
          "scatterternary": [
           {
            "marker": {
             "colorbar": {
              "outlinewidth": 0,
              "ticks": ""
             }
            },
            "type": "scatterternary"
           }
          ],
          "surface": [
           {
            "colorbar": {
             "outlinewidth": 0,
             "ticks": ""
            },
            "colorscale": [
             [
              0,
              "#0d0887"
             ],
             [
              0.1111111111111111,
              "#46039f"
             ],
             [
              0.2222222222222222,
              "#7201a8"
             ],
             [
              0.3333333333333333,
              "#9c179e"
             ],
             [
              0.4444444444444444,
              "#bd3786"
             ],
             [
              0.5555555555555556,
              "#d8576b"
             ],
             [
              0.6666666666666666,
              "#ed7953"
             ],
             [
              0.7777777777777778,
              "#fb9f3a"
             ],
             [
              0.8888888888888888,
              "#fdca26"
             ],
             [
              1,
              "#f0f921"
             ]
            ],
            "type": "surface"
           }
          ],
          "table": [
           {
            "cells": {
             "fill": {
              "color": "#EBF0F8"
             },
             "line": {
              "color": "white"
             }
            },
            "header": {
             "fill": {
              "color": "#C8D4E3"
             },
             "line": {
              "color": "white"
             }
            },
            "type": "table"
           }
          ]
         },
         "layout": {
          "annotationdefaults": {
           "arrowcolor": "#2a3f5f",
           "arrowhead": 0,
           "arrowwidth": 1
          },
          "autotypenumbers": "strict",
          "coloraxis": {
           "colorbar": {
            "outlinewidth": 0,
            "ticks": ""
           }
          },
          "colorscale": {
           "diverging": [
            [
             0,
             "#8e0152"
            ],
            [
             0.1,
             "#c51b7d"
            ],
            [
             0.2,
             "#de77ae"
            ],
            [
             0.3,
             "#f1b6da"
            ],
            [
             0.4,
             "#fde0ef"
            ],
            [
             0.5,
             "#f7f7f7"
            ],
            [
             0.6,
             "#e6f5d0"
            ],
            [
             0.7,
             "#b8e186"
            ],
            [
             0.8,
             "#7fbc41"
            ],
            [
             0.9,
             "#4d9221"
            ],
            [
             1,
             "#276419"
            ]
           ],
           "sequential": [
            [
             0,
             "#0d0887"
            ],
            [
             0.1111111111111111,
             "#46039f"
            ],
            [
             0.2222222222222222,
             "#7201a8"
            ],
            [
             0.3333333333333333,
             "#9c179e"
            ],
            [
             0.4444444444444444,
             "#bd3786"
            ],
            [
             0.5555555555555556,
             "#d8576b"
            ],
            [
             0.6666666666666666,
             "#ed7953"
            ],
            [
             0.7777777777777778,
             "#fb9f3a"
            ],
            [
             0.8888888888888888,
             "#fdca26"
            ],
            [
             1,
             "#f0f921"
            ]
           ],
           "sequentialminus": [
            [
             0,
             "#0d0887"
            ],
            [
             0.1111111111111111,
             "#46039f"
            ],
            [
             0.2222222222222222,
             "#7201a8"
            ],
            [
             0.3333333333333333,
             "#9c179e"
            ],
            [
             0.4444444444444444,
             "#bd3786"
            ],
            [
             0.5555555555555556,
             "#d8576b"
            ],
            [
             0.6666666666666666,
             "#ed7953"
            ],
            [
             0.7777777777777778,
             "#fb9f3a"
            ],
            [
             0.8888888888888888,
             "#fdca26"
            ],
            [
             1,
             "#f0f921"
            ]
           ]
          },
          "colorway": [
           "#636efa",
           "#EF553B",
           "#00cc96",
           "#ab63fa",
           "#FFA15A",
           "#19d3f3",
           "#FF6692",
           "#B6E880",
           "#FF97FF",
           "#FECB52"
          ],
          "font": {
           "color": "#2a3f5f"
          },
          "geo": {
           "bgcolor": "white",
           "lakecolor": "white",
           "landcolor": "#E5ECF6",
           "showlakes": true,
           "showland": true,
           "subunitcolor": "white"
          },
          "hoverlabel": {
           "align": "left"
          },
          "hovermode": "closest",
          "mapbox": {
           "style": "light"
          },
          "paper_bgcolor": "white",
          "plot_bgcolor": "#E5ECF6",
          "polar": {
           "angularaxis": {
            "gridcolor": "white",
            "linecolor": "white",
            "ticks": ""
           },
           "bgcolor": "#E5ECF6",
           "radialaxis": {
            "gridcolor": "white",
            "linecolor": "white",
            "ticks": ""
           }
          },
          "scene": {
           "xaxis": {
            "backgroundcolor": "#E5ECF6",
            "gridcolor": "white",
            "gridwidth": 2,
            "linecolor": "white",
            "showbackground": true,
            "ticks": "",
            "zerolinecolor": "white"
           },
           "yaxis": {
            "backgroundcolor": "#E5ECF6",
            "gridcolor": "white",
            "gridwidth": 2,
            "linecolor": "white",
            "showbackground": true,
            "ticks": "",
            "zerolinecolor": "white"
           },
           "zaxis": {
            "backgroundcolor": "#E5ECF6",
            "gridcolor": "white",
            "gridwidth": 2,
            "linecolor": "white",
            "showbackground": true,
            "ticks": "",
            "zerolinecolor": "white"
           }
          },
          "shapedefaults": {
           "line": {
            "color": "#2a3f5f"
           }
          },
          "ternary": {
           "aaxis": {
            "gridcolor": "white",
            "linecolor": "white",
            "ticks": ""
           },
           "baxis": {
            "gridcolor": "white",
            "linecolor": "white",
            "ticks": ""
           },
           "bgcolor": "#E5ECF6",
           "caxis": {
            "gridcolor": "white",
            "linecolor": "white",
            "ticks": ""
           }
          },
          "title": {
           "x": 0.05
          },
          "xaxis": {
           "automargin": true,
           "gridcolor": "white",
           "linecolor": "white",
           "ticks": "",
           "title": {
            "standoff": 15
           },
           "zerolinecolor": "white",
           "zerolinewidth": 2
          },
          "yaxis": {
           "automargin": true,
           "gridcolor": "white",
           "linecolor": "white",
           "ticks": "",
           "title": {
            "standoff": 15
           },
           "zerolinecolor": "white",
           "zerolinewidth": 2
          }
         }
        },
        "xaxis": {
         "anchor": "y",
         "autorange": true,
         "domain": [
          0,
          1
         ],
         "range": [
          -6.489994908418224,
          7.15068807705836
         ],
         "type": "linear"
        },
        "yaxis": {
         "anchor": "x",
         "autorange": true,
         "domain": [
          0,
          1
         ],
         "range": [
          -3.8448571290784668,
          5.6787835683637455
         ],
         "type": "linear"
        }
       }
      },
      "image/png": "[encoded data removed]",
      "text/html": [
       "<div>                            <div id=\"ce1f2e0a-1e1c-4ac0-8682-317b74dd89b6\" class=\"plotly-graph-div\" style=\"height:525px; width:100%;\"></div>            <script type=\"text/javascript\">                require([\"plotly\"], function(Plotly) {                    window.PLOTLYENV=window.PLOTLYENV || {};                                    if (document.getElementById(\"ce1f2e0a-1e1c-4ac0-8682-317b74dd89b6\")) {                    Plotly.newPlot(                        \"ce1f2e0a-1e1c-4ac0-8682-317b74dd89b6\",                        [{\"marker\":{\"color\":[76,75,74,73,72,71,70,69,68,67,66,65,64,63,62,61,60,59,58,57,56,55,54,53,52,51,50,49,48,47,46,45,44,43,42,41,40,39,38,37,36,35,34,33,32,31,30,29,28,27,26,25,24,23,22,21,20,19,18,17,16,15,14,13,12,11,10,9,8,7,6,5,4,3,2,1,0],\"colorscale\":[[0.0,\"rgb(247,252,240)\"],[0.125,\"rgb(224,243,219)\"],[0.25,\"rgb(204,235,197)\"],[0.375,\"rgb(168,221,181)\"],[0.5,\"rgb(123,204,196)\"],[0.625,\"rgb(78,179,211)\"],[0.75,\"rgb(43,140,190)\"],[0.875,\"rgb(8,104,172)\"],[1.0,\"rgb(8,64,129)\"]],\"symbol\":\"square\"},\"mode\":\"markers\",\"name\":\"Mme de la Mole and Julien Sorel\",\"x\":[-5.703559875488281,-5.107720375061035,-5.372107028961182,-5.730574131011963,-5.490090370178223,-5.46219539642334,-5.283204555511475,-5.203576564788818,-5.142055988311768,-4.916891574859619,-4.592889785766602,-4.365951061248779,-4.103243350982666,-3.0970699787139893,-3.100494384765625,-2.638831377029419,-2.8111040592193604,-3.083278179168701,-3.0797016620635986,-3.11002779006958,-3.2796905040740967,-3.3729259967803955,-3.283749580383301,-3.1997015476226807,-2.6336309909820557,-2.7132015228271484,-3.296621322631836,-3.1202948093414307,-2.769333600997925,-2.68859601020813,-2.543644666671753,-2.0201497077941895,-1.0784121751785278,-1.3847780227661133,-1.995546579360962,-1.5562230348587036,-1.1934449672698975,-0.9169087409973145,-0.5747314095497131,-0.3282015919685364,0.007844163104891777,0.3670276403427124,0.750022828578949,1.2548519372940063,1.7352843284606934,2.04236102104187,2.2142550945281982,2.296889543533325,2.4251949787139893,2.6411983966827393,2.8810815811157227,3.3029932975769043,3.5716552734375,4.5655198097229,4.675136566162109,4.382537364959717,4.912334442138672,5.459225654602051,5.792520523071289,6.123182773590088,6.3912672996521,5.423073768615723,4.964759826660156,4.5410871505737305,4.894186973571777,4.375090599060059,4.004518032073975,4.275197982788086,4.160558700561523,4.240480422973633,4.288965225219727,4.578737735748291,3.925570487976074,3.3129141330718994,2.621425151824951,2.199625015258789,1.745741605758667],\"y\":[-2.6815576553344727,-3.1702659130096436,-2.920656442642212,-2.6749634742736816,-2.5976545810699463,-2.6908819675445557,-2.488025426864624,-2.2855024337768555,-1.9845584630966187,-1.6150856018066406,-1.4238961935043335,-1.375625729560852,-1.1833841800689697,-1.923368215560913,-1.4320495128631592,-1.1271743774414062,-0.8711925745010376,-0.5125869512557983,-0.3896641135215759,-0.1367122232913971,-0.0016192569164559245,0.0621805377304554,0.0492020919919014,0.155268132686615,0.15010786056518555,0.4612102806568146,0.5502838492393494,0.94832843542099,1.3071311712265015,1.5316256284713745,2.2563138008117676,2.116541624069214,1.6036666631698608,2.865140676498413,3.0861246585845947,3.6899502277374268,4.146786689758301,4.448199272155762,4.560693740844727,4.714780807495117,4.9412617683410645,5.004192352294922,4.756837844848633,4.527957916259766,4.162957191467285,3.720794439315796,3.480072259902954,3.027855634689331,2.413214921951294,1.5803605318069458,0.8550944924354553,0.32677435874938965,-1.0874264240264893,-1.0680304765701294,-0.03259778395295143,-0.2720448970794678,-0.4961346387863159,-0.5689460039138794,-0.6965109705924988,-0.5275055766105652,-0.7754347920417786,-1.2401173114776611,-1.4278711080551147,-1.8248852491378784,-2.2650959491729736,-2.1669514179229736,-2.2847559452056885,-2.354630947113037,-2.469719886779785,-2.4257426261901855,-2.3224852085113525,-2.891723871231079,-2.696164608001709,-2.609344959259033,-2.684682846069336,-2.6872787475585938,-2.138368844985962],\"type\":\"scatter\",\"xaxis\":\"x\",\"yaxis\":\"y\"},{\"marker\":{\"color\":[38,37,36,35,34,33,32,31,30,29,28,27,26,25,24,23,22,21,20,19,18,17,16,15,14,13,12,11,10,9,8,7,6,5,4,3,2,1,0],\"colorscale\":[[0.0,\"rgb(255,247,243)\"],[0.125,\"rgb(253,224,221)\"],[0.25,\"rgb(252,197,192)\"],[0.375,\"rgb(250,159,181)\"],[0.5,\"rgb(247,104,161)\"],[0.625,\"rgb(221,52,151)\"],[0.75,\"rgb(174,1,126)\"],[0.875,\"rgb(122,1,119)\"],[1.0,\"rgb(73,0,106)\"]]},\"mode\":\"markers\",\"name\":\"Mme R\\u00eanal and Julien Sorel\",\"x\":[4.774051666259766,5.482705116271973,5.562715530395508,5.7150654792785645,5.851107120513916,5.460186958312988,5.416634559631348,4.964113235473633,4.510198593139648,4.251811981201172,4.025153636932373,3.752856731414795,3.559748411178589,3.348130226135254,3.3856678009033203,1.6758406162261963,1.586297869682312,0.951415479183197,0.2878442108631134,-0.6223214864730835,-1.476038932800293,-2.4076321125030518,-2.8780524730682373,-3.2064290046691895,-3.6051371097564697,-3.78524112701416,-3.9876153469085693,-4.27163028717041,-4.410730361938477,-4.417300701141357,-4.5512375831604,-4.621626377105713,-4.264209270477295,-3.885849952697754,-4.531411170959473,-4.585501670837402,-4.695052146911621,-4.329695701599121,-4.02883243560791],\"y\":[-0.5472097992897034,-0.7150099873542786,-0.39098840951919556,-0.1739119589328766,0.031117526814341545,0.7492460012435913,1.016743779182434,1.7306249141693115,2.2345902919769287,2.0319950580596924,1.5509519577026367,0.9782962203025818,0.47322574257850647,0.16495965421199799,-0.6708166003227234,-1.9371986389160156,-2.4736595153808594,-2.4035677909851074,-2.3054709434509277,-2.3834660053253174,-1.9850523471832275,-1.7494438886642456,-1.5422276258468628,-1.4562627077102661,-1.4101969003677368,-1.3434562683105469,-1.1055080890655518,-0.6599332690238953,-0.06233613193035126,0.51213538646698,-0.01985015533864498,0.1250649392604828,3.498872995376587,1.313769817352295,1.1776697635650635,2.1103060245513916,2.237114906311035,1.8844040632247925,1.5144652128219604],\"type\":\"scatter\",\"xaxis\":\"x\",\"yaxis\":\"y\"}],                        {\"template\":{\"data\":{\"bar\":[{\"error_x\":{\"color\":\"#2a3f5f\"},\"error_y\":{\"color\":\"#2a3f5f\"},\"marker\":{\"line\":{\"color\":\"#E5ECF6\",\"width\":0.5},\"pattern\":{\"fillmode\":\"overlay\",\"size\":10,\"solidity\":0.2}},\"type\":\"bar\"}],\"barpolar\":[{\"marker\":{\"line\":{\"color\":\"#E5ECF6\",\"width\":0.5},\"pattern\":{\"fillmode\":\"overlay\",\"size\":10,\"solidity\":0.2}},\"type\":\"barpolar\"}],\"carpet\":[{\"aaxis\":{\"endlinecolor\":\"#2a3f5f\",\"gridcolor\":\"white\",\"linecolor\":\"white\",\"minorgridcolor\":\"white\",\"startlinecolor\":\"#2a3f5f\"},\"baxis\":{\"endlinecolor\":\"#2a3f5f\",\"gridcolor\":\"white\",\"linecolor\":\"white\",\"minorgridcolor\":\"white\",\"startlinecolor\":\"#2a3f5f\"},\"type\":\"carpet\"}],\"choropleth\":[{\"colorbar\":{\"outlinewidth\":0,\"ticks\":\"\"},\"type\":\"choropleth\"}],\"contour\":[{\"colorbar\":{\"outlinewidth\":0,\"ticks\":\"\"},\"colorscale\":[[0.0,\"#0d0887\"],[0.1111111111111111,\"#46039f\"],[0.2222222222222222,\"#7201a8\"],[0.3333333333333333,\"#9c179e\"],[0.4444444444444444,\"#bd3786\"],[0.5555555555555556,\"#d8576b\"],[0.6666666666666666,\"#ed7953\"],[0.7777777777777778,\"#fb9f3a\"],[0.8888888888888888,\"#fdca26\"],[1.0,\"#f0f921\"]],\"type\":\"contour\"}],\"contourcarpet\":[{\"colorbar\":{\"outlinewidth\":0,\"ticks\":\"\"},\"type\":\"contourcarpet\"}],\"heatmap\":[{\"colorbar\":{\"outlinewidth\":0,\"ticks\":\"\"},\"colorscale\":[[0.0,\"#0d0887\"],[0.1111111111111111,\"#46039f\"],[0.2222222222222222,\"#7201a8\"],[0.3333333333333333,\"#9c179e\"],[0.4444444444444444,\"#bd3786\"],[0.5555555555555556,\"#d8576b\"],[0.6666666666666666,\"#ed7953\"],[0.7777777777777778,\"#fb9f3a\"],[0.8888888888888888,\"#fdca26\"],[1.0,\"#f0f921\"]],\"type\":\"heatmap\"}],\"heatmapgl\":[{\"colorbar\":{\"outlinewidth\":0,\"ticks\":\"\"},\"colorscale\":[[0.0,\"#0d0887\"],[0.1111111111111111,\"#46039f\"],[0.2222222222222222,\"#7201a8\"],[0.3333333333333333,\"#9c179e\"],[0.4444444444444444,\"#bd3786\"],[0.5555555555555556,\"#d8576b\"],[0.6666666666666666,\"#ed7953\"],[0.7777777777777778,\"#fb9f3a\"],[0.8888888888888888,\"#fdca26\"],[1.0,\"#f0f921\"]],\"type\":\"heatmapgl\"}],\"histogram\":[{\"marker\":{\"pattern\":{\"fillmode\":\"overlay\",\"size\":10,\"solidity\":0.2}},\"type\":\"histogram\"}],\"histogram2d\":[{\"colorbar\":{\"outlinewidth\":0,\"ticks\":\"\"},\"colorscale\":[[0.0,\"#0d0887\"],[0.1111111111111111,\"#46039f\"],[0.2222222222222222,\"#7201a8\"],[0.3333333333333333,\"#9c179e\"],[0.4444444444444444,\"#bd3786\"],[0.5555555555555556,\"#d8576b\"],[0.6666666666666666,\"#ed7953\"],[0.7777777777777778,\"#fb9f3a\"],[0.8888888888888888,\"#fdca26\"],[1.0,\"#f0f921\"]],\"type\":\"histogram2d\"}],\"histogram2dcontour\":[{\"colorbar\":{\"outlinewidth\":0,\"ticks\":\"\"},\"colorscale\":[[0.0,\"#0d0887\"],[0.1111111111111111,\"#46039f\"],[0.2222222222222222,\"#7201a8\"],[0.3333333333333333,\"#9c179e\"],[0.4444444444444444,\"#bd3786\"],[0.5555555555555556,\"#d8576b\"],[0.6666666666666666,\"#ed7953\"],[0.7777777777777778,\"#fb9f3a\"],[0.8888888888888888,\"#fdca26\"],[1.0,\"#f0f921\"]],\"type\":\"histogram2dcontour\"}],\"mesh3d\":[{\"colorbar\":{\"outlinewidth\":0,\"ticks\":\"\"},\"type\":\"mesh3d\"}],\"parcoords\":[{\"line\":{\"colorbar\":{\"outlinewidth\":0,\"ticks\":\"\"}},\"type\":\"parcoords\"}],\"pie\":[{\"automargin\":true,\"type\":\"pie\"}],\"scatter\":[{\"marker\":{\"colorbar\":{\"outlinewidth\":0,\"ticks\":\"\"}},\"type\":\"scatter\"}],\"scatter3d\":[{\"line\":{\"colorbar\":{\"outlinewidth\":0,\"ticks\":\"\"}},\"marker\":{\"colorbar\":{\"outlinewidth\":0,\"ticks\":\"\"}},\"type\":\"scatter3d\"}],\"scattercarpet\":[{\"marker\":{\"colorbar\":{\"outlinewidth\":0,\"ticks\":\"\"}},\"type\":\"scattercarpet\"}],\"scattergeo\":[{\"marker\":{\"colorbar\":{\"outlinewidth\":0,\"ticks\":\"\"}},\"type\":\"scattergeo\"}],\"scattergl\":[{\"marker\":{\"colorbar\":{\"outlinewidth\":0,\"ticks\":\"\"}},\"type\":\"scattergl\"}],\"scattermapbox\":[{\"marker\":{\"colorbar\":{\"outlinewidth\":0,\"ticks\":\"\"}},\"type\":\"scattermapbox\"}],\"scatterpolar\":[{\"marker\":{\"colorbar\":{\"outlinewidth\":0,\"ticks\":\"\"}},\"type\":\"scatterpolar\"}],\"scatterpolargl\":[{\"marker\":{\"colorbar\":{\"outlinewidth\":0,\"ticks\":\"\"}},\"type\":\"scatterpolargl\"}],\"scatterternary\":[{\"marker\":{\"colorbar\":{\"outlinewidth\":0,\"ticks\":\"\"}},\"type\":\"scatterternary\"}],\"surface\":[{\"colorbar\":{\"outlinewidth\":0,\"ticks\":\"\"},\"colorscale\":[[0.0,\"#0d0887\"],[0.1111111111111111,\"#46039f\"],[0.2222222222222222,\"#7201a8\"],[0.3333333333333333,\"#9c179e\"],[0.4444444444444444,\"#bd3786\"],[0.5555555555555556,\"#d8576b\"],[0.6666666666666666,\"#ed7953\"],[0.7777777777777778,\"#fb9f3a\"],[0.8888888888888888,\"#fdca26\"],[1.0,\"#f0f921\"]],\"type\":\"surface\"}],\"table\":[{\"cells\":{\"fill\":{\"color\":\"#EBF0F8\"},\"line\":{\"color\":\"white\"}},\"header\":{\"fill\":{\"color\":\"#C8D4E3\"},\"line\":{\"color\":\"white\"}},\"type\":\"table\"}]},\"layout\":{\"annotationdefaults\":{\"arrowcolor\":\"#2a3f5f\",\"arrowhead\":0,\"arrowwidth\":1},\"autotypenumbers\":\"strict\",\"coloraxis\":{\"colorbar\":{\"outlinewidth\":0,\"ticks\":\"\"}},\"colorscale\":{\"diverging\":[[0,\"#8e0152\"],[0.1,\"#c51b7d\"],[0.2,\"#de77ae\"],[0.3,\"#f1b6da\"],[0.4,\"#fde0ef\"],[0.5,\"#f7f7f7\"],[0.6,\"#e6f5d0\"],[0.7,\"#b8e186\"],[0.8,\"#7fbc41\"],[0.9,\"#4d9221\"],[1,\"#276419\"]],\"sequential\":[[0.0,\"#0d0887\"],[0.1111111111111111,\"#46039f\"],[0.2222222222222222,\"#7201a8\"],[0.3333333333333333,\"#9c179e\"],[0.4444444444444444,\"#bd3786\"],[0.5555555555555556,\"#d8576b\"],[0.6666666666666666,\"#ed7953\"],[0.7777777777777778,\"#fb9f3a\"],[0.8888888888888888,\"#fdca26\"],[1.0,\"#f0f921\"]],\"sequentialminus\":[[0.0,\"#0d0887\"],[0.1111111111111111,\"#46039f\"],[0.2222222222222222,\"#7201a8\"],[0.3333333333333333,\"#9c179e\"],[0.4444444444444444,\"#bd3786\"],[0.5555555555555556,\"#d8576b\"],[0.6666666666666666,\"#ed7953\"],[0.7777777777777778,\"#fb9f3a\"],[0.8888888888888888,\"#fdca26\"],[1.0,\"#f0f921\"]]},\"colorway\":[\"#636efa\",\"#EF553B\",\"#00cc96\",\"#ab63fa\",\"#FFA15A\",\"#19d3f3\",\"#FF6692\",\"#B6E880\",\"#FF97FF\",\"#FECB52\"],\"font\":{\"color\":\"#2a3f5f\"},\"geo\":{\"bgcolor\":\"white\",\"lakecolor\":\"white\",\"landcolor\":\"#E5ECF6\",\"showlakes\":true,\"showland\":true,\"subunitcolor\":\"white\"},\"hoverlabel\":{\"align\":\"left\"},\"hovermode\":\"closest\",\"mapbox\":{\"style\":\"light\"},\"paper_bgcolor\":\"white\",\"plot_bgcolor\":\"#E5ECF6\",\"polar\":{\"angularaxis\":{\"gridcolor\":\"white\",\"linecolor\":\"white\",\"ticks\":\"\"},\"bgcolor\":\"#E5ECF6\",\"radialaxis\":{\"gridcolor\":\"white\",\"linecolor\":\"white\",\"ticks\":\"\"}},\"scene\":{\"xaxis\":{\"backgroundcolor\":\"#E5ECF6\",\"gridcolor\":\"white\",\"gridwidth\":2,\"linecolor\":\"white\",\"showbackground\":true,\"ticks\":\"\",\"zerolinecolor\":\"white\"},\"yaxis\":{\"backgroundcolor\":\"#E5ECF6\",\"gridcolor\":\"white\",\"gridwidth\":2,\"linecolor\":\"white\",\"showbackground\":true,\"ticks\":\"\",\"zerolinecolor\":\"white\"},\"zaxis\":{\"backgroundcolor\":\"#E5ECF6\",\"gridcolor\":\"white\",\"gridwidth\":2,\"linecolor\":\"white\",\"showbackground\":true,\"ticks\":\"\",\"zerolinecolor\":\"white\"}},\"shapedefaults\":{\"line\":{\"color\":\"#2a3f5f\"}},\"ternary\":{\"aaxis\":{\"gridcolor\":\"white\",\"linecolor\":\"white\",\"ticks\":\"\"},\"baxis\":{\"gridcolor\":\"white\",\"linecolor\":\"white\",\"ticks\":\"\"},\"bgcolor\":\"#E5ECF6\",\"caxis\":{\"gridcolor\":\"white\",\"linecolor\":\"white\",\"ticks\":\"\"}},\"title\":{\"x\":0.05},\"xaxis\":{\"automargin\":true,\"gridcolor\":\"white\",\"linecolor\":\"white\",\"ticks\":\"\",\"title\":{\"standoff\":15},\"zerolinecolor\":\"white\",\"zerolinewidth\":2},\"yaxis\":{\"automargin\":true,\"gridcolor\":\"white\",\"linecolor\":\"white\",\"ticks\":\"\",\"title\":{\"standoff\":15},\"zerolinecolor\":\"white\",\"zerolinewidth\":2}}},\"xaxis\":{\"anchor\":\"y\",\"domain\":[0.0,1.0]},\"yaxis\":{\"anchor\":\"x\",\"domain\":[0.0,1.0]}},                        {\"responsive\": true}                    ).then(function(){\n",
       "                            \n",
       "var gd = document.getElementById('ce1f2e0a-1e1c-4ac0-8682-317b74dd89b6');\n",
       "var x = new MutationObserver(function (mutations, observer) {{\n",
       "        var display = window.getComputedStyle(gd).display;\n",
       "        if (!display || display === 'none') {{\n",
       "            console.log([gd, 'removed!']);\n",
       "            Plotly.purge(gd);\n",
       "            observer.disconnect();\n",
       "        }}\n",
       "}});\n",
       "\n",
       "// Listen for the removal of the full notebook cells\n",
       "var notebookContainer = gd.closest('#notebook-container');\n",
       "if (notebookContainer) {{\n",
       "    x.observe(notebookContainer, {childList: true});\n",
       "}}\n",
       "\n",
       "// Listen for the clearing of the current output cell\n",
       "var outputEl = gd.closest('.output');\n",
       "if (outputEl) {{\n",
       "    x.observe(outputEl, {childList: true});\n",
       "}}\n",
       "\n",
       "                        })                };                });            </script>        </div>"
      ]
     },
     "metadata": {},
     "output_type": "display_data"
    }
   ],
   "source": [
    "fig = make_subplots(rows=1, cols=1)\n",
    "\n",
    "mole_sorel_df = pd.DataFrame(mole_sorel_pca[0])\n",
    "renal_sorel_df = pd.DataFrame(renal_sorel_pca[0])\n",
    "\n",
    "fig.add_trace(\n",
    "    go.Scatter(x = mole_sorel_df[0], y = mole_sorel_df[1], mode='markers', marker = dict (\n",
    "        color=mole_sorel_df.index[::-1], colorscale = 'GnBu', symbol = 'square'), name = \"Mme de la Mole and Julien Sorel\"),\n",
    "    row = 1, col = 1)\n",
    "\n",
    "fig.add_trace(\n",
    "    go.Scatter(x = renal_sorel_df[0], y = renal_sorel_df[1], mode='markers', marker = dict (\n",
    "        color=renal_sorel_df.index[::-1], colorscale = 'RdPu'), name = 'Mme Rênal and Julien Sorel'),\n",
    "    row = 1, col = 1)\n",
    "fig.show()"
   ]
  },
  {
   "cell_type": "code",
   "execution_count": null,
   "id": "d1c5cc57-b3a6-4f57-8103-e61eb829b3cc",
   "metadata": {},
   "outputs": [],
   "source": []
  }
 ],
 "metadata": {
  "kernelspec": {
   "display_name": "Python 3 (ipykernel)",
   "language": "python",
   "name": "python3"
  },
  "language_info": {
   "codemirror_mode": {
    "name": "ipython",
    "version": 3
   },
   "file_extension": ".py",
   "mimetype": "text/x-python",
   "name": "python",
   "nbconvert_exporter": "python",
   "pygments_lexer": "ipython3",
   "version": "3.8.12"
  }
 },
 "nbformat": 4,
 "nbformat_minor": 5
}
