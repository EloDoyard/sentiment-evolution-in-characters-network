{
 "cells": [
  {
   "cell_type": "markdown",
   "id": "3b831698-28a6-46d8-8486-5d3b4f52bca0",
   "metadata": {
    "tags": []
   },
   "source": [
    "# Interaction between characters"
   ]
  },
  {
   "cell_type": "code",
   "execution_count": 1,
   "id": "9ec5d45d-c213-4078-8e00-6ae868947b7f",
   "metadata": {},
   "outputs": [],
   "source": [
    "import sys\n",
    "sys.path.insert(1, '../src')\n",
    "\n",
    "from book_entities import *\n",
    "from book_entities_embeddings_getters import *"
   ]
  },
  {
   "cell_type": "markdown",
   "id": "44623721-d982-41ab-bf06-61844a6e17b4",
   "metadata": {},
   "source": [
    "## Book entities"
   ]
  },
  {
   "cell_type": "code",
   "execution_count": 2,
   "id": "8b61ba71-b169-4170-8a3e-c7a6b1eef3ef",
   "metadata": {},
   "outputs": [],
   "source": [
    "# cleaned entities\n",
    "textually_close_merged_book_cleaned_entities, lax_merged_book_cleaned_entities = get_book_entities(\n",
    "    f'../data/book_entities/grouped_token_cleaned.csv')"
   ]
  },
  {
   "cell_type": "code",
   "execution_count": 3,
   "id": "7b20e1e5-e07f-4f4b-82d3-a369af333b19",
   "metadata": {},
   "outputs": [
    {
     "name": "stdout",
     "output_type": "stream",
     "text": [
      "0 Comte Altamira\n",
      "1 Amanda\n",
      "2 M Appert\n",
      "3 Bonaparte\n",
      "4 Abbé Castanède\n",
      "5 Caylus\n",
      "6 Abbé Chélan\n",
      "7 Croisenois\n",
      "8 Danton\n",
      "9 Mme Derville\n",
      "10 M Descoulis\n",
      "11 Dieu\n",
      "12 Falcoz\n",
      "13 M Fouqué\n",
      "14 Vicaire Frilair\n",
      "15 Geronimo\n",
      "16 Abbé Julien Sorel\n",
      "17 Mole Mathilde\n",
      "18 Prince Korasoff\n",
      "19 Estime\n",
      "20 Père Marquis\n",
      "21 Vicaire Maslon\n",
      "22 Général Napoléon\n",
      "23 Comte Norbert\n",
      "24 M Pirard\n",
      "25 Pitt\n",
      "26 M Rênal\n",
      "27 Mme Rênal\n",
      "28 Mère Stanislas\n",
      "29 Père Stanislas\n",
      "30 M Tanbeau\n",
      "31 M Valenod\n",
      "32 Élisa\n"
     ]
    }
   ],
   "source": [
    "for idx, i in enumerate(textually_close_merged_book_cleaned_entities) :\n",
    "    print(idx,BookEntity.from_list_entity(i).get_shortname())"
   ]
  },
  {
   "cell_type": "markdown",
   "id": "7f85823d-a6f5-4a78-9d39-fc028e511e4c",
   "metadata": {},
   "source": [
    "## Paragraphs"
   ]
  },
  {
   "cell_type": "code",
   "execution_count": 4,
   "id": "7d443787-416d-4f35-9f40-87b6db4581a1",
   "metadata": {},
   "outputs": [],
   "source": [
    "from bs4 import BeautifulSoup"
   ]
  },
  {
   "cell_type": "code",
   "execution_count": 5,
   "id": "804c164a-be2e-4542-b1b6-e043f05e4544",
   "metadata": {},
   "outputs": [],
   "source": [
    "# Reading the data inside the xml\n",
    "# file to a variable under the name\n",
    "# data\n",
    "with open('../data/book/stendhal_rougenoir_xml.xml', 'r') as f:\n",
    "\tdata = f.read()"
   ]
  },
  {
   "cell_type": "code",
   "execution_count": 6,
   "id": "71dc03d0-d7c2-4061-9f32-6ad9d9d238cb",
   "metadata": {
    "tags": []
   },
   "outputs": [],
   "source": [
    "# Passing the stored data inside\n",
    "# the beautifulsoup parser, storing\n",
    "# the returned object\n",
    "Bs_data = BeautifulSoup(data, \"xml\")"
   ]
  },
  {
   "cell_type": "code",
   "execution_count": 7,
   "id": "95795673-e7b8-4e45-8d34-1d7103339441",
   "metadata": {
    "tags": []
   },
   "outputs": [],
   "source": [
    "paragraphs = []\n",
    "for tag in Bs_data.find_all('p') :\n",
    "    if tag.name == 'p' and not ('rend' in tag.attrs) :\n",
    "        paragraphs.append(tag.get_text())"
   ]
  },
  {
   "cell_type": "markdown",
   "id": "e0b037bf-4d7f-45a8-8ba8-c28abefffcb1",
   "metadata": {},
   "source": [
    "### dialogue et narration"
   ]
  },
  {
   "cell_type": "code",
   "execution_count": 8,
   "id": "971570fa-3421-4665-a6a7-dbca0f01fdda",
   "metadata": {},
   "outputs": [],
   "source": [
    "narration = []\n",
    "temp_dialogue = []\n",
    "for p in paragraphs :\n",
    "    if isinstance(p, str) :\n",
    "        if p[0] == '–' :\n",
    "            temp_dialogue.append(p)\n",
    "        else :\n",
    "            if len(temp_dialogue)>0 :\n",
    "                narration.append(' '.join(temp_dialogue))\n",
    "                temp_dialogue=[]\n",
    "            narration.append(p)\n",
    "        "
   ]
  },
  {
   "cell_type": "markdown",
   "id": "244e5832-320e-4eff-8e9b-775f194cd53e",
   "metadata": {},
   "source": [
    "pour chaque paragraphe chercher si il contient une entité, puis regarder toutes les entités qu'il contient \n",
    "\n"
   ]
  },
  {
   "cell_type": "markdown",
   "id": "26dd7f62-f834-4e1d-8994-73a2fcc249eb",
   "metadata": {},
   "source": [
    "### narration"
   ]
  },
  {
   "cell_type": "code",
   "execution_count": 9,
   "id": "c7dd6c1b-5e5b-4c4c-a74f-7e5b3d566087",
   "metadata": {},
   "outputs": [],
   "source": [
    "def process_paragraph(p) :\n",
    "    \n",
    "    pattern1 = r\"\"\"[,.;@#?!&$\\s:–]+\"\"\"\n",
    "    pattern2 = r\"\"\"[-'’_]\"\"\"\n",
    "\n",
    "    p = re.sub(r'|'.join((pattern1, pattern2)),\n",
    "               \" \",          # and replace it with a single space\n",
    "               p.replace('\\xa0', ' '), flags=re.VERBOSE)\n",
    "    return [i.lower() for i in p.split(' ')[:-1] if i.lower() not in french_stopwords]"
   ]
  },
  {
   "cell_type": "code",
   "execution_count": 10,
   "id": "0b2a680f-3ef3-49f6-beff-969ca2862b5a",
   "metadata": {},
   "outputs": [],
   "source": [
    "def entity_in_paragraph(entity, paragraph):\n",
    "    return [1 for address in entity.all_addresses if all(x.lower() in p for x in address.lower().split(' '))]"
   ]
  },
  {
   "cell_type": "code",
   "execution_count": 11,
   "id": "c8adbd33-ef2c-483a-882a-ea1cf04dd46e",
   "metadata": {},
   "outputs": [],
   "source": [
    "dict_interaction = {}\n",
    "for paragraph in narration :\n",
    "    p = process_paragraph(paragraph)\n",
    "    paragraph_entities = [\n",
    "        i for i in textually_close_merged_book_cleaned_entities if entity_in_paragraph(i, p)]\n",
    "    \n",
    "    if len(paragraph_entities)>=2 :\n",
    "        key = frozenset(paragraph_entities)\n",
    "        value = dict_interaction.get(key,[])\n",
    "        value.append(p)\n",
    "        dict_interaction[key] = value"
   ]
  },
  {
   "cell_type": "code",
   "execution_count": 12,
   "id": "fae95b81-4367-4651-8edf-2231be500f1a",
   "metadata": {},
   "outputs": [
    {
     "data": {
      "text/plain": [
       "199"
      ]
     },
     "execution_count": 12,
     "metadata": {},
     "output_type": "execute_result"
    }
   ],
   "source": [
    "len(dict_interaction)"
   ]
  },
  {
   "cell_type": "markdown",
   "id": "808ee9fc-eb2b-4211-a7cc-d95624a6d482",
   "metadata": {},
   "source": [
    "## DataFrame of Interactions"
   ]
  },
  {
   "cell_type": "code",
   "execution_count": 13,
   "id": "6429d67d-99f9-41f9-b5b9-1b0dc4be986f",
   "metadata": {},
   "outputs": [],
   "source": [
    "entities = []\n",
    "interactions = []\n",
    "for k, v in dict_interaction.items() :\n",
    "    entities.append([BookEntity.from_list_entity(ent).get_shortname() for ent in k])\n",
    "    interactions.append(v)\n",
    "    \n",
    "interactions_df = pd.DataFrame({'entities':entities, 'interactions' : interactions})"
   ]
  },
  {
   "cell_type": "code",
   "execution_count": 14,
   "id": "bb2127b9-0b26-4b1f-b836-b3967f8654c4",
   "metadata": {},
   "outputs": [
    {
     "data": {
      "text/html": [
       "<div>\n",
       "<style scoped>\n",
       "    .dataframe tbody tr th:only-of-type {\n",
       "        vertical-align: middle;\n",
       "    }\n",
       "\n",
       "    .dataframe tbody tr th {\n",
       "        vertical-align: top;\n",
       "    }\n",
       "\n",
       "    .dataframe thead th {\n",
       "        text-align: right;\n",
       "    }\n",
       "</style>\n",
       "<table border=\"1\" class=\"dataframe\">\n",
       "  <thead>\n",
       "    <tr style=\"text-align: right;\">\n",
       "      <th></th>\n",
       "      <th>entities</th>\n",
       "      <th>interactions</th>\n",
       "    </tr>\n",
       "  </thead>\n",
       "  <tbody>\n",
       "    <tr>\n",
       "      <th>0</th>\n",
       "      <td>[M Rênal, Abbé Julien Sorel]</td>\n",
       "      <td>[[attendez, point, trouver, france, jardins, p...</td>\n",
       "    </tr>\n",
       "    <tr>\n",
       "      <th>1</th>\n",
       "      <td>[M Rênal, Vicaire Maslon]</td>\n",
       "      <td>[[trouve, chose, reprendre, cours, fidelite, l...</td>\n",
       "    </tr>\n",
       "    <tr>\n",
       "      <th>2</th>\n",
       "      <td>[M Rênal, Mme Rênal]</td>\n",
       "      <td>[[jour, automne, m, rênal, promenait, cours, f...</td>\n",
       "    </tr>\n",
       "    <tr>\n",
       "      <th>3</th>\n",
       "      <td>[M Rênal, M Valenod, Abbé Chélan]</td>\n",
       "      <td>[[faits, commentés, exagérés, façons, agitaien...</td>\n",
       "    </tr>\n",
       "    <tr>\n",
       "      <th>4</th>\n",
       "      <td>[M Rênal, M Valenod]</td>\n",
       "      <td>[[reproches, m, rênal, m, valenod, directeur, ...</td>\n",
       "    </tr>\n",
       "  </tbody>\n",
       "</table>\n",
       "</div>"
      ],
      "text/plain": [
       "                            entities  \\\n",
       "0       [M Rênal, Abbé Julien Sorel]   \n",
       "1          [M Rênal, Vicaire Maslon]   \n",
       "2               [M Rênal, Mme Rênal]   \n",
       "3  [M Rênal, M Valenod, Abbé Chélan]   \n",
       "4               [M Rênal, M Valenod]   \n",
       "\n",
       "                                        interactions  \n",
       "0  [[attendez, point, trouver, france, jardins, p...  \n",
       "1  [[trouve, chose, reprendre, cours, fidelite, l...  \n",
       "2  [[jour, automne, m, rênal, promenait, cours, f...  \n",
       "3  [[faits, commentés, exagérés, façons, agitaien...  \n",
       "4  [[reproches, m, rênal, m, valenod, directeur, ...  "
      ]
     },
     "execution_count": 14,
     "metadata": {},
     "output_type": "execute_result"
    }
   ],
   "source": [
    "interactions_df.head()"
   ]
  },
  {
   "cell_type": "code",
   "execution_count": 15,
   "id": "91606031-e469-4434-9e2d-763287623f98",
   "metadata": {},
   "outputs": [
    {
     "data": {
      "text/html": [
       "<div>\n",
       "<style scoped>\n",
       "    .dataframe tbody tr th:only-of-type {\n",
       "        vertical-align: middle;\n",
       "    }\n",
       "\n",
       "    .dataframe tbody tr th {\n",
       "        vertical-align: top;\n",
       "    }\n",
       "\n",
       "    .dataframe thead th {\n",
       "        text-align: right;\n",
       "    }\n",
       "</style>\n",
       "<table border=\"1\" class=\"dataframe\">\n",
       "  <thead>\n",
       "    <tr style=\"text-align: right;\">\n",
       "      <th></th>\n",
       "      <th>entities</th>\n",
       "      <th>interactions</th>\n",
       "      <th>nber_interactions</th>\n",
       "    </tr>\n",
       "  </thead>\n",
       "  <tbody>\n",
       "    <tr>\n",
       "      <th>0</th>\n",
       "      <td>[M Rênal, Abbé Julien Sorel]</td>\n",
       "      <td>[[attendez, point, trouver, france, jardins, p...</td>\n",
       "      <td>50</td>\n",
       "    </tr>\n",
       "    <tr>\n",
       "      <th>1</th>\n",
       "      <td>[M Rênal, Vicaire Maslon]</td>\n",
       "      <td>[[trouve, chose, reprendre, cours, fidelite, l...</td>\n",
       "      <td>1</td>\n",
       "    </tr>\n",
       "    <tr>\n",
       "      <th>2</th>\n",
       "      <td>[M Rênal, Mme Rênal]</td>\n",
       "      <td>[[jour, automne, m, rênal, promenait, cours, f...</td>\n",
       "      <td>12</td>\n",
       "    </tr>\n",
       "    <tr>\n",
       "      <th>3</th>\n",
       "      <td>[M Rênal, M Valenod, Abbé Chélan]</td>\n",
       "      <td>[[faits, commentés, exagérés, façons, agitaien...</td>\n",
       "      <td>1</td>\n",
       "    </tr>\n",
       "    <tr>\n",
       "      <th>4</th>\n",
       "      <td>[M Rênal, M Valenod]</td>\n",
       "      <td>[[reproches, m, rênal, m, valenod, directeur, ...</td>\n",
       "      <td>8</td>\n",
       "    </tr>\n",
       "  </tbody>\n",
       "</table>\n",
       "</div>"
      ],
      "text/plain": [
       "                            entities  \\\n",
       "0       [M Rênal, Abbé Julien Sorel]   \n",
       "1          [M Rênal, Vicaire Maslon]   \n",
       "2               [M Rênal, Mme Rênal]   \n",
       "3  [M Rênal, M Valenod, Abbé Chélan]   \n",
       "4               [M Rênal, M Valenod]   \n",
       "\n",
       "                                        interactions  nber_interactions  \n",
       "0  [[attendez, point, trouver, france, jardins, p...                 50  \n",
       "1  [[trouve, chose, reprendre, cours, fidelite, l...                  1  \n",
       "2  [[jour, automne, m, rênal, promenait, cours, f...                 12  \n",
       "3  [[faits, commentés, exagérés, façons, agitaien...                  1  \n",
       "4  [[reproches, m, rênal, m, valenod, directeur, ...                  8  "
      ]
     },
     "execution_count": 15,
     "metadata": {},
     "output_type": "execute_result"
    }
   ],
   "source": [
    "interactions_df['nber_interactions']= interactions_df.interactions.apply(lambda x : len(x))\n",
    "interactions_df.head()"
   ]
  },
  {
   "cell_type": "code",
   "execution_count": 16,
   "id": "684c1077-2996-4956-9097-aa0eedc7ccc4",
   "metadata": {},
   "outputs": [],
   "source": [
    "interactions_df = interactions_df.sort_values(by = 'nber_interactions', ascending = False)"
   ]
  },
  {
   "cell_type": "code",
   "execution_count": 17,
   "id": "6691c10f-cb72-436f-93d6-5155308397ed",
   "metadata": {},
   "outputs": [
    {
     "data": {
      "text/plain": [
       "(199, 3)"
      ]
     },
     "execution_count": 17,
     "metadata": {},
     "output_type": "execute_result"
    }
   ],
   "source": [
    "interactions_df.shape"
   ]
  },
  {
   "cell_type": "code",
   "execution_count": 18,
   "id": "83e93758-ce04-467a-9baa-fefa599cb799",
   "metadata": {},
   "outputs": [
    {
     "data": {
      "text/html": [
       "<div>\n",
       "<style scoped>\n",
       "    .dataframe tbody tr th:only-of-type {\n",
       "        vertical-align: middle;\n",
       "    }\n",
       "\n",
       "    .dataframe tbody tr th {\n",
       "        vertical-align: top;\n",
       "    }\n",
       "\n",
       "    .dataframe thead th {\n",
       "        text-align: right;\n",
       "    }\n",
       "</style>\n",
       "<table border=\"1\" class=\"dataframe\">\n",
       "  <thead>\n",
       "    <tr style=\"text-align: right;\">\n",
       "      <th></th>\n",
       "      <th>entities</th>\n",
       "      <th>interactions</th>\n",
       "      <th>nber_interactions</th>\n",
       "    </tr>\n",
       "  </thead>\n",
       "  <tbody>\n",
       "    <tr>\n",
       "      <th>16</th>\n",
       "      <td>[Abbé Julien Sorel, Mme Rênal]</td>\n",
       "      <td>[[julien, cœur, troublé, arrivée, maison, extr...</td>\n",
       "      <td>121</td>\n",
       "    </tr>\n",
       "    <tr>\n",
       "      <th>107</th>\n",
       "      <td>[Abbé Julien Sorel, Mole Mathilde]</td>\n",
       "      <td>[[lendemain, fort, bonne, heure, julien, faisa...</td>\n",
       "      <td>103</td>\n",
       "    </tr>\n",
       "    <tr>\n",
       "      <th>0</th>\n",
       "      <td>[M Rênal, Abbé Julien Sorel]</td>\n",
       "      <td>[[attendez, point, trouver, france, jardins, p...</td>\n",
       "      <td>50</td>\n",
       "    </tr>\n",
       "    <tr>\n",
       "      <th>77</th>\n",
       "      <td>[Abbé Julien Sorel, M Pirard]</td>\n",
       "      <td>[[julien, releva, yeux, effort, voix, battemen...</td>\n",
       "      <td>39</td>\n",
       "    </tr>\n",
       "    <tr>\n",
       "      <th>8</th>\n",
       "      <td>[Abbé Julien Sorel, Dieu]</td>\n",
       "      <td>[[«, descends, animal, », bruit, machine, empê...</td>\n",
       "      <td>28</td>\n",
       "    </tr>\n",
       "    <tr>\n",
       "      <th>...</th>\n",
       "      <td>...</td>\n",
       "      <td>...</td>\n",
       "      <td>...</td>\n",
       "    </tr>\n",
       "    <tr>\n",
       "      <th>1</th>\n",
       "      <td>[M Rênal, Vicaire Maslon]</td>\n",
       "      <td>[[trouve, chose, reprendre, cours, fidelite, l...</td>\n",
       "      <td>1</td>\n",
       "    </tr>\n",
       "    <tr>\n",
       "      <th>81</th>\n",
       "      <td>[M Pirard, Dieu]</td>\n",
       "      <td>[[dieu, prend, croit, comprenne, veut, choisit...</td>\n",
       "      <td>1</td>\n",
       "    </tr>\n",
       "    <tr>\n",
       "      <th>87</th>\n",
       "      <td>[Dieu, Abbé Castanède]</td>\n",
       "      <td>[[jeunes, paysans, effrayés, travail, pénible,...</td>\n",
       "      <td>1</td>\n",
       "    </tr>\n",
       "    <tr>\n",
       "      <th>94</th>\n",
       "      <td>[Abbé Chélan, Mme Rênal]</td>\n",
       "      <td>[[lendemain, midi, arriva, verrières, heureux,...</td>\n",
       "      <td>1</td>\n",
       "    </tr>\n",
       "    <tr>\n",
       "      <th>198</th>\n",
       "      <td>[Vicaire Maslon, M Valenod]</td>\n",
       "      <td>[[heureux, petit, nombre, jours, courte, vie, ...</td>\n",
       "      <td>1</td>\n",
       "    </tr>\n",
       "  </tbody>\n",
       "</table>\n",
       "<p>75 rows × 3 columns</p>\n",
       "</div>"
      ],
      "text/plain": [
       "                               entities  \\\n",
       "16       [Abbé Julien Sorel, Mme Rênal]   \n",
       "107  [Abbé Julien Sorel, Mole Mathilde]   \n",
       "0          [M Rênal, Abbé Julien Sorel]   \n",
       "77        [Abbé Julien Sorel, M Pirard]   \n",
       "8             [Abbé Julien Sorel, Dieu]   \n",
       "..                                  ...   \n",
       "1             [M Rênal, Vicaire Maslon]   \n",
       "81                     [M Pirard, Dieu]   \n",
       "87               [Dieu, Abbé Castanède]   \n",
       "94             [Abbé Chélan, Mme Rênal]   \n",
       "198         [Vicaire Maslon, M Valenod]   \n",
       "\n",
       "                                          interactions  nber_interactions  \n",
       "16   [[julien, cœur, troublé, arrivée, maison, extr...                121  \n",
       "107  [[lendemain, fort, bonne, heure, julien, faisa...                103  \n",
       "0    [[attendez, point, trouver, france, jardins, p...                 50  \n",
       "77   [[julien, releva, yeux, effort, voix, battemen...                 39  \n",
       "8    [[«, descends, animal, », bruit, machine, empê...                 28  \n",
       "..                                                 ...                ...  \n",
       "1    [[trouve, chose, reprendre, cours, fidelite, l...                  1  \n",
       "81   [[dieu, prend, croit, comprenne, veut, choisit...                  1  \n",
       "87   [[jeunes, paysans, effrayés, travail, pénible,...                  1  \n",
       "94   [[lendemain, midi, arriva, verrières, heureux,...                  1  \n",
       "198  [[heureux, petit, nombre, jours, courte, vie, ...                  1  \n",
       "\n",
       "[75 rows x 3 columns]"
      ]
     },
     "execution_count": 18,
     "metadata": {},
     "output_type": "execute_result"
    }
   ],
   "source": [
    "interactions_df[interactions_df.entities.apply(lambda x : len(x) == 2)]"
   ]
  },
  {
   "cell_type": "code",
   "execution_count": 19,
   "id": "f60926d7-ddd0-4788-917b-25cda914fd30",
   "metadata": {},
   "outputs": [
    {
     "data": {
      "text/html": [
       "<div>\n",
       "<style scoped>\n",
       "    .dataframe tbody tr th:only-of-type {\n",
       "        vertical-align: middle;\n",
       "    }\n",
       "\n",
       "    .dataframe tbody tr th {\n",
       "        vertical-align: top;\n",
       "    }\n",
       "\n",
       "    .dataframe thead th {\n",
       "        text-align: right;\n",
       "    }\n",
       "</style>\n",
       "<table border=\"1\" class=\"dataframe\">\n",
       "  <thead>\n",
       "    <tr style=\"text-align: right;\">\n",
       "      <th></th>\n",
       "      <th>entities</th>\n",
       "      <th>interactions</th>\n",
       "      <th>nber_interactions</th>\n",
       "    </tr>\n",
       "  </thead>\n",
       "  <tbody>\n",
       "    <tr>\n",
       "      <th>16</th>\n",
       "      <td>[Abbé Julien Sorel, Mme Rênal]</td>\n",
       "      <td>[[julien, cœur, troublé, arrivée, maison, extr...</td>\n",
       "      <td>121</td>\n",
       "    </tr>\n",
       "    <tr>\n",
       "      <th>107</th>\n",
       "      <td>[Abbé Julien Sorel, Mole Mathilde]</td>\n",
       "      <td>[[lendemain, fort, bonne, heure, julien, faisa...</td>\n",
       "      <td>103</td>\n",
       "    </tr>\n",
       "    <tr>\n",
       "      <th>0</th>\n",
       "      <td>[M Rênal, Abbé Julien Sorel]</td>\n",
       "      <td>[[attendez, point, trouver, france, jardins, p...</td>\n",
       "      <td>50</td>\n",
       "    </tr>\n",
       "    <tr>\n",
       "      <th>77</th>\n",
       "      <td>[Abbé Julien Sorel, M Pirard]</td>\n",
       "      <td>[[julien, releva, yeux, effort, voix, battemen...</td>\n",
       "      <td>39</td>\n",
       "    </tr>\n",
       "    <tr>\n",
       "      <th>17</th>\n",
       "      <td>[M Rênal, Abbé Julien Sorel, Mme Rênal]</td>\n",
       "      <td>[[teint, petit, paysan, blanc, yeux, doux, esp...</td>\n",
       "      <td>35</td>\n",
       "    </tr>\n",
       "    <tr>\n",
       "      <th>8</th>\n",
       "      <td>[Abbé Julien Sorel, Dieu]</td>\n",
       "      <td>[[«, descends, animal, », bruit, machine, empê...</td>\n",
       "      <td>28</td>\n",
       "    </tr>\n",
       "    <tr>\n",
       "      <th>11</th>\n",
       "      <td>[M Fouqué, Abbé Julien Sorel]</td>\n",
       "      <td>[[usine, vain, sorel, chercha, fils, méfiant, ...</td>\n",
       "      <td>23</td>\n",
       "    </tr>\n",
       "    <tr>\n",
       "      <th>10</th>\n",
       "      <td>[Abbé Julien Sorel, Abbé Chélan]</td>\n",
       "      <td>[[âme, feu, julien, mémoires, étonnantes, unie...</td>\n",
       "      <td>19</td>\n",
       "    </tr>\n",
       "    <tr>\n",
       "      <th>106</th>\n",
       "      <td>[Abbé Julien Sorel, Comte Norbert]</td>\n",
       "      <td>[[, norbert, demande, bontés, m, julien, sorel...</td>\n",
       "      <td>15</td>\n",
       "    </tr>\n",
       "    <tr>\n",
       "      <th>29</th>\n",
       "      <td>[Abbé Julien Sorel, Mme Derville]</td>\n",
       "      <td>[[arrivée, mme, derville, sembla, julien, amie...</td>\n",
       "      <td>14</td>\n",
       "    </tr>\n",
       "    <tr>\n",
       "      <th>2</th>\n",
       "      <td>[M Rênal, Mme Rênal]</td>\n",
       "      <td>[[jour, automne, m, rênal, promenait, cours, f...</td>\n",
       "      <td>12</td>\n",
       "    </tr>\n",
       "    <tr>\n",
       "      <th>36</th>\n",
       "      <td>[M Valenod, Abbé Julien Sorel]</td>\n",
       "      <td>[[fallut, pourtant, paraître, verrières, sorta...</td>\n",
       "      <td>11</td>\n",
       "    </tr>\n",
       "    <tr>\n",
       "      <th>76</th>\n",
       "      <td>[Amanda, Abbé Julien Sorel]</td>\n",
       "      <td>[[, fumée, pipe, tousser, venez, déjeuner, dem...</td>\n",
       "      <td>11</td>\n",
       "    </tr>\n",
       "    <tr>\n",
       "      <th>121</th>\n",
       "      <td>[Croisenois, Mole Mathilde]</td>\n",
       "      <td>[[moment, marquis, croisenois, avançait, empre...</td>\n",
       "      <td>11</td>\n",
       "    </tr>\n",
       "    <tr>\n",
       "      <th>157</th>\n",
       "      <td>[Abbé Julien Sorel, Mole Mathilde, Mme Rênal]</td>\n",
       "      <td>[[moment, entendu, cantilène, sublime, existai...</td>\n",
       "      <td>10</td>\n",
       "    </tr>\n",
       "    <tr>\n",
       "      <th>128</th>\n",
       "      <td>[Comte Altamira, Abbé Julien Sorel]</td>\n",
       "      <td>[[julien, rapprochait, place, causant, altamir...</td>\n",
       "      <td>10</td>\n",
       "    </tr>\n",
       "    <tr>\n",
       "      <th>12</th>\n",
       "      <td>[Abbé Julien Sorel, Général Napoléon]</td>\n",
       "      <td>[[coup, julien, cessa, napoléon, annonça, proj...</td>\n",
       "      <td>10</td>\n",
       "    </tr>\n",
       "    <tr>\n",
       "      <th>7</th>\n",
       "      <td>[M Valenod, M Rênal, Abbé Julien Sorel]</td>\n",
       "      <td>[[demande, frappa, maire, sorel, ravi, comblé,...</td>\n",
       "      <td>10</td>\n",
       "    </tr>\n",
       "  </tbody>\n",
       "</table>\n",
       "</div>"
      ],
      "text/plain": [
       "                                          entities  \\\n",
       "16                  [Abbé Julien Sorel, Mme Rênal]   \n",
       "107             [Abbé Julien Sorel, Mole Mathilde]   \n",
       "0                     [M Rênal, Abbé Julien Sorel]   \n",
       "77                   [Abbé Julien Sorel, M Pirard]   \n",
       "17         [M Rênal, Abbé Julien Sorel, Mme Rênal]   \n",
       "8                        [Abbé Julien Sorel, Dieu]   \n",
       "11                   [M Fouqué, Abbé Julien Sorel]   \n",
       "10                [Abbé Julien Sorel, Abbé Chélan]   \n",
       "106             [Abbé Julien Sorel, Comte Norbert]   \n",
       "29               [Abbé Julien Sorel, Mme Derville]   \n",
       "2                             [M Rênal, Mme Rênal]   \n",
       "36                  [M Valenod, Abbé Julien Sorel]   \n",
       "76                     [Amanda, Abbé Julien Sorel]   \n",
       "121                    [Croisenois, Mole Mathilde]   \n",
       "157  [Abbé Julien Sorel, Mole Mathilde, Mme Rênal]   \n",
       "128            [Comte Altamira, Abbé Julien Sorel]   \n",
       "12           [Abbé Julien Sorel, Général Napoléon]   \n",
       "7          [M Valenod, M Rênal, Abbé Julien Sorel]   \n",
       "\n",
       "                                          interactions  nber_interactions  \n",
       "16   [[julien, cœur, troublé, arrivée, maison, extr...                121  \n",
       "107  [[lendemain, fort, bonne, heure, julien, faisa...                103  \n",
       "0    [[attendez, point, trouver, france, jardins, p...                 50  \n",
       "77   [[julien, releva, yeux, effort, voix, battemen...                 39  \n",
       "17   [[teint, petit, paysan, blanc, yeux, doux, esp...                 35  \n",
       "8    [[«, descends, animal, », bruit, machine, empê...                 28  \n",
       "11   [[usine, vain, sorel, chercha, fils, méfiant, ...                 23  \n",
       "10   [[âme, feu, julien, mémoires, étonnantes, unie...                 19  \n",
       "106  [[, norbert, demande, bontés, m, julien, sorel...                 15  \n",
       "29   [[arrivée, mme, derville, sembla, julien, amie...                 14  \n",
       "2    [[jour, automne, m, rênal, promenait, cours, f...                 12  \n",
       "36   [[fallut, pourtant, paraître, verrières, sorta...                 11  \n",
       "76   [[, fumée, pipe, tousser, venez, déjeuner, dem...                 11  \n",
       "121  [[moment, marquis, croisenois, avançait, empre...                 11  \n",
       "157  [[moment, entendu, cantilène, sublime, existai...                 10  \n",
       "128  [[julien, rapprochait, place, causant, altamir...                 10  \n",
       "12   [[coup, julien, cessa, napoléon, annonça, proj...                 10  \n",
       "7    [[demande, frappa, maire, sorel, ravi, comblé,...                 10  "
      ]
     },
     "execution_count": 19,
     "metadata": {},
     "output_type": "execute_result"
    }
   ],
   "source": [
    "interactions_df[interactions_df.nber_interactions>=10]"
   ]
  },
  {
   "cell_type": "code",
   "execution_count": 20,
   "id": "4bd36936-1ea6-4a83-92ee-aa1edb983dc3",
   "metadata": {},
   "outputs": [],
   "source": [
    "temp_interactions_df = interactions_df[interactions_df.nber_interactions>=10]"
   ]
  },
  {
   "cell_type": "markdown",
   "id": "8f98e2b3-7643-4c13-b460-e820f7f9647f",
   "metadata": {
    "tags": []
   },
   "source": [
    "### embeddings of interactions"
   ]
  },
  {
   "cell_type": "code",
   "execution_count": 21,
   "id": "f5cee418-000f-4db0-b1f7-16a2a0b1cb40",
   "metadata": {
    "tags": []
   },
   "outputs": [
    {
     "name": "stderr",
     "output_type": "stream",
     "text": [
      "Some weights of the model checkpoint at flaubert/flaubert_base_cased were not used when initializing FlaubertModel: ['pred_layer.proj.weight', 'pred_layer.proj.bias']\n",
      "- This IS expected if you are initializing FlaubertModel from the checkpoint of a model trained on another task or with another architecture (e.g. initializing a BertForSequenceClassification model from a BertForPreTraining model).\n",
      "- This IS NOT expected if you are initializing FlaubertModel from the checkpoint of a model that you expect to be exactly identical (initializing a BertForSequenceClassification model from a BertForSequenceClassification model).\n"
     ]
    }
   ],
   "source": [
    "model_name = 'flaubert/flaubert_base_cased' \n",
    "\n",
    "# Load pretrained model and tokenizer\n",
    "flaubert, log = FlaubertModel.from_pretrained(model_name, output_loading_info=True)\n",
    "flaubert_tokenizer = FlaubertTokenizer.from_pretrained(model_name, do_lowercase=False)\n",
    "\n",
    "def from_interaction_to_embeddings (list_interactions) :\n",
    "    embeddings = []\n",
    "    for interaction in list_interactions :\n",
    "        token_ids = torch.tensor([flaubert_tokenizer.encode(interaction)])\n",
    "        last_layer = flaubert(token_ids)[0][:,1:-1, :]\n",
    "\n",
    "        # possibilité de faire d'autres opérations\n",
    "        # embeddings.append(torch.mean(last_layer, dim = 1).detach().numpy()[0])\n",
    "        embeddings.append(last_layer.detach().numpy())\n",
    "    return embeddings\n",
    "\n",
    "interactions_df['embeddings'] = interactions_df.interactions.apply(\n",
    "    lambda x : from_interaction_to_embeddings(x))\n",
    "                                                             "
   ]
  },
  {
   "cell_type": "code",
   "execution_count": 22,
   "id": "054a9759-cf20-44c5-bca5-2c2552361d5e",
   "metadata": {
    "tags": []
   },
   "outputs": [
    {
     "data": {
      "text/html": [
       "<div>\n",
       "<style scoped>\n",
       "    .dataframe tbody tr th:only-of-type {\n",
       "        vertical-align: middle;\n",
       "    }\n",
       "\n",
       "    .dataframe tbody tr th {\n",
       "        vertical-align: top;\n",
       "    }\n",
       "\n",
       "    .dataframe thead th {\n",
       "        text-align: right;\n",
       "    }\n",
       "</style>\n",
       "<table border=\"1\" class=\"dataframe\">\n",
       "  <thead>\n",
       "    <tr style=\"text-align: right;\">\n",
       "      <th></th>\n",
       "      <th>entities</th>\n",
       "      <th>interactions</th>\n",
       "      <th>nber_interactions</th>\n",
       "      <th>embeddings</th>\n",
       "    </tr>\n",
       "  </thead>\n",
       "  <tbody>\n",
       "    <tr>\n",
       "      <th>16</th>\n",
       "      <td>[Abbé Julien Sorel, Mme Rênal]</td>\n",
       "      <td>[[julien, cœur, troublé, arrivée, maison, extr...</td>\n",
       "      <td>121</td>\n",
       "      <td>[[[[-1.69170570e+00  1.40950024e-01 -1.8633192...</td>\n",
       "    </tr>\n",
       "    <tr>\n",
       "      <th>107</th>\n",
       "      <td>[Abbé Julien Sorel, Mole Mathilde]</td>\n",
       "      <td>[[lendemain, fort, bonne, heure, julien, faisa...</td>\n",
       "      <td>103</td>\n",
       "      <td>[[[[-2.24937177e+00  1.60060018e-01 -6.7021524...</td>\n",
       "    </tr>\n",
       "    <tr>\n",
       "      <th>0</th>\n",
       "      <td>[M Rênal, Abbé Julien Sorel]</td>\n",
       "      <td>[[attendez, point, trouver, france, jardins, p...</td>\n",
       "      <td>50</td>\n",
       "      <td>[[[[-1.64440823e+00  3.79631668e-01 -3.0213564...</td>\n",
       "    </tr>\n",
       "    <tr>\n",
       "      <th>77</th>\n",
       "      <td>[Abbé Julien Sorel, M Pirard]</td>\n",
       "      <td>[[julien, releva, yeux, effort, voix, battemen...</td>\n",
       "      <td>39</td>\n",
       "      <td>[[[[-1.07017457e+00  7.07997799e-01 -3.9844560...</td>\n",
       "    </tr>\n",
       "    <tr>\n",
       "      <th>17</th>\n",
       "      <td>[M Rênal, Abbé Julien Sorel, Mme Rênal]</td>\n",
       "      <td>[[teint, petit, paysan, blanc, yeux, doux, esp...</td>\n",
       "      <td>35</td>\n",
       "      <td>[[[[-1.83049548e+00  3.43182534e-01 -2.7170208...</td>\n",
       "    </tr>\n",
       "  </tbody>\n",
       "</table>\n",
       "</div>"
      ],
      "text/plain": [
       "                                    entities  \\\n",
       "16            [Abbé Julien Sorel, Mme Rênal]   \n",
       "107       [Abbé Julien Sorel, Mole Mathilde]   \n",
       "0               [M Rênal, Abbé Julien Sorel]   \n",
       "77             [Abbé Julien Sorel, M Pirard]   \n",
       "17   [M Rênal, Abbé Julien Sorel, Mme Rênal]   \n",
       "\n",
       "                                          interactions  nber_interactions  \\\n",
       "16   [[julien, cœur, troublé, arrivée, maison, extr...                121   \n",
       "107  [[lendemain, fort, bonne, heure, julien, faisa...                103   \n",
       "0    [[attendez, point, trouver, france, jardins, p...                 50   \n",
       "77   [[julien, releva, yeux, effort, voix, battemen...                 39   \n",
       "17   [[teint, petit, paysan, blanc, yeux, doux, esp...                 35   \n",
       "\n",
       "                                            embeddings  \n",
       "16   [[[[-1.69170570e+00  1.40950024e-01 -1.8633192...  \n",
       "107  [[[[-2.24937177e+00  1.60060018e-01 -6.7021524...  \n",
       "0    [[[[-1.64440823e+00  3.79631668e-01 -3.0213564...  \n",
       "77   [[[[-1.07017457e+00  7.07997799e-01 -3.9844560...  \n",
       "17   [[[[-1.83049548e+00  3.43182534e-01 -2.7170208...  "
      ]
     },
     "execution_count": 22,
     "metadata": {},
     "output_type": "execute_result"
    }
   ],
   "source": [
    "interactions_df.head()"
   ]
  },
  {
   "cell_type": "code",
   "execution_count": 23,
   "id": "21f1bcf9-21f2-483d-a354-04a848046b82",
   "metadata": {},
   "outputs": [],
   "source": [
    "renal_sorel = interactions_df.iloc[0].embeddings"
   ]
  },
  {
   "cell_type": "markdown",
   "id": "237d939f-21dc-4612-9a82-5572869f2ff9",
   "metadata": {
    "tags": []
   },
   "source": [
    "## PCA"
   ]
  },
  {
   "cell_type": "code",
   "execution_count": 24,
   "id": "f98f8ff6-f4e3-4915-962e-80ec4fc1802c",
   "metadata": {
    "tags": []
   },
   "outputs": [],
   "source": [
    "from sklearn.decomposition import PCA"
   ]
  },
  {
   "cell_type": "code",
   "execution_count": null,
   "id": "95392d93-339e-4a48-ac4d-fe333af80176",
   "metadata": {},
   "outputs": [
    {
     "name": "stderr",
     "output_type": "stream",
     "text": [
      "  0%|                                                   | 0/121 [00:00<?, ?it/s]"
     ]
    }
   ],
   "source": [
    "renal_sorel_pca = []\n",
    "pca = PCA(n_components=2, svd_solver='full')\n",
    "for emb in tqdm(renal_sorel) :\n",
    "    temp = emb[0]\n",
    "    pca.fit_transform(temp)\n",
    "    renal_sorel_pca.append(pca.explained_variance_ratio_)\n",
    "    # break"
   ]
  },
  {
   "cell_type": "code",
   "execution_count": 49,
   "id": "1949ca91-f973-4ec1-98b2-5f0e549138e6",
   "metadata": {},
   "outputs": [
    {
     "data": {
      "text/plain": [
       "[array([0.08546833, 0.04961655], dtype=float32)]"
      ]
     },
     "execution_count": 49,
     "metadata": {},
     "output_type": "execute_result"
    }
   ],
   "source": [
    "renal_sorel_pca"
   ]
  },
  {
   "cell_type": "code",
   "execution_count": null,
   "id": "de18bbda-f528-4592-b3f9-e5858eed3c8c",
   "metadata": {},
   "outputs": [],
   "source": [
    "renal_sorel_pca"
   ]
  },
  {
   "cell_type": "code",
   "execution_count": 35,
   "id": "e354968c-9d54-4e23-86af-1d98e280d7e0",
   "metadata": {
    "tags": []
   },
   "outputs": [
    {
     "name": "stderr",
     "output_type": "stream",
     "text": [
      "  0%|                                                   | 0/121 [00:00<?, ?it/s]"
     ]
    },
    {
     "name": "stdout",
     "output_type": "stream",
     "text": [
      "(1, 768)\n"
     ]
    },
    {
     "name": "stderr",
     "output_type": "stream",
     "text": [
      "\n"
     ]
    },
    {
     "ename": "ValueError",
     "evalue": "n_components=2 must be between 0 and min(n_samples, n_features)=1 with svd_solver='full'",
     "output_type": "error",
     "traceback": [
      "\u001b[0;31m---------------------------------------------------------------------------\u001b[0m",
      "\u001b[0;31mValueError\u001b[0m                                Traceback (most recent call last)",
      "\u001b[0;32m/tmp/ipykernel_665783/2753057210.py\u001b[0m in \u001b[0;36m<module>\u001b[0;34m\u001b[0m\n\u001b[1;32m      3\u001b[0m     \u001b[0memb\u001b[0m \u001b[0;34m=\u001b[0m \u001b[0mrenal_sorel\u001b[0m\u001b[0;34m[\u001b[0m\u001b[0memb_idx\u001b[0m\u001b[0;34m,\u001b[0m\u001b[0;34m:\u001b[0m\u001b[0;34m]\u001b[0m\u001b[0;34m.\u001b[0m\u001b[0mreshape\u001b[0m\u001b[0;34m(\u001b[0m\u001b[0;34m(\u001b[0m\u001b[0;36m1\u001b[0m\u001b[0;34m,\u001b[0m\u001b[0;36m768\u001b[0m\u001b[0;34m)\u001b[0m\u001b[0;34m)\u001b[0m\u001b[0;34m\u001b[0m\u001b[0;34m\u001b[0m\u001b[0m\n\u001b[1;32m      4\u001b[0m     \u001b[0mprint\u001b[0m\u001b[0;34m(\u001b[0m\u001b[0memb\u001b[0m\u001b[0;34m.\u001b[0m\u001b[0mshape\u001b[0m\u001b[0;34m)\u001b[0m\u001b[0;34m\u001b[0m\u001b[0;34m\u001b[0m\u001b[0m\n\u001b[0;32m----> 5\u001b[0;31m     \u001b[0mpca\u001b[0m\u001b[0;34m.\u001b[0m\u001b[0mfit_transform\u001b[0m\u001b[0;34m(\u001b[0m\u001b[0memb\u001b[0m\u001b[0;34m)\u001b[0m\u001b[0;34m\u001b[0m\u001b[0;34m\u001b[0m\u001b[0m\n\u001b[0m\u001b[1;32m      6\u001b[0m     \u001b[0mrenal_sorel_pca\u001b[0m\u001b[0;34m.\u001b[0m\u001b[0mappend\u001b[0m\u001b[0;34m(\u001b[0m\u001b[0mpca\u001b[0m\u001b[0;34m.\u001b[0m\u001b[0mexplained_variance_ratio_\u001b[0m\u001b[0;34m)\u001b[0m\u001b[0;34m\u001b[0m\u001b[0;34m\u001b[0m\u001b[0m\n",
      "\u001b[0;32m/scratch/students/doyard/lib/python3.8/site-packages/sklearn/decomposition/_pca.py\u001b[0m in \u001b[0;36mfit_transform\u001b[0;34m(self, X, y)\u001b[0m\n\u001b[1;32m    405\u001b[0m         \u001b[0mC\u001b[0m\u001b[0;34m-\u001b[0m\u001b[0mordered\u001b[0m \u001b[0marray\u001b[0m\u001b[0;34m,\u001b[0m \u001b[0muse\u001b[0m \u001b[0;34m'np.ascontiguousarray'\u001b[0m\u001b[0;34m.\u001b[0m\u001b[0;34m\u001b[0m\u001b[0;34m\u001b[0m\u001b[0m\n\u001b[1;32m    406\u001b[0m         \"\"\"\n\u001b[0;32m--> 407\u001b[0;31m         \u001b[0mU\u001b[0m\u001b[0;34m,\u001b[0m \u001b[0mS\u001b[0m\u001b[0;34m,\u001b[0m \u001b[0mVt\u001b[0m \u001b[0;34m=\u001b[0m \u001b[0mself\u001b[0m\u001b[0;34m.\u001b[0m\u001b[0m_fit\u001b[0m\u001b[0;34m(\u001b[0m\u001b[0mX\u001b[0m\u001b[0;34m)\u001b[0m\u001b[0;34m\u001b[0m\u001b[0;34m\u001b[0m\u001b[0m\n\u001b[0m\u001b[1;32m    408\u001b[0m         \u001b[0mU\u001b[0m \u001b[0;34m=\u001b[0m \u001b[0mU\u001b[0m\u001b[0;34m[\u001b[0m\u001b[0;34m:\u001b[0m\u001b[0;34m,\u001b[0m \u001b[0;34m:\u001b[0m \u001b[0mself\u001b[0m\u001b[0;34m.\u001b[0m\u001b[0mn_components_\u001b[0m\u001b[0;34m]\u001b[0m\u001b[0;34m\u001b[0m\u001b[0;34m\u001b[0m\u001b[0m\n\u001b[1;32m    409\u001b[0m \u001b[0;34m\u001b[0m\u001b[0m\n",
      "\u001b[0;32m/scratch/students/doyard/lib/python3.8/site-packages/sklearn/decomposition/_pca.py\u001b[0m in \u001b[0;36m_fit\u001b[0;34m(self, X)\u001b[0m\n\u001b[1;32m    455\u001b[0m         \u001b[0;31m# Call different fits for either full or truncated SVD\u001b[0m\u001b[0;34m\u001b[0m\u001b[0;34m\u001b[0m\u001b[0;34m\u001b[0m\u001b[0m\n\u001b[1;32m    456\u001b[0m         \u001b[0;32mif\u001b[0m \u001b[0mself\u001b[0m\u001b[0;34m.\u001b[0m\u001b[0m_fit_svd_solver\u001b[0m \u001b[0;34m==\u001b[0m \u001b[0;34m\"full\"\u001b[0m\u001b[0;34m:\u001b[0m\u001b[0;34m\u001b[0m\u001b[0;34m\u001b[0m\u001b[0m\n\u001b[0;32m--> 457\u001b[0;31m             \u001b[0;32mreturn\u001b[0m \u001b[0mself\u001b[0m\u001b[0;34m.\u001b[0m\u001b[0m_fit_full\u001b[0m\u001b[0;34m(\u001b[0m\u001b[0mX\u001b[0m\u001b[0;34m,\u001b[0m \u001b[0mn_components\u001b[0m\u001b[0;34m)\u001b[0m\u001b[0;34m\u001b[0m\u001b[0;34m\u001b[0m\u001b[0m\n\u001b[0m\u001b[1;32m    458\u001b[0m         \u001b[0;32melif\u001b[0m \u001b[0mself\u001b[0m\u001b[0;34m.\u001b[0m\u001b[0m_fit_svd_solver\u001b[0m \u001b[0;32min\u001b[0m \u001b[0;34m[\u001b[0m\u001b[0;34m\"arpack\"\u001b[0m\u001b[0;34m,\u001b[0m \u001b[0;34m\"randomized\"\u001b[0m\u001b[0;34m]\u001b[0m\u001b[0;34m:\u001b[0m\u001b[0;34m\u001b[0m\u001b[0;34m\u001b[0m\u001b[0m\n\u001b[1;32m    459\u001b[0m             \u001b[0;32mreturn\u001b[0m \u001b[0mself\u001b[0m\u001b[0;34m.\u001b[0m\u001b[0m_fit_truncated\u001b[0m\u001b[0;34m(\u001b[0m\u001b[0mX\u001b[0m\u001b[0;34m,\u001b[0m \u001b[0mn_components\u001b[0m\u001b[0;34m,\u001b[0m \u001b[0mself\u001b[0m\u001b[0;34m.\u001b[0m\u001b[0m_fit_svd_solver\u001b[0m\u001b[0;34m)\u001b[0m\u001b[0;34m\u001b[0m\u001b[0;34m\u001b[0m\u001b[0m\n",
      "\u001b[0;32m/scratch/students/doyard/lib/python3.8/site-packages/sklearn/decomposition/_pca.py\u001b[0m in \u001b[0;36m_fit_full\u001b[0;34m(self, X, n_components)\u001b[0m\n\u001b[1;32m    473\u001b[0m                 )\n\u001b[1;32m    474\u001b[0m         \u001b[0;32melif\u001b[0m \u001b[0;32mnot\u001b[0m \u001b[0;36m0\u001b[0m \u001b[0;34m<=\u001b[0m \u001b[0mn_components\u001b[0m \u001b[0;34m<=\u001b[0m \u001b[0mmin\u001b[0m\u001b[0;34m(\u001b[0m\u001b[0mn_samples\u001b[0m\u001b[0;34m,\u001b[0m \u001b[0mn_features\u001b[0m\u001b[0;34m)\u001b[0m\u001b[0;34m:\u001b[0m\u001b[0;34m\u001b[0m\u001b[0;34m\u001b[0m\u001b[0m\n\u001b[0;32m--> 475\u001b[0;31m             raise ValueError(\n\u001b[0m\u001b[1;32m    476\u001b[0m                 \u001b[0;34m\"n_components=%r must be between 0 and \"\u001b[0m\u001b[0;34m\u001b[0m\u001b[0;34m\u001b[0m\u001b[0m\n\u001b[1;32m    477\u001b[0m                 \u001b[0;34m\"min(n_samples, n_features)=%r with \"\u001b[0m\u001b[0;34m\u001b[0m\u001b[0;34m\u001b[0m\u001b[0m\n",
      "\u001b[0;31mValueError\u001b[0m: n_components=2 must be between 0 and min(n_samples, n_features)=1 with svd_solver='full'"
     ]
    }
   ],
   "source": [
    "renal_sorel_pca = []\n",
    "for emb_idx in tqdm(range(renal_sorel.shape[0])) :\n",
    "    emb = renal_sorel[emb_idx,:].reshape((1,768))\n",
    "    print(emb.shape)\n",
    "    pca.fit_transform(emb)\n",
    "    renal_sorel_pca.append(pca.explained_variance_ratio_)"
   ]
  },
  {
   "cell_type": "code",
   "execution_count": 34,
   "id": "1c2939e7-9e64-43bf-8692-077ebd9c5c3c",
   "metadata": {},
   "outputs": [
    {
     "data": {
      "text/plain": [
       "(121, 768)"
      ]
     },
     "execution_count": 34,
     "metadata": {},
     "output_type": "execute_result"
    }
   ],
   "source": [
    "renal_sorel.shape"
   ]
  },
  {
   "cell_type": "code",
   "execution_count": null,
   "id": "2c3115b4-2c12-4f75-ac08-bae84b97de3d",
   "metadata": {},
   "outputs": [],
   "source": [
    "pca.fit(renal_sorel)\n"
   ]
  }
 ],
 "metadata": {
  "kernelspec": {
   "display_name": "Python 3 (ipykernel)",
   "language": "python",
   "name": "python3"
  },
  "language_info": {
   "codemirror_mode": {
    "name": "ipython",
    "version": 3
   },
   "file_extension": ".py",
   "mimetype": "text/x-python",
   "name": "python",
   "nbconvert_exporter": "python",
   "pygments_lexer": "ipython3",
   "version": "3.8.12"
  }
 },
 "nbformat": 4,
 "nbformat_minor": 5
}
